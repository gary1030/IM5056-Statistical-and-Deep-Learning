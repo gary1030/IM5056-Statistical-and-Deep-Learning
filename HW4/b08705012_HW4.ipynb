{
 "cells": [
  {
   "cell_type": "markdown",
   "metadata": {},
   "source": [
    "# B08705012 胡家愷 HW4"
   ]
  },
  {
   "cell_type": "code",
   "execution_count": 15,
   "metadata": {},
   "outputs": [
    {
     "name": "stdout",
     "output_type": "stream",
     "text": [
      "X_train shape =  (463715, 90)\n",
      "X_subtrain shape =  (417344, 90)\n",
      "X_valid shape =  (46371, 90)\n",
      "Y_subtrain shape =  (417344,)\n",
      "Y_valid shape =  (46371,)\n",
      "X_test shape =  (51630, 90)\n"
     ]
    }
   ],
   "source": [
    "# load packages\n",
    "%matplotlib inline\n",
    "import pickle\n",
    "from sklearn import preprocessing\n",
    "\n",
    "# Load data\n",
    "with open('msd_full.pickle', 'rb') as fh1:\n",
    "    msd_data = pickle.load(fh1)\n",
    "\n",
    "doscaling = 1\n",
    "if (doscaling == 1):\n",
    "    xscaler = preprocessing.StandardScaler().fit(msd_data['X_train'])\n",
    "    # standardize feature values\n",
    "    X_train = xscaler.transform(msd_data['X_train'])\n",
    "    X_test = xscaler.transform(msd_data['X_test'])\n",
    "else:\n",
    "    X_train = msd_data['X_train']\n",
    "    X_test = msd_data['X_test']\n",
    "\n",
    "Y_train = msd_data['Y_train']\n",
    "Y_test = msd_data['Y_test'].astype('float32')\n",
    "X_test = X_test.astype('float32')\n",
    "\n",
    "y_mean = Y_train.mean()\n",
    "Y_train_keep = Y_train.copy()\n",
    "Y_test_keep = Y_test.copy()\n",
    "Y_train = Y_train - y_mean\n",
    "Y_test = Y_test - y_mean\n",
    "\n",
    "\n",
    "# validation is the last 10% of training, subtraining is the first 90% of training\n",
    "nvalid = int(X_train.shape[0] * 0.1)\n",
    "nsubtrain = X_train.shape[0] - nvalid\n",
    "\n",
    "X_subtrain = X_train[0:nsubtrain, :].astype('float32')\n",
    "X_valid = X_train[nsubtrain:, :].astype('float32')\n",
    "Y_subtrain = Y_train[0:nsubtrain].astype('float32')\n",
    "Y_valid = Y_train[nsubtrain:].astype('float32')\n",
    "\n",
    "Y_subtrain_keep = Y_train_keep[0:nsubtrain].astype('float32')\n",
    "Y_valid_keep = Y_train_keep[nsubtrain:].astype('float32')\n",
    "\n",
    "print(\"X_train shape = \", X_train.shape)\n",
    "print(\"X_subtrain shape = \", X_subtrain.shape)\n",
    "print(\"X_valid shape = \", X_valid.shape)\n",
    "print(\"Y_subtrain shape = \", Y_subtrain.shape)\n",
    "print(\"Y_valid shape = \", Y_valid.shape)\n",
    "print(\"X_test shape = \", X_test.shape)"
   ]
  },
  {
   "cell_type": "code",
   "execution_count": 16,
   "metadata": {},
   "outputs": [
    {
     "name": "stdout",
     "output_type": "stream",
     "text": [
      "True\n"
     ]
    }
   ],
   "source": [
    "import torch\n",
    "print(torch.cuda.is_available())"
   ]
  },
  {
   "cell_type": "markdown",
   "metadata": {},
   "source": [
    "## Q1\n",
    "使用Training資料訓練一個Ordinary Least Square模型，並進行預測。列出此模型的RMSE與前五個特徵的參數。OLS模型應包含常數項，且不應有任何Regularization。"
   ]
  },
  {
   "cell_type": "code",
   "execution_count": 81,
   "metadata": {},
   "outputs": [
    {
     "name": "stdout",
     "output_type": "stream",
     "text": [
      "First 5 coefficients: [ 5.30975265 -2.88088114 -1.53234348  0.05737583 -0.33952889]\n",
      "RMSE =  9.510160706438722\n"
     ]
    }
   ],
   "source": [
    "from sklearn.metrics import mean_squared_error\n",
    "from sklearn.linear_model import LinearRegression\n",
    "\n",
    "reg = LinearRegression(n_jobs=-1)\n",
    "reg.fit(X_train, Y_train_keep)\n",
    "print(\"First 5 coefficients:\", reg.coef_[0:5])\n",
    "y_pred = reg.predict(X_test)\n",
    "\n",
    "\n",
    "# squared: bool, default=True\n",
    "# If True returns MSE value, if False returns RMSE value.\n",
    "print(\"RMSE = \", mean_squared_error(Y_test_keep, y_pred, squared=False))"
   ]
  },
  {
   "cell_type": "markdown",
   "metadata": {},
   "source": [
    "## Q2\n",
    "\n",
    "- 建構一個有四層Hidden Layer的MLP。\n",
    "- 此模型由輸入層開始，90個Input Features通過線性層轉換為H個Hidden Nodes，\n",
    "- 通過ReLu Activation Function，此為第一層Hidden Layer。\n",
    "- 接著通過下一個線性層與ReLu Activation Function，此為第二層。\n",
    "- 接著下一個線性層與ReLu Activation Function，此為第三層。 \n",
    "- 然後下一個線性層與ReLu Activation Function，此為第四層。\n",
    "- 最後通過一個線性層輸出。 所有Hidden Layer的寬度都為H。\n",
    "\n",
    "令 H= 45, 使用 SGD 更新參數，設 Learning Rate = 0.00001，無 Weight Decay 與 Momentum。畫出模型訓練過程中的 Training 與Validation RMSE，列出 Test RMSE。\n",
    "並討論訓練過程中 Training 與 Validation RMSE 的圖形意義。"
   ]
  },
  {
   "cell_type": "code",
   "execution_count": 18,
   "metadata": {},
   "outputs": [],
   "source": [
    "import torch\n",
    "from torch.utils import data\n",
    "\n",
    "class Dataset(data.Dataset):\n",
    "  def __init__(self, X, Y):\n",
    "        self.labels = Y\n",
    "        self.len = X.shape[0]\n",
    "        self.X = X\n",
    "        self.Y = Y\n",
    "        \n",
    "\n",
    "  def __len__(self):\n",
    "        return self.len\n",
    "\n",
    "  def __getitem__(self, index):\n",
    "        X = self.X[index]\n",
    "        y = self.Y[index]\n",
    "        return X, y"
   ]
  },
  {
   "cell_type": "markdown",
   "metadata": {},
   "source": [
    "### Create Dataloader"
   ]
  },
  {
   "cell_type": "code",
   "execution_count": 19,
   "metadata": {},
   "outputs": [],
   "source": [
    "trainset = Dataset(X_train, Y_train)\n",
    "subtrainset = Dataset(X_subtrain, Y_subtrain)\n",
    "validset = Dataset(X_valid, Y_valid)\n",
    "testset = Dataset(X_test, Y_test)\n",
    "\n",
    "trainloader = data.DataLoader(trainset, batch_size=1000, shuffle=True, num_workers=0)\n",
    "subtrainloader = data.DataLoader(subtrainset, batch_size=1000, shuffle=True, num_workers=0)\n",
    "validloader = data.DataLoader(validset, batch_size=10000, shuffle=True, num_workers=0)\n",
    "testloader = data.DataLoader(testset, batch_size=10000, shuffle=True, num_workers=0)"
   ]
  },
  {
   "cell_type": "markdown",
   "metadata": {},
   "source": [
    "### Create Model"
   ]
  },
  {
   "cell_type": "markdown",
   "metadata": {},
   "source": [
    "- Minibatch: 1,000個資料點，更新參數之後稱為經歷了一個Batch。\n",
    "- 當所有 Subtraining 資料已經用來更新過模型參數，稱為經過了一個Epoch。\n",
    "- 每 100 個 Batch 計算一次 Training and Validation RMSE。\n",
    "- 如果 Validation 為歷史最低，則記下當下的模型參數與當時已進行的 Batch 數量，稱為best_step_count。\n",
    "- early_stop 設為 5,000 個 Batch。"
   ]
  },
  {
   "cell_type": "code",
   "execution_count": 24,
   "metadata": {},
   "outputs": [],
   "source": [
    "import numpy as np\n",
    "\n",
    "def train(net, optimizer, loss_func, trainloader, validloader, epochs=100, patient=5000, model_path='model/result.ckpt', verbose=True):\n",
    "    '''\n",
    "    ### Parameters\n",
    "    - net: model\n",
    "    - optimizer: optimizer (Adam or SGD)\n",
    "    - loss_func: loss function\n",
    "    - trainloader: training data loader\n",
    "    - validloader: validation data loader\n",
    "    - epochs: number of epochs\n",
    "    - patient: number of batches to wait before early stopping\n",
    "    - verbose: print training progress\n",
    "    - model_path: path to save model\n",
    "    '''\n",
    "    device = torch.device(\"cuda:0\" if torch.cuda.is_available() else \"cpu\")\n",
    "    step_count = 0\n",
    "    best_step_count = 0\n",
    "    interval = 100\n",
    "\n",
    "    train_loss_list = []\n",
    "    valid_loss_list = []\n",
    "    best_valid_rmse = float(\"inf\")\n",
    "\n",
    "    best_net_state = {}\n",
    "    stop = False\n",
    "\n",
    "    for epoch in range(epochs):\n",
    "        if stop:\n",
    "            break\n",
    "        for _, (data, target) in enumerate(trainloader):\n",
    "            step_count += 1\n",
    "            net.train()\n",
    "            target = target.reshape((-1, 1))\n",
    "            data = data.to(device)\n",
    "            target = target.to(device)\n",
    "\n",
    "            optimizer.zero_grad()\n",
    "            output = net(data)\n",
    "            \n",
    "            loss = loss_func(output, target)\n",
    "            loss.backward()\n",
    "            optimizer.step()\n",
    "\n",
    "            # 每 100 個 Batch 計算一次 Training and Validation RMSE\n",
    "            if step_count % interval == 0:\n",
    "                net.eval() # change to evaluation mode\n",
    "                # calculate training loss with current model\n",
    "                train_loss = 0\n",
    "                for _, (data, target) in enumerate(trainloader):\n",
    "                    target = target.reshape((-1, 1))\n",
    "                    data = data.to(device)\n",
    "                    target = target.to(device)\n",
    "                    output = net(data)\n",
    "                    train_loss += torch.nn.MSELoss(reduction='sum')(output, target).item()\n",
    "                    \n",
    "                train_rmse = np.sqrt(train_loss / len(trainloader.dataset))\n",
    "                train_loss_list.append(train_rmse)      \n",
    "                \n",
    "                # calculate validation loss with current model\n",
    "                valid_loss = 0   \n",
    "                for _, (data, target) in enumerate(validloader):\n",
    "                    target = target.reshape((-1, 1))\n",
    "                    data = data.to(device)\n",
    "                    target = target.to(device)\n",
    "                    output = net(data)\n",
    "                    valid_loss += torch.nn.MSELoss(reduction='sum')(output, target).item()\n",
    "                \n",
    "                valid_rmse = np.sqrt(valid_loss / len(validloader.dataset))\n",
    "                valid_loss_list.append(valid_rmse)\n",
    "\n",
    "                if verbose:\n",
    "                    print(f'[Epoch {epoch+1:3}] | Step {step_count:5} | Train RMSE {train_rmse:7.5f} | Valid RMSE {valid_rmse:7.5f}')\n",
    "                \n",
    "                # if current valid rmse < history best valid rmse, store current model to be the best model\n",
    "                if valid_rmse < best_valid_rmse:\n",
    "                    best_valid_rmse = valid_rmse\n",
    "                    best_step_count = step_count\n",
    "                    best_net_state = net.state_dict()\n",
    "                    torch.save(net, model_path)\n",
    "                elif step_count - best_step_count > patient:\n",
    "                    print(\"Early stopping at epoch\", epoch+1)\n",
    "                    stop = True\n",
    "                    break\n",
    "    return net, best_net_state, train_loss_list, valid_loss_list"
   ]
  },
  {
   "cell_type": "code",
   "execution_count": 69,
   "metadata": {},
   "outputs": [],
   "source": [
    "def mlp_model(input_size, hidden_size, output_size):\n",
    "    model = torch.nn.Sequential(\n",
    "        torch.nn.Linear(input_size, hidden_size),\n",
    "        torch.nn.ReLU(),\n",
    "        torch.nn.Linear(hidden_size, hidden_size),\n",
    "        torch.nn.ReLU(),\n",
    "        torch.nn.Linear(hidden_size, hidden_size),\n",
    "        torch.nn.ReLU(),\n",
    "        torch.nn.Linear(hidden_size, hidden_size),\n",
    "        torch.nn.ReLU(),\n",
    "        torch.nn.Linear(hidden_size, output_size)\n",
    "    )\n",
    "    return model\n",
    "\n",
    "net = mlp_model(trainset.X.shape[1], 45, 1)"
   ]
  },
  {
   "cell_type": "code",
   "execution_count": 70,
   "metadata": {},
   "outputs": [],
   "source": [
    "device = torch.device(\"cuda:0\" if torch.cuda.is_available() else \"cpu\")\n",
    "net = net.float()\n",
    "net = net.to(device)\n",
    "\n",
    "optimizer = torch.optim.SGD(net.parameters(), lr=0.00001, momentum=0, weight_decay=0)\n",
    "loss_func = torch.nn.MSELoss(reduction='sum')"
   ]
  },
  {
   "cell_type": "code",
   "execution_count": 71,
   "metadata": {},
   "outputs": [
    {
     "name": "stdout",
     "output_type": "stream",
     "text": [
      "[Epoch   1] | Step   100 | Train RMSE 10.41547 | Valid RMSE 10.38396\n",
      "[Epoch   1] | Step   200 | Train RMSE 9.07251 | Valid RMSE 9.01504\n",
      "[Epoch   1] | Step   300 | Train RMSE 8.93476 | Valid RMSE 8.89086\n",
      "[Epoch   1] | Step   400 | Train RMSE 8.87534 | Valid RMSE 8.82968\n",
      "[Epoch   2] | Step   500 | Train RMSE 8.80478 | Valid RMSE 8.76968\n",
      "[Epoch   2] | Step   600 | Train RMSE 8.77039 | Valid RMSE 8.72926\n",
      "[Epoch   2] | Step   700 | Train RMSE 8.81023 | Valid RMSE 8.76850\n",
      "[Epoch   2] | Step   800 | Train RMSE 8.72083 | Valid RMSE 8.69310\n",
      "[Epoch   3] | Step   900 | Train RMSE 8.69865 | Valid RMSE 8.67299\n",
      "[Epoch   3] | Step  1000 | Train RMSE 8.86097 | Valid RMSE 8.83654\n",
      "[Epoch   3] | Step  1100 | Train RMSE 8.66732 | Valid RMSE 8.66266\n",
      "[Epoch   3] | Step  1200 | Train RMSE 8.67670 | Valid RMSE 8.68127\n",
      "[Epoch   4] | Step  1300 | Train RMSE 8.74293 | Valid RMSE 8.75605\n",
      "[Epoch   4] | Step  1400 | Train RMSE 8.65008 | Valid RMSE 8.66834\n",
      "[Epoch   4] | Step  1500 | Train RMSE 8.63895 | Valid RMSE 8.65320\n",
      "[Epoch   4] | Step  1600 | Train RMSE 8.61950 | Valid RMSE 8.63298\n",
      "[Epoch   5] | Step  1700 | Train RMSE 8.59042 | Valid RMSE 8.61110\n",
      "[Epoch   5] | Step  1800 | Train RMSE 8.66412 | Valid RMSE 8.69261\n",
      "[Epoch   5] | Step  1900 | Train RMSE 8.58375 | Valid RMSE 8.61991\n",
      "[Epoch   5] | Step  2000 | Train RMSE 8.67087 | Valid RMSE 8.71595\n",
      "[Epoch   6] | Step  2100 | Train RMSE 8.56676 | Valid RMSE 8.62216\n",
      "[Epoch   6] | Step  2200 | Train RMSE 8.60685 | Valid RMSE 8.66720\n",
      "[Epoch   6] | Step  2300 | Train RMSE 8.57279 | Valid RMSE 8.63289\n",
      "[Epoch   6] | Step  2400 | Train RMSE 8.59979 | Valid RMSE 8.66679\n",
      "[Epoch   6] | Step  2500 | Train RMSE 8.55761 | Valid RMSE 8.62157\n",
      "[Epoch   7] | Step  2600 | Train RMSE 8.54712 | Valid RMSE 8.61997\n",
      "[Epoch   7] | Step  2700 | Train RMSE 8.55423 | Valid RMSE 8.60325\n",
      "[Epoch   7] | Step  2800 | Train RMSE 8.60523 | Valid RMSE 8.68545\n",
      "[Epoch   7] | Step  2900 | Train RMSE 8.52771 | Valid RMSE 8.59941\n",
      "[Epoch   8] | Step  3000 | Train RMSE 8.59581 | Valid RMSE 8.66069\n",
      "[Epoch   8] | Step  3100 | Train RMSE 8.56940 | Valid RMSE 8.64495\n",
      "[Epoch   8] | Step  3200 | Train RMSE 8.52610 | Valid RMSE 8.61791\n",
      "[Epoch   8] | Step  3300 | Train RMSE 8.53023 | Valid RMSE 8.60611\n",
      "[Epoch   9] | Step  3400 | Train RMSE 8.50297 | Valid RMSE 8.57802\n",
      "[Epoch   9] | Step  3500 | Train RMSE 8.49640 | Valid RMSE 8.58836\n",
      "[Epoch   9] | Step  3600 | Train RMSE 8.50942 | Valid RMSE 8.61298\n",
      "[Epoch   9] | Step  3700 | Train RMSE 8.48024 | Valid RMSE 8.56426\n",
      "[Epoch  10] | Step  3800 | Train RMSE 8.50216 | Valid RMSE 8.60506\n",
      "[Epoch  10] | Step  3900 | Train RMSE 8.46311 | Valid RMSE 8.57568\n",
      "[Epoch  10] | Step  4000 | Train RMSE 8.46137 | Valid RMSE 8.56796\n",
      "[Epoch  10] | Step  4100 | Train RMSE 8.48786 | Valid RMSE 8.61514\n",
      "[Epoch  11] | Step  4200 | Train RMSE 8.47612 | Valid RMSE 8.57511\n",
      "[Epoch  11] | Step  4300 | Train RMSE 8.48078 | Valid RMSE 8.60089\n",
      "[Epoch  11] | Step  4400 | Train RMSE 8.44930 | Valid RMSE 8.56361\n",
      "[Epoch  11] | Step  4500 | Train RMSE 8.44217 | Valid RMSE 8.58394\n",
      "[Epoch  12] | Step  4600 | Train RMSE 8.44941 | Valid RMSE 8.58414\n",
      "[Epoch  12] | Step  4700 | Train RMSE 8.44982 | Valid RMSE 8.58426\n",
      "[Epoch  12] | Step  4800 | Train RMSE 8.45115 | Valid RMSE 8.57789\n",
      "[Epoch  12] | Step  4900 | Train RMSE 8.45507 | Valid RMSE 8.58846\n",
      "[Epoch  12] | Step  5000 | Train RMSE 8.42663 | Valid RMSE 8.57562\n",
      "[Epoch  13] | Step  5100 | Train RMSE 8.43891 | Valid RMSE 8.59192\n",
      "[Epoch  13] | Step  5200 | Train RMSE 8.43863 | Valid RMSE 8.59479\n",
      "[Epoch  13] | Step  5300 | Train RMSE 8.43403 | Valid RMSE 8.58178\n",
      "[Epoch  13] | Step  5400 | Train RMSE 8.42795 | Valid RMSE 8.57677\n",
      "[Epoch  14] | Step  5500 | Train RMSE 8.45626 | Valid RMSE 8.63401\n",
      "[Epoch  14] | Step  5600 | Train RMSE 8.43218 | Valid RMSE 8.59357\n",
      "[Epoch  14] | Step  5700 | Train RMSE 8.47136 | Valid RMSE 8.67082\n",
      "[Epoch  14] | Step  5800 | Train RMSE 8.39967 | Valid RMSE 8.56718\n",
      "[Epoch  15] | Step  5900 | Train RMSE 8.39086 | Valid RMSE 8.56975\n",
      "[Epoch  15] | Step  6000 | Train RMSE 8.40374 | Valid RMSE 8.59902\n",
      "[Epoch  15] | Step  6100 | Train RMSE 8.38286 | Valid RMSE 8.56631\n",
      "[Epoch  15] | Step  6200 | Train RMSE 8.42272 | Valid RMSE 8.59323\n",
      "[Epoch  16] | Step  6300 | Train RMSE 8.43064 | Valid RMSE 8.59212\n",
      "[Epoch  16] | Step  6400 | Train RMSE 8.38066 | Valid RMSE 8.55752\n",
      "[Epoch  16] | Step  6500 | Train RMSE 8.42706 | Valid RMSE 8.59579\n",
      "[Epoch  16] | Step  6600 | Train RMSE 8.36752 | Valid RMSE 8.56216\n",
      "[Epoch  17] | Step  6700 | Train RMSE 8.41927 | Valid RMSE 8.61453\n",
      "[Epoch  17] | Step  6800 | Train RMSE 8.41043 | Valid RMSE 8.62199\n",
      "[Epoch  17] | Step  6900 | Train RMSE 8.35744 | Valid RMSE 8.58499\n",
      "[Epoch  17] | Step  7000 | Train RMSE 8.36463 | Valid RMSE 8.57389\n",
      "[Epoch  17] | Step  7100 | Train RMSE 8.42421 | Valid RMSE 8.58364\n",
      "[Epoch  18] | Step  7200 | Train RMSE 8.35297 | Valid RMSE 8.57700\n",
      "[Epoch  18] | Step  7300 | Train RMSE 8.37038 | Valid RMSE 8.58923\n",
      "[Epoch  18] | Step  7400 | Train RMSE 8.35950 | Valid RMSE 8.57210\n",
      "[Epoch  18] | Step  7500 | Train RMSE 8.39040 | Valid RMSE 8.62165\n",
      "[Epoch  19] | Step  7600 | Train RMSE 8.35230 | Valid RMSE 8.55831\n",
      "[Epoch  19] | Step  7700 | Train RMSE 8.36535 | Valid RMSE 8.57214\n",
      "[Epoch  19] | Step  7800 | Train RMSE 8.34666 | Valid RMSE 8.58526\n",
      "[Epoch  19] | Step  7900 | Train RMSE 8.34638 | Valid RMSE 8.56676\n",
      "[Epoch  20] | Step  8000 | Train RMSE 8.36687 | Valid RMSE 8.62045\n",
      "[Epoch  20] | Step  8100 | Train RMSE 8.38983 | Valid RMSE 8.60575\n",
      "[Epoch  20] | Step  8200 | Train RMSE 8.35598 | Valid RMSE 8.56740\n",
      "[Epoch  20] | Step  8300 | Train RMSE 8.35137 | Valid RMSE 8.57445\n",
      "[Epoch  21] | Step  8400 | Train RMSE 8.34104 | Valid RMSE 8.62308\n",
      "[Epoch  21] | Step  8500 | Train RMSE 8.34139 | Valid RMSE 8.56776\n",
      "[Epoch  21] | Step  8600 | Train RMSE 8.32409 | Valid RMSE 8.57049\n",
      "[Epoch  21] | Step  8700 | Train RMSE 8.42279 | Valid RMSE 8.67330\n",
      "[Epoch  22] | Step  8800 | Train RMSE 8.35102 | Valid RMSE 8.55764\n",
      "[Epoch  22] | Step  8900 | Train RMSE 8.31868 | Valid RMSE 8.56607\n",
      "[Epoch  22] | Step  9000 | Train RMSE 8.34369 | Valid RMSE 8.57510\n",
      "[Epoch  22] | Step  9100 | Train RMSE 8.34236 | Valid RMSE 8.56956\n",
      "[Epoch  23] | Step  9200 | Train RMSE 8.33031 | Valid RMSE 8.58905\n",
      "[Epoch  23] | Step  9300 | Train RMSE 8.32855 | Valid RMSE 8.62596\n",
      "[Epoch  23] | Step  9400 | Train RMSE 8.30996 | Valid RMSE 8.53970\n",
      "[Epoch  23] | Step  9500 | Train RMSE 8.32573 | Valid RMSE 8.60729\n",
      "[Epoch  23] | Step  9600 | Train RMSE 8.31104 | Valid RMSE 8.57315\n",
      "[Epoch  24] | Step  9700 | Train RMSE 8.32284 | Valid RMSE 8.60920\n",
      "[Epoch  24] | Step  9800 | Train RMSE 8.33621 | Valid RMSE 8.63178\n",
      "[Epoch  24] | Step  9900 | Train RMSE 8.32776 | Valid RMSE 8.58067\n",
      "[Epoch  24] | Step 10000 | Train RMSE 8.30328 | Valid RMSE 8.55981\n",
      "[Epoch  25] | Step 10100 | Train RMSE 8.31986 | Valid RMSE 8.55492\n",
      "[Epoch  25] | Step 10200 | Train RMSE 8.32700 | Valid RMSE 8.62928\n",
      "[Epoch  25] | Step 10300 | Train RMSE 8.28687 | Valid RMSE 8.57449\n",
      "[Epoch  25] | Step 10400 | Train RMSE 8.32500 | Valid RMSE 8.62661\n",
      "[Epoch  26] | Step 10500 | Train RMSE 8.30005 | Valid RMSE 8.62714\n",
      "[Epoch  26] | Step 10600 | Train RMSE 8.28225 | Valid RMSE 8.59904\n",
      "[Epoch  26] | Step 10700 | Train RMSE 8.28658 | Valid RMSE 8.56484\n",
      "[Epoch  26] | Step 10800 | Train RMSE 8.29283 | Valid RMSE 8.62258\n",
      "[Epoch  27] | Step 10900 | Train RMSE 8.27063 | Valid RMSE 8.56281\n",
      "[Epoch  27] | Step 11000 | Train RMSE 8.32193 | Valid RMSE 8.59411\n",
      "[Epoch  27] | Step 11100 | Train RMSE 8.27028 | Valid RMSE 8.56275\n",
      "[Epoch  27] | Step 11200 | Train RMSE 8.29041 | Valid RMSE 8.56208\n",
      "[Epoch  28] | Step 11300 | Train RMSE 8.26259 | Valid RMSE 8.56138\n",
      "[Epoch  28] | Step 11400 | Train RMSE 8.25981 | Valid RMSE 8.56852\n",
      "[Epoch  28] | Step 11500 | Train RMSE 8.25841 | Valid RMSE 8.59327\n",
      "[Epoch  28] | Step 11600 | Train RMSE 8.27480 | Valid RMSE 8.57437\n",
      "[Epoch  28] | Step 11700 | Train RMSE 8.28864 | Valid RMSE 8.56592\n",
      "[Epoch  29] | Step 11800 | Train RMSE 8.31040 | Valid RMSE 8.58633\n",
      "[Epoch  29] | Step 11900 | Train RMSE 8.26405 | Valid RMSE 8.59727\n",
      "[Epoch  29] | Step 12000 | Train RMSE 8.26380 | Valid RMSE 8.56949\n",
      "[Epoch  29] | Step 12100 | Train RMSE 8.29680 | Valid RMSE 8.57394\n",
      "[Epoch  30] | Step 12200 | Train RMSE 8.28041 | Valid RMSE 8.63642\n",
      "[Epoch  30] | Step 12300 | Train RMSE 8.27154 | Valid RMSE 8.61890\n",
      "[Epoch  30] | Step 12400 | Train RMSE 8.25767 | Valid RMSE 8.55588\n",
      "[Epoch  30] | Step 12500 | Train RMSE 8.29293 | Valid RMSE 8.67662\n",
      "[Epoch  31] | Step 12600 | Train RMSE 8.26626 | Valid RMSE 8.59108\n",
      "[Epoch  31] | Step 12700 | Train RMSE 8.26888 | Valid RMSE 8.59166\n",
      "[Epoch  31] | Step 12800 | Train RMSE 8.25799 | Valid RMSE 8.58980\n",
      "[Epoch  31] | Step 12900 | Train RMSE 8.25076 | Valid RMSE 8.57627\n",
      "[Epoch  32] | Step 13000 | Train RMSE 8.27732 | Valid RMSE 8.67253\n",
      "[Epoch  32] | Step 13100 | Train RMSE 8.32565 | Valid RMSE 8.73180\n",
      "[Epoch  32] | Step 13200 | Train RMSE 8.25148 | Valid RMSE 8.56695\n",
      "[Epoch  32] | Step 13300 | Train RMSE 8.27366 | Valid RMSE 8.61052\n",
      "[Epoch  33] | Step 13400 | Train RMSE 8.24008 | Valid RMSE 8.58614\n",
      "[Epoch  33] | Step 13500 | Train RMSE 8.26928 | Valid RMSE 8.60292\n",
      "[Epoch  33] | Step 13600 | Train RMSE 8.23239 | Valid RMSE 8.61015\n",
      "[Epoch  33] | Step 13700 | Train RMSE 8.24598 | Valid RMSE 8.60882\n",
      "[Epoch  34] | Step 13800 | Train RMSE 8.22331 | Valid RMSE 8.58614\n",
      "[Epoch  34] | Step 13900 | Train RMSE 8.22512 | Valid RMSE 8.58933\n",
      "[Epoch  34] | Step 14000 | Train RMSE 8.23019 | Valid RMSE 8.57315\n",
      "[Epoch  34] | Step 14100 | Train RMSE 8.24290 | Valid RMSE 8.58322\n",
      "[Epoch  34] | Step 14200 | Train RMSE 8.28275 | Valid RMSE 8.67128\n",
      "[Epoch  35] | Step 14300 | Train RMSE 8.23331 | Valid RMSE 8.59346\n",
      "[Epoch  35] | Step 14400 | Train RMSE 8.30621 | Valid RMSE 8.71360\n",
      "[Epoch  35] | Step 14500 | Train RMSE 8.24503 | Valid RMSE 8.61559\n",
      "Early stopping at epoch 35\n"
     ]
    }
   ],
   "source": [
    "model, best_net_state, train_loss_list, valid_loss_list = train(net, optimizer=optimizer, loss_func=loss_func, trainloader=subtrainloader, validloader=validloader, epochs=100, model_path=\"model/q2.ckpt\")"
   ]
  },
  {
   "cell_type": "code",
   "execution_count": 72,
   "metadata": {},
   "outputs": [
    {
     "data": {
      "text/plain": [
       "[Text(0.5, 0, 'number of batches'), Text(0, 0.5, 'RMSE')]"
      ]
     },
     "execution_count": 72,
     "metadata": {},
     "output_type": "execute_result"
    },
    {
     "data": {
      "image/png": "[encoded data removed]",
      "text/plain": [
       "<Figure size 640x480 with 1 Axes>"
      ]
     },
     "metadata": {},
     "output_type": "display_data"
    }
   ],
   "source": [
    "import seaborn as sns\n",
    "import pandas as pd\n",
    "\n",
    "df_loss = pd.DataFrame({\"train_rmse\": train_loss_list, \"valid_rmse\": valid_loss_list})\n",
    "\n",
    "ax = sns.lineplot(data=df_loss, dashes=False)\n",
    "ax.set(xlabel='number of batches', ylabel='RMSE')"
   ]
  },
  {
   "cell_type": "code",
   "execution_count": 29,
   "metadata": {},
   "outputs": [],
   "source": [
    "def test(net, testloader):\n",
    "    net.eval()\n",
    "    test_loss = 0\n",
    "    test_loss_cnt = 0\n",
    "    for _, (data, target) in enumerate(testloader):\n",
    "        target = target.reshape((-1, 1))\n",
    "        data = data.to(device)\n",
    "        target = target.to(device)\n",
    "        output = net(data)\n",
    "        loss = loss_func(output, target)\n",
    "        test_loss += loss.item()\n",
    "        test_loss_cnt += data.shape[0]\n",
    "    test_rmse = np.sqrt(test_loss / test_loss_cnt)\n",
    "    print(\"Test RMSE: \", test_rmse)    "
   ]
  },
  {
   "cell_type": "code",
   "execution_count": 73,
   "metadata": {},
   "outputs": [
    {
     "name": "stdout",
     "output_type": "stream",
     "text": [
      "Test RMSE:  8.828461184762496\n"
     ]
    }
   ],
   "source": [
    "model = torch.load('model/q2.ckpt')\n",
    "test(model, testloader)"
   ]
  },
  {
   "cell_type": "markdown",
   "metadata": {},
   "source": [
    "我們可以發現 validation 的 rmse 在大概 15 個 batch 之後就會穩定在 training 的 rmse 上方，這是預期且合理的，我們接著可以發現 validation 大概到 40 個 batch 之後就趨於穩定，rmse 不沒有再繼續減少，但 training rmse 持續減少，這時候代表可能開始出現 overfitting 的現象，但模型在 epoch 36 就及時做出 early stopping，避免 overfitting 太嚴重。"
   ]
  },
  {
   "cell_type": "markdown",
   "metadata": {},
   "source": [
    "## Q3\n",
    "使用H = 90與180。無須畫訓練過程的RMSE。列出這兩個Test RMSE。討論H = 45, 90, 180的Test RMSE。"
   ]
  },
  {
   "cell_type": "markdown",
   "metadata": {},
   "source": [
    "### H=90"
   ]
  },
  {
   "cell_type": "code",
   "execution_count": 35,
   "metadata": {},
   "outputs": [
    {
     "name": "stdout",
     "output_type": "stream",
     "text": [
      "Early stopping at epoch 23\n"
     ]
    }
   ],
   "source": [
    "net = mlp_model(trainset.X.shape[1], 90, 1)\n",
    "net = net.to(device)\n",
    "optimizer = torch.optim.SGD(net.parameters(), lr=0.00001, momentum=0, weight_decay=0)\n",
    "model, best_net_state, _, _ = train(net, optimizer=optimizer, loss_func=loss_func, trainloader=subtrainloader, validloader=validloader, epochs=100, verbose=False, model_path=\"model/q3_90.ckpt\")"
   ]
  },
  {
   "cell_type": "code",
   "execution_count": 36,
   "metadata": {},
   "outputs": [
    {
     "name": "stdout",
     "output_type": "stream",
     "text": [
      "Test RMSE:  8.80093818800341\n"
     ]
    }
   ],
   "source": [
    "model = torch.load('model/q3_90.ckpt')\n",
    "test(model, testloader)"
   ]
  },
  {
   "cell_type": "markdown",
   "metadata": {},
   "source": [
    "### H=180"
   ]
  },
  {
   "cell_type": "code",
   "execution_count": 37,
   "metadata": {},
   "outputs": [
    {
     "name": "stdout",
     "output_type": "stream",
     "text": [
      "Early stopping at epoch 23\n"
     ]
    }
   ],
   "source": [
    "net = mlp_model(trainset.X.shape[1], 180, 1)\n",
    "net = net.to(device)\n",
    "optimizer = torch.optim.SGD(net.parameters(), lr=0.00001, momentum=0, weight_decay=0)\n",
    "model, best_net_state, _, _ = train(net, optimizer=optimizer, loss_func=loss_func, trainloader=subtrainloader, validloader=validloader, epochs=100, verbose=False, model_path=\"model/q3_180.ckpt\")"
   ]
  },
  {
   "cell_type": "code",
   "execution_count": 38,
   "metadata": {},
   "outputs": [
    {
     "name": "stdout",
     "output_type": "stream",
     "text": [
      "Test RMSE:  8.841749610276855\n"
     ]
    }
   ],
   "source": [
    "model = torch.load('model/q3_180.ckpt')\n",
    "test(model, testloader)"
   ]
  },
  {
   "cell_type": "markdown",
   "metadata": {},
   "source": [
    "| H   | RMSE   |\n",
    "|-----|--------|\n",
    "| 45  | 8.9049 |\n",
    "| 90  | 8.8285 |\n",
    "| 180 | 8.8417 |"
   ]
  },
  {
   "cell_type": "markdown",
   "metadata": {},
   "source": [
    "由上表可知當隨著 H 變大，RMSE 會跟著變小再上升，H=90 時，RMSE 最小，因此在本題中，選擇 H=90 會是比較好的選擇。"
   ]
  },
  {
   "cell_type": "markdown",
   "metadata": {},
   "source": [
    "## Q4\n",
    "使用Q2的模型設定，考慮 H = 45, 90, 180與Weight Decay = 0.1, 0.2, 0.4的所有組合。模型估計後做表整理Test RMSE。討論H的選擇應為多少較合理?"
   ]
  },
  {
   "cell_type": "code",
   "execution_count": 41,
   "metadata": {},
   "outputs": [
    {
     "name": "stdout",
     "output_type": "stream",
     "text": [
      "H: 45 weight_decay: 0.1\n",
      "Early stopping at epoch 36\n",
      "Test RMSE:  8.822548017726076\n",
      "\n",
      "\n",
      "H: 45 weight_decay: 0.2\n",
      "Early stopping at epoch 37\n",
      "Test RMSE:  8.868997596473907\n",
      "\n",
      "\n",
      "H: 45 weight_decay: 0.4\n",
      "Early stopping at epoch 26\n",
      "Test RMSE:  8.81216097457302\n",
      "\n",
      "\n",
      "H: 90 weight_decay: 0.1\n",
      "Early stopping at epoch 26\n",
      "Test RMSE:  8.8434977107545\n",
      "\n",
      "\n",
      "H: 90 weight_decay: 0.2\n",
      "Early stopping at epoch 28\n",
      "Test RMSE:  8.846006188617366\n",
      "\n",
      "\n",
      "H: 90 weight_decay: 0.4\n",
      "Early stopping at epoch 23\n",
      "Test RMSE:  8.838997279430052\n",
      "\n",
      "\n",
      "H: 180 weight_decay: 0.1\n",
      "Early stopping at epoch 24\n",
      "Test RMSE:  8.897579257441652\n",
      "\n",
      "\n",
      "H: 180 weight_decay: 0.2\n",
      "Early stopping at epoch 20\n",
      "Test RMSE:  8.793388996750874\n",
      "\n",
      "\n",
      "H: 180 weight_decay: 0.4\n",
      "Early stopping at epoch 20\n",
      "Test RMSE:  8.829385976710999\n",
      "\n",
      "\n"
     ]
    }
   ],
   "source": [
    "H_list = [45, 90, 180]\n",
    "weight_decay_list = [0.1, 0.2, 0.4]\n",
    "\n",
    "for h in H_list:\n",
    "    for weight_decay in weight_decay_list:\n",
    "        print(\"H:\", h, \"weight_decay:\", weight_decay)\n",
    "        net = mlp_model(trainset.X.shape[1], h, 1)\n",
    "        net = net.float().to(device)\n",
    "        optimizer = torch.optim.SGD(net.parameters(), lr=0.00001, momentum=0, weight_decay=weight_decay)\n",
    "        model, best_net_state, _, _ = train(net, optimizer=optimizer, loss_func=loss_func, trainloader=subtrainloader, validloader=validloader, epochs=100, verbose=False, model_path=f\"model/q4_{h}_{weight_decay}.ckpt\")\n",
    "        model = torch.load(f\"model/q4_{h}_{weight_decay}.ckpt\")\n",
    "        test(model, testloader)\n",
    "        print(\"\\n\")"
   ]
  },
  {
   "cell_type": "markdown",
   "metadata": {},
   "source": [
    "| H\\Weight Decay | 0.1    | 0.2    | 0.4    |\n",
    "|----------------|--------|--------|--------|\n",
    "| 45             | 8.8225 | 8.8690 | 9.8122 |\n",
    "| 90             | 8.8435 | 8.8460 | 8.8390 |\n",
    "| 180            | 8.8976 | 8.7934 | 8.8294 |"
   ]
  },
  {
   "cell_type": "markdown",
   "metadata": {},
   "source": [
    "可以發現，當 weight dacay = 0.2 或 0.4 時，H 愈大， RMSE 愈小，當 weight decay = 0.1 時，H 愈小愈好。\n",
    "\n",
    "在本題中，H = 45, weight decay = 0.1，有最小的 RMSE，為最佳結果。"
   ]
  },
  {
   "cell_type": "markdown",
   "metadata": {},
   "source": [
    "## Q5\n",
    "建構一個有Dropout的四層Hidden Layer的MLP。\n",
    "- 第一層由90個Input Features通過線性層轉換為H個Hidden Nodes\n",
    "- 通過ReLu Activation Function\n",
    "- 對Hidden Unit Dropout，機率為0.5。\n",
    "- 後面各Hidden Lyaer均在ReLu後有Dropout，機率皆為0.5。\n",
    "- 最後通過一個線性層輸出。所有Hidden Layer的寬度都為H。\n",
    "\n",
    "- 令 H= 90, 使用Adaptive Moment Estimation (Adam)更新參數\n",
    "- 設Learning Rate = 0.001，無Weight Decay與Momentum。\n",
    "- 畫出模型訓練過程中的Training與Validation RMSE，列出Test RMSE。 並討論訓練過程中Training與Validation RMSE的圖形意義。"
   ]
  },
  {
   "cell_type": "code",
   "execution_count": 42,
   "metadata": {},
   "outputs": [],
   "source": [
    "def mlp_model_with_dropout(input_size, H, output_size, dropout_rate):\n",
    "    model = torch.nn.Sequential(\n",
    "        torch.nn.Linear(input_size, H),\n",
    "        torch.nn.ReLU(),\n",
    "        torch.nn.Dropout(dropout_rate),\n",
    "        torch.nn.Linear(H, H),\n",
    "        torch.nn.ReLU(),\n",
    "        torch.nn.Dropout(dropout_rate),\n",
    "        torch.nn.Linear(H, H),\n",
    "        torch.nn.ReLU(),\n",
    "        torch.nn.Dropout(dropout_rate),\n",
    "        torch.nn.Linear(H, H),\n",
    "        torch.nn.ReLU(),\n",
    "        torch.nn.Dropout(dropout_rate),\n",
    "        torch.nn.Linear(H, output_size)\n",
    "    )\n",
    "    return model"
   ]
  },
  {
   "cell_type": "code",
   "execution_count": 74,
   "metadata": {},
   "outputs": [],
   "source": [
    "net = mlp_model_with_dropout(trainset.X.shape[1], 90, 1, 0.5)\n",
    "net = net.float().to(device)\n",
    "optimizer = torch.optim.Adam(net.parameters(), lr=0.001, weight_decay=0)\n",
    "loss_func = torch.nn.MSELoss(reduction='sum')"
   ]
  },
  {
   "cell_type": "code",
   "execution_count": 75,
   "metadata": {},
   "outputs": [
    {
     "name": "stdout",
     "output_type": "stream",
     "text": [
      "[Epoch   1] | Step   100 | Train RMSE 9.47692 | Valid RMSE 9.43498\n",
      "[Epoch   1] | Step   200 | Train RMSE 9.17962 | Valid RMSE 9.12577\n",
      "[Epoch   1] | Step   300 | Train RMSE 9.06950 | Valid RMSE 9.01374\n",
      "[Epoch   1] | Step   400 | Train RMSE 9.03674 | Valid RMSE 8.98331\n",
      "[Epoch   2] | Step   500 | Train RMSE 8.94105 | Valid RMSE 8.89309\n",
      "[Epoch   2] | Step   600 | Train RMSE 8.89706 | Valid RMSE 8.84725\n",
      "[Epoch   2] | Step   700 | Train RMSE 8.89632 | Valid RMSE 8.85283\n",
      "[Epoch   2] | Step   800 | Train RMSE 8.88152 | Valid RMSE 8.83622\n",
      "[Epoch   3] | Step   900 | Train RMSE 8.85067 | Valid RMSE 8.80766\n",
      "[Epoch   3] | Step  1000 | Train RMSE 8.83325 | Valid RMSE 8.78801\n",
      "[Epoch   3] | Step  1100 | Train RMSE 8.80759 | Valid RMSE 8.77096\n",
      "[Epoch   3] | Step  1200 | Train RMSE 8.82361 | Valid RMSE 8.78592\n",
      "[Epoch   4] | Step  1300 | Train RMSE 8.79546 | Valid RMSE 8.75974\n",
      "[Epoch   4] | Step  1400 | Train RMSE 8.83196 | Valid RMSE 8.79192\n",
      "[Epoch   4] | Step  1500 | Train RMSE 8.79500 | Valid RMSE 8.76439\n",
      "[Epoch   4] | Step  1600 | Train RMSE 8.76645 | Valid RMSE 8.73647\n",
      "[Epoch   5] | Step  1700 | Train RMSE 8.77222 | Valid RMSE 8.74293\n",
      "[Epoch   5] | Step  1800 | Train RMSE 8.77145 | Valid RMSE 8.74254\n",
      "[Epoch   5] | Step  1900 | Train RMSE 8.75148 | Valid RMSE 8.72253\n",
      "[Epoch   5] | Step  2000 | Train RMSE 8.75541 | Valid RMSE 8.72606\n",
      "[Epoch   6] | Step  2100 | Train RMSE 8.74464 | Valid RMSE 8.72269\n",
      "[Epoch   6] | Step  2200 | Train RMSE 8.73920 | Valid RMSE 8.72054\n",
      "[Epoch   6] | Step  2300 | Train RMSE 8.71661 | Valid RMSE 8.70093\n",
      "[Epoch   6] | Step  2400 | Train RMSE 8.72670 | Valid RMSE 8.70470\n",
      "[Epoch   6] | Step  2500 | Train RMSE 8.71521 | Valid RMSE 8.70200\n",
      "[Epoch   7] | Step  2600 | Train RMSE 8.72850 | Valid RMSE 8.71383\n",
      "[Epoch   7] | Step  2700 | Train RMSE 8.72548 | Valid RMSE 8.71401\n",
      "[Epoch   7] | Step  2800 | Train RMSE 8.72079 | Valid RMSE 8.70659\n",
      "[Epoch   7] | Step  2900 | Train RMSE 8.68848 | Valid RMSE 8.67863\n",
      "[Epoch   8] | Step  3000 | Train RMSE 8.70488 | Valid RMSE 8.69307\n",
      "[Epoch   8] | Step  3100 | Train RMSE 8.70750 | Valid RMSE 8.69604\n",
      "[Epoch   8] | Step  3200 | Train RMSE 8.69559 | Valid RMSE 8.68746\n",
      "[Epoch   8] | Step  3300 | Train RMSE 8.69164 | Valid RMSE 8.68464\n",
      "[Epoch   9] | Step  3400 | Train RMSE 8.68035 | Valid RMSE 8.66988\n",
      "[Epoch   9] | Step  3500 | Train RMSE 8.68483 | Valid RMSE 8.68054\n",
      "[Epoch   9] | Step  3600 | Train RMSE 8.68087 | Valid RMSE 8.68532\n",
      "[Epoch   9] | Step  3700 | Train RMSE 8.68037 | Valid RMSE 8.67703\n",
      "[Epoch  10] | Step  3800 | Train RMSE 8.66231 | Valid RMSE 8.66537\n",
      "[Epoch  10] | Step  3900 | Train RMSE 8.68311 | Valid RMSE 8.68199\n",
      "[Epoch  10] | Step  4000 | Train RMSE 8.65871 | Valid RMSE 8.65598\n",
      "[Epoch  10] | Step  4100 | Train RMSE 8.64786 | Valid RMSE 8.64636\n",
      "[Epoch  11] | Step  4200 | Train RMSE 8.64387 | Valid RMSE 8.64117\n",
      "[Epoch  11] | Step  4300 | Train RMSE 8.67480 | Valid RMSE 8.68130\n",
      "[Epoch  11] | Step  4400 | Train RMSE 8.65171 | Valid RMSE 8.65533\n",
      "[Epoch  11] | Step  4500 | Train RMSE 8.69156 | Valid RMSE 8.69067\n",
      "[Epoch  12] | Step  4600 | Train RMSE 8.67008 | Valid RMSE 8.67562\n",
      "[Epoch  12] | Step  4700 | Train RMSE 8.65997 | Valid RMSE 8.66847\n",
      "[Epoch  12] | Step  4800 | Train RMSE 8.65719 | Valid RMSE 8.66052\n",
      "[Epoch  12] | Step  4900 | Train RMSE 8.65437 | Valid RMSE 8.65965\n",
      "[Epoch  12] | Step  5000 | Train RMSE 8.65769 | Valid RMSE 8.66161\n",
      "[Epoch  13] | Step  5100 | Train RMSE 8.64552 | Valid RMSE 8.64666\n",
      "[Epoch  13] | Step  5200 | Train RMSE 8.65972 | Valid RMSE 8.66460\n",
      "[Epoch  13] | Step  5300 | Train RMSE 8.63871 | Valid RMSE 8.64578\n",
      "[Epoch  13] | Step  5400 | Train RMSE 8.64819 | Valid RMSE 8.65785\n",
      "[Epoch  14] | Step  5500 | Train RMSE 8.63899 | Valid RMSE 8.64899\n",
      "[Epoch  14] | Step  5600 | Train RMSE 8.64756 | Valid RMSE 8.64726\n",
      "[Epoch  14] | Step  5700 | Train RMSE 8.62278 | Valid RMSE 8.63161\n",
      "[Epoch  14] | Step  5800 | Train RMSE 8.64305 | Valid RMSE 8.65882\n",
      "[Epoch  15] | Step  5900 | Train RMSE 8.65177 | Valid RMSE 8.66425\n",
      "[Epoch  15] | Step  6000 | Train RMSE 8.63740 | Valid RMSE 8.64903\n",
      "[Epoch  15] | Step  6100 | Train RMSE 8.64087 | Valid RMSE 8.65208\n",
      "[Epoch  15] | Step  6200 | Train RMSE 8.61159 | Valid RMSE 8.62655\n",
      "[Epoch  16] | Step  6300 | Train RMSE 8.61818 | Valid RMSE 8.63463\n",
      "[Epoch  16] | Step  6400 | Train RMSE 8.61852 | Valid RMSE 8.63239\n",
      "[Epoch  16] | Step  6500 | Train RMSE 8.62240 | Valid RMSE 8.63242\n",
      "[Epoch  16] | Step  6600 | Train RMSE 8.61137 | Valid RMSE 8.63060\n",
      "[Epoch  17] | Step  6700 | Train RMSE 8.62437 | Valid RMSE 8.63028\n",
      "[Epoch  17] | Step  6800 | Train RMSE 8.61999 | Valid RMSE 8.63347\n",
      "[Epoch  17] | Step  6900 | Train RMSE 8.60079 | Valid RMSE 8.62056\n",
      "[Epoch  17] | Step  7000 | Train RMSE 8.61561 | Valid RMSE 8.62587\n",
      "[Epoch  17] | Step  7100 | Train RMSE 8.61307 | Valid RMSE 8.62713\n",
      "[Epoch  18] | Step  7200 | Train RMSE 8.60221 | Valid RMSE 8.61961\n",
      "[Epoch  18] | Step  7300 | Train RMSE 8.59594 | Valid RMSE 8.61870\n",
      "[Epoch  18] | Step  7400 | Train RMSE 8.61495 | Valid RMSE 8.63630\n",
      "[Epoch  18] | Step  7500 | Train RMSE 8.58270 | Valid RMSE 8.60749\n",
      "[Epoch  19] | Step  7600 | Train RMSE 8.61082 | Valid RMSE 8.63530\n",
      "[Epoch  19] | Step  7700 | Train RMSE 8.61141 | Valid RMSE 8.63614\n",
      "[Epoch  19] | Step  7800 | Train RMSE 8.61690 | Valid RMSE 8.63390\n",
      "[Epoch  19] | Step  7900 | Train RMSE 8.60794 | Valid RMSE 8.63375\n",
      "[Epoch  20] | Step  8000 | Train RMSE 8.60279 | Valid RMSE 8.62571\n",
      "[Epoch  20] | Step  8100 | Train RMSE 8.60202 | Valid RMSE 8.62430\n",
      "[Epoch  20] | Step  8200 | Train RMSE 8.60533 | Valid RMSE 8.63080\n",
      "[Epoch  20] | Step  8300 | Train RMSE 8.60321 | Valid RMSE 8.61979\n",
      "[Epoch  21] | Step  8400 | Train RMSE 8.58377 | Valid RMSE 8.60947\n",
      "[Epoch  21] | Step  8500 | Train RMSE 8.59778 | Valid RMSE 8.63037\n",
      "[Epoch  21] | Step  8600 | Train RMSE 8.61476 | Valid RMSE 8.63681\n",
      "[Epoch  21] | Step  8700 | Train RMSE 8.58373 | Valid RMSE 8.60518\n",
      "[Epoch  22] | Step  8800 | Train RMSE 8.58440 | Valid RMSE 8.62029\n",
      "[Epoch  22] | Step  8900 | Train RMSE 8.59074 | Valid RMSE 8.62238\n",
      "[Epoch  22] | Step  9000 | Train RMSE 8.57184 | Valid RMSE 8.60153\n",
      "[Epoch  22] | Step  9100 | Train RMSE 8.59255 | Valid RMSE 8.62344\n",
      "[Epoch  23] | Step  9200 | Train RMSE 8.58029 | Valid RMSE 8.61121\n",
      "[Epoch  23] | Step  9300 | Train RMSE 8.57547 | Valid RMSE 8.61237\n",
      "[Epoch  23] | Step  9400 | Train RMSE 8.56753 | Valid RMSE 8.60529\n",
      "[Epoch  23] | Step  9500 | Train RMSE 8.59953 | Valid RMSE 8.62949\n",
      "[Epoch  23] | Step  9600 | Train RMSE 8.59007 | Valid RMSE 8.62362\n",
      "[Epoch  24] | Step  9700 | Train RMSE 8.59335 | Valid RMSE 8.62634\n",
      "[Epoch  24] | Step  9800 | Train RMSE 8.58124 | Valid RMSE 8.61689\n",
      "[Epoch  24] | Step  9900 | Train RMSE 8.57660 | Valid RMSE 8.61199\n",
      "[Epoch  24] | Step 10000 | Train RMSE 8.56399 | Valid RMSE 8.59688\n",
      "[Epoch  25] | Step 10100 | Train RMSE 8.55904 | Valid RMSE 8.60181\n",
      "[Epoch  25] | Step 10200 | Train RMSE 8.58057 | Valid RMSE 8.61850\n",
      "[Epoch  25] | Step 10300 | Train RMSE 8.57240 | Valid RMSE 8.61107\n",
      "[Epoch  25] | Step 10400 | Train RMSE 8.57798 | Valid RMSE 8.61566\n",
      "[Epoch  26] | Step 10500 | Train RMSE 8.56452 | Valid RMSE 8.60596\n",
      "[Epoch  26] | Step 10600 | Train RMSE 8.56120 | Valid RMSE 8.60239\n",
      "[Epoch  26] | Step 10700 | Train RMSE 8.56796 | Valid RMSE 8.61398\n",
      "[Epoch  26] | Step 10800 | Train RMSE 8.58361 | Valid RMSE 8.62898\n",
      "[Epoch  27] | Step 10900 | Train RMSE 8.55751 | Valid RMSE 8.60254\n",
      "[Epoch  27] | Step 11000 | Train RMSE 8.56317 | Valid RMSE 8.60450\n",
      "[Epoch  27] | Step 11100 | Train RMSE 8.56483 | Valid RMSE 8.59711\n",
      "[Epoch  27] | Step 11200 | Train RMSE 8.56572 | Valid RMSE 8.59884\n",
      "[Epoch  28] | Step 11300 | Train RMSE 8.56151 | Valid RMSE 8.59868\n",
      "[Epoch  28] | Step 11400 | Train RMSE 8.56809 | Valid RMSE 8.60537\n",
      "[Epoch  28] | Step 11500 | Train RMSE 8.57042 | Valid RMSE 8.61200\n",
      "[Epoch  28] | Step 11600 | Train RMSE 8.54929 | Valid RMSE 8.59334\n",
      "[Epoch  28] | Step 11700 | Train RMSE 8.56620 | Valid RMSE 8.60856\n",
      "[Epoch  29] | Step 11800 | Train RMSE 8.56204 | Valid RMSE 8.60655\n",
      "[Epoch  29] | Step 11900 | Train RMSE 8.57092 | Valid RMSE 8.61247\n",
      "[Epoch  29] | Step 12000 | Train RMSE 8.58246 | Valid RMSE 8.62611\n",
      "[Epoch  29] | Step 12100 | Train RMSE 8.54580 | Valid RMSE 8.59453\n",
      "[Epoch  30] | Step 12200 | Train RMSE 8.57391 | Valid RMSE 8.61964\n",
      "[Epoch  30] | Step 12300 | Train RMSE 8.56952 | Valid RMSE 8.61288\n",
      "[Epoch  30] | Step 12400 | Train RMSE 8.56504 | Valid RMSE 8.61264\n",
      "[Epoch  30] | Step 12500 | Train RMSE 8.57400 | Valid RMSE 8.62331\n",
      "[Epoch  31] | Step 12600 | Train RMSE 8.57082 | Valid RMSE 8.62102\n",
      "[Epoch  31] | Step 12700 | Train RMSE 8.55998 | Valid RMSE 8.61190\n",
      "[Epoch  31] | Step 12800 | Train RMSE 8.54506 | Valid RMSE 8.59578\n",
      "[Epoch  31] | Step 12900 | Train RMSE 8.54334 | Valid RMSE 8.59462\n",
      "[Epoch  32] | Step 13000 | Train RMSE 8.55080 | Valid RMSE 8.59628\n",
      "[Epoch  32] | Step 13100 | Train RMSE 8.56019 | Valid RMSE 8.61060\n",
      "[Epoch  32] | Step 13200 | Train RMSE 8.57895 | Valid RMSE 8.62523\n",
      "[Epoch  32] | Step 13300 | Train RMSE 8.54555 | Valid RMSE 8.59232\n",
      "[Epoch  33] | Step 13400 | Train RMSE 8.55163 | Valid RMSE 8.60628\n",
      "[Epoch  33] | Step 13500 | Train RMSE 8.53867 | Valid RMSE 8.59510\n",
      "[Epoch  33] | Step 13600 | Train RMSE 8.55696 | Valid RMSE 8.60645\n",
      "[Epoch  33] | Step 13700 | Train RMSE 8.55007 | Valid RMSE 8.60052\n",
      "[Epoch  34] | Step 13800 | Train RMSE 8.56169 | Valid RMSE 8.61062\n",
      "[Epoch  34] | Step 13900 | Train RMSE 8.53818 | Valid RMSE 8.58970\n",
      "[Epoch  34] | Step 14000 | Train RMSE 8.55607 | Valid RMSE 8.60794\n",
      "[Epoch  34] | Step 14100 | Train RMSE 8.52897 | Valid RMSE 8.57981\n",
      "[Epoch  34] | Step 14200 | Train RMSE 8.53693 | Valid RMSE 8.59553\n",
      "[Epoch  35] | Step 14300 | Train RMSE 8.53304 | Valid RMSE 8.60047\n",
      "[Epoch  35] | Step 14400 | Train RMSE 8.56732 | Valid RMSE 8.61408\n",
      "[Epoch  35] | Step 14500 | Train RMSE 8.54075 | Valid RMSE 8.59879\n",
      "[Epoch  35] | Step 14600 | Train RMSE 8.54228 | Valid RMSE 8.59902\n",
      "[Epoch  36] | Step 14700 | Train RMSE 8.56252 | Valid RMSE 8.61860\n",
      "[Epoch  36] | Step 14800 | Train RMSE 8.54538 | Valid RMSE 8.59932\n",
      "[Epoch  36] | Step 14900 | Train RMSE 8.54903 | Valid RMSE 8.59879\n",
      "[Epoch  36] | Step 15000 | Train RMSE 8.55608 | Valid RMSE 8.60004\n",
      "[Epoch  37] | Step 15100 | Train RMSE 8.53831 | Valid RMSE 8.59223\n",
      "[Epoch  37] | Step 15200 | Train RMSE 8.54555 | Valid RMSE 8.59683\n",
      "[Epoch  37] | Step 15300 | Train RMSE 8.53713 | Valid RMSE 8.59397\n",
      "[Epoch  37] | Step 15400 | Train RMSE 8.53917 | Valid RMSE 8.58972\n",
      "[Epoch  38] | Step 15500 | Train RMSE 8.54550 | Valid RMSE 8.60554\n",
      "[Epoch  38] | Step 15600 | Train RMSE 8.52950 | Valid RMSE 8.58312\n",
      "[Epoch  38] | Step 15700 | Train RMSE 8.55497 | Valid RMSE 8.60869\n",
      "[Epoch  38] | Step 15800 | Train RMSE 8.53657 | Valid RMSE 8.59250\n",
      "[Epoch  39] | Step 15900 | Train RMSE 8.55498 | Valid RMSE 8.59863\n",
      "[Epoch  39] | Step 16000 | Train RMSE 8.52018 | Valid RMSE 8.58349\n",
      "[Epoch  39] | Step 16100 | Train RMSE 8.53236 | Valid RMSE 8.59147\n",
      "[Epoch  39] | Step 16200 | Train RMSE 8.53392 | Valid RMSE 8.59188\n",
      "[Epoch  39] | Step 16300 | Train RMSE 8.52996 | Valid RMSE 8.59357\n",
      "[Epoch  40] | Step 16400 | Train RMSE 8.54800 | Valid RMSE 8.60955\n",
      "[Epoch  40] | Step 16500 | Train RMSE 8.51871 | Valid RMSE 8.59114\n",
      "[Epoch  40] | Step 16600 | Train RMSE 8.52430 | Valid RMSE 8.59041\n",
      "[Epoch  40] | Step 16700 | Train RMSE 8.54176 | Valid RMSE 8.60835\n",
      "[Epoch  41] | Step 16800 | Train RMSE 8.54710 | Valid RMSE 8.61374\n",
      "[Epoch  41] | Step 16900 | Train RMSE 8.52622 | Valid RMSE 8.59269\n",
      "[Epoch  41] | Step 17000 | Train RMSE 8.55440 | Valid RMSE 8.61136\n",
      "[Epoch  41] | Step 17100 | Train RMSE 8.52963 | Valid RMSE 8.58789\n",
      "[Epoch  42] | Step 17200 | Train RMSE 8.52028 | Valid RMSE 8.58713\n",
      "[Epoch  42] | Step 17300 | Train RMSE 8.52795 | Valid RMSE 8.59015\n",
      "[Epoch  42] | Step 17400 | Train RMSE 8.54314 | Valid RMSE 8.60485\n",
      "[Epoch  42] | Step 17500 | Train RMSE 8.52817 | Valid RMSE 8.59431\n",
      "[Epoch  43] | Step 17600 | Train RMSE 8.53055 | Valid RMSE 8.59310\n",
      "[Epoch  43] | Step 17700 | Train RMSE 8.51939 | Valid RMSE 8.59157\n",
      "[Epoch  43] | Step 17800 | Train RMSE 8.51959 | Valid RMSE 8.59339\n",
      "[Epoch  43] | Step 17900 | Train RMSE 8.52386 | Valid RMSE 8.59280\n",
      "[Epoch  44] | Step 18000 | Train RMSE 8.51298 | Valid RMSE 8.57817\n",
      "[Epoch  44] | Step 18100 | Train RMSE 8.52125 | Valid RMSE 8.58850\n",
      "[Epoch  44] | Step 18200 | Train RMSE 8.53216 | Valid RMSE 8.59194\n",
      "[Epoch  44] | Step 18300 | Train RMSE 8.52948 | Valid RMSE 8.59837\n",
      "[Epoch  45] | Step 18400 | Train RMSE 8.54036 | Valid RMSE 8.60907\n",
      "[Epoch  45] | Step 18500 | Train RMSE 8.53682 | Valid RMSE 8.60423\n",
      "[Epoch  45] | Step 18600 | Train RMSE 8.52789 | Valid RMSE 8.60299\n",
      "[Epoch  45] | Step 18700 | Train RMSE 8.52852 | Valid RMSE 8.59438\n",
      "[Epoch  45] | Step 18800 | Train RMSE 8.52711 | Valid RMSE 8.59776\n",
      "[Epoch  46] | Step 18900 | Train RMSE 8.54328 | Valid RMSE 8.61345\n",
      "[Epoch  46] | Step 19000 | Train RMSE 8.51295 | Valid RMSE 8.58945\n",
      "[Epoch  46] | Step 19100 | Train RMSE 8.51366 | Valid RMSE 8.59043\n",
      "[Epoch  46] | Step 19200 | Train RMSE 8.53654 | Valid RMSE 8.61616\n",
      "[Epoch  47] | Step 19300 | Train RMSE 8.53264 | Valid RMSE 8.61464\n",
      "[Epoch  47] | Step 19400 | Train RMSE 8.51443 | Valid RMSE 8.59512\n",
      "[Epoch  47] | Step 19500 | Train RMSE 8.51185 | Valid RMSE 8.60424\n",
      "[Epoch  47] | Step 19600 | Train RMSE 8.51281 | Valid RMSE 8.59289\n",
      "[Epoch  48] | Step 19700 | Train RMSE 8.50654 | Valid RMSE 8.59142\n",
      "[Epoch  48] | Step 19800 | Train RMSE 8.52491 | Valid RMSE 8.59948\n",
      "[Epoch  48] | Step 19900 | Train RMSE 8.53992 | Valid RMSE 8.61390\n",
      "[Epoch  48] | Step 20000 | Train RMSE 8.51022 | Valid RMSE 8.58834\n",
      "[Epoch  49] | Step 20100 | Train RMSE 8.50735 | Valid RMSE 8.58521\n",
      "[Epoch  49] | Step 20200 | Train RMSE 8.51332 | Valid RMSE 8.58816\n",
      "[Epoch  49] | Step 20300 | Train RMSE 8.50657 | Valid RMSE 8.59266\n",
      "[Epoch  49] | Step 20400 | Train RMSE 8.51967 | Valid RMSE 8.59915\n",
      "[Epoch  50] | Step 20500 | Train RMSE 8.52907 | Valid RMSE 8.60440\n",
      "[Epoch  50] | Step 20600 | Train RMSE 8.50360 | Valid RMSE 8.59175\n",
      "[Epoch  50] | Step 20700 | Train RMSE 8.53883 | Valid RMSE 8.61044\n",
      "[Epoch  50] | Step 20800 | Train RMSE 8.51395 | Valid RMSE 8.59296\n",
      "[Epoch  50] | Step 20900 | Train RMSE 8.52819 | Valid RMSE 8.59769\n",
      "[Epoch  51] | Step 21000 | Train RMSE 8.52255 | Valid RMSE 8.59680\n",
      "[Epoch  51] | Step 21100 | Train RMSE 8.51671 | Valid RMSE 8.59475\n",
      "[Epoch  51] | Step 21200 | Train RMSE 8.51611 | Valid RMSE 8.59514\n",
      "[Epoch  51] | Step 21300 | Train RMSE 8.52128 | Valid RMSE 8.58873\n",
      "[Epoch  52] | Step 21400 | Train RMSE 8.50913 | Valid RMSE 8.58398\n",
      "[Epoch  52] | Step 21500 | Train RMSE 8.50912 | Valid RMSE 8.58456\n",
      "[Epoch  52] | Step 21600 | Train RMSE 8.51217 | Valid RMSE 8.58809\n",
      "[Epoch  52] | Step 21700 | Train RMSE 8.52503 | Valid RMSE 8.60189\n",
      "[Epoch  53] | Step 21800 | Train RMSE 8.51573 | Valid RMSE 8.59918\n",
      "[Epoch  53] | Step 21900 | Train RMSE 8.51043 | Valid RMSE 8.59836\n",
      "[Epoch  53] | Step 22000 | Train RMSE 8.50648 | Valid RMSE 8.58627\n",
      "[Epoch  53] | Step 22100 | Train RMSE 8.51492 | Valid RMSE 8.58651\n",
      "[Epoch  54] | Step 22200 | Train RMSE 8.50294 | Valid RMSE 8.57928\n",
      "[Epoch  54] | Step 22300 | Train RMSE 8.50800 | Valid RMSE 8.59937\n",
      "[Epoch  54] | Step 22400 | Train RMSE 8.51451 | Valid RMSE 8.58988\n",
      "[Epoch  54] | Step 22500 | Train RMSE 8.51130 | Valid RMSE 8.58212\n",
      "[Epoch  55] | Step 22600 | Train RMSE 8.51077 | Valid RMSE 8.59374\n",
      "[Epoch  55] | Step 22700 | Train RMSE 8.50083 | Valid RMSE 8.59525\n",
      "[Epoch  55] | Step 22800 | Train RMSE 8.52767 | Valid RMSE 8.60296\n",
      "[Epoch  55] | Step 22900 | Train RMSE 8.49614 | Valid RMSE 8.58442\n",
      "[Epoch  56] | Step 23000 | Train RMSE 8.49527 | Valid RMSE 8.58160\n",
      "[Epoch  56] | Step 23100 | Train RMSE 8.50241 | Valid RMSE 8.58498\n",
      "Early stopping at epoch 56\n"
     ]
    }
   ],
   "source": [
    "model, best_net_state, train_loss_list, valid_loss_list = train(net, optimizer=optimizer, loss_func=loss_func, trainloader=subtrainloader, validloader=validloader, epochs=100, model_path=\"model/q5_90.ckpt\")"
   ]
  },
  {
   "cell_type": "code",
   "execution_count": 76,
   "metadata": {},
   "outputs": [
    {
     "data": {
      "text/plain": [
       "[Text(0.5, 0, 'number of batches'), Text(0, 0.5, 'RMSE')]"
      ]
     },
     "execution_count": 76,
     "metadata": {},
     "output_type": "execute_result"
    },
    {
     "data": {
      "image/png": "[encoded data removed]",
      "text/plain": [
       "<Figure size 640x480 with 1 Axes>"
      ]
     },
     "metadata": {},
     "output_type": "display_data"
    }
   ],
   "source": [
    "df_loss = pd.DataFrame({\"train_rmse\": train_loss_list, \"valid_rmse\": valid_loss_list})\n",
    "\n",
    "ax = sns.lineplot(data=df_loss, dashes=False)\n",
    "ax.set(xlabel='number of batches', ylabel='RMSE')"
   ]
  },
  {
   "cell_type": "code",
   "execution_count": 77,
   "metadata": {},
   "outputs": [
    {
     "name": "stdout",
     "output_type": "stream",
     "text": [
      "Test RMSE:  8.79535308473425\n"
     ]
    }
   ],
   "source": [
    "model = torch.load(\"model/q5_90.ckpt\")\n",
    "test(model, testloader)"
   ]
  },
  {
   "cell_type": "markdown",
   "metadata": {},
   "source": [
    "可以看到沒有使用 dropout 且用 SGD 的模型來說，使用 dropout 搭配 Adam 會訓練得更久，到 epoch 90 才停下來。\n",
    "\n",
    "也可以看到 validation RMSE 到 batch 200 之前都呈現持續下降的趨勢，顯示 dropout 搭配 Adam 的這組模型確實能夠有效避免 overfitting。"
   ]
  },
  {
   "cell_type": "markdown",
   "metadata": {},
   "source": [
    "## Q6\n",
    "使用上題的模型，考慮H = 20, 180, 360。 討論H = 20, 45, 180, 360的Test RMSE。"
   ]
  },
  {
   "cell_type": "markdown",
   "metadata": {},
   "source": [
    "### H = 20"
   ]
  },
  {
   "cell_type": "code",
   "execution_count": 49,
   "metadata": {},
   "outputs": [
    {
     "name": "stdout",
     "output_type": "stream",
     "text": [
      "Early stopping at epoch 46\n"
     ]
    }
   ],
   "source": [
    "net = mlp_model_with_dropout(trainset.X.shape[1], 20, 1, 0.5)\n",
    "net = net.float().to(device)\n",
    "optimizer = torch.optim.Adam(net.parameters(), lr=0.001, weight_decay=0)\n",
    "model, best_net_state, _, _ = train(net, optimizer=optimizer, loss_func=loss_func, trainloader=subtrainloader, validloader=validloader, epochs=100, verbose=False, model_path=\"model/q6_20.ckpt\")"
   ]
  },
  {
   "cell_type": "code",
   "execution_count": 50,
   "metadata": {},
   "outputs": [
    {
     "name": "stdout",
     "output_type": "stream",
     "text": [
      "Test RMSE:  9.06878153437954\n"
     ]
    }
   ],
   "source": [
    "model = torch.load(\"model/q6_20.ckpt\")\n",
    "test(model, testloader)"
   ]
  },
  {
   "cell_type": "markdown",
   "metadata": {},
   "source": [
    "### H = 45"
   ]
  },
  {
   "cell_type": "code",
   "execution_count": 51,
   "metadata": {},
   "outputs": [
    {
     "name": "stdout",
     "output_type": "stream",
     "text": [
      "Early stopping at epoch 58\n"
     ]
    }
   ],
   "source": [
    "net = mlp_model_with_dropout(trainset.X.shape[1], 45, 1, 0.5)\n",
    "net = net.float().to(device)\n",
    "optimizer = torch.optim.Adam(net.parameters(), lr=0.001, weight_decay=0)\n",
    "model, best_net_state, _, _ = train(net, optimizer=optimizer, loss_func=loss_func, trainloader=subtrainloader, validloader=validloader, epochs=100, verbose=False, model_path=\"model/q6_45.ckpt\")"
   ]
  },
  {
   "cell_type": "code",
   "execution_count": 52,
   "metadata": {},
   "outputs": [
    {
     "name": "stdout",
     "output_type": "stream",
     "text": [
      "Test RMSE:  8.847487622828474\n"
     ]
    }
   ],
   "source": [
    "model = torch.load(\"model/q6_45.ckpt\")\n",
    "test(model, testloader)"
   ]
  },
  {
   "cell_type": "markdown",
   "metadata": {},
   "source": [
    "### H = 180"
   ]
  },
  {
   "cell_type": "code",
   "execution_count": 53,
   "metadata": {},
   "outputs": [],
   "source": [
    "net = mlp_model_with_dropout(trainset.X.shape[1], 180, 1, 0.5)\n",
    "net = net.float().to(device)\n",
    "optimizer = torch.optim.Adam(net.parameters(), lr=0.001,  weight_decay=0)\n",
    "model, best_net_state, _, _ = train(net, optimizer=optimizer, loss_func=loss_func, trainloader=subtrainloader, validloader=validloader, epochs=100, verbose=False, model_path=\"model/q6_180.ckpt\")"
   ]
  },
  {
   "cell_type": "code",
   "execution_count": 54,
   "metadata": {},
   "outputs": [
    {
     "name": "stdout",
     "output_type": "stream",
     "text": [
      "Test RMSE:  8.765667643256595\n"
     ]
    }
   ],
   "source": [
    "model = torch.load(\"model/q6_180.ckpt\")\n",
    "test(model, testloader)"
   ]
  },
  {
   "cell_type": "markdown",
   "metadata": {},
   "source": [
    "### H = 360"
   ]
  },
  {
   "cell_type": "code",
   "execution_count": 55,
   "metadata": {},
   "outputs": [
    {
     "name": "stdout",
     "output_type": "stream",
     "text": [
      "Early stopping at epoch 72\n"
     ]
    }
   ],
   "source": [
    "net = mlp_model_with_dropout(trainset.X.shape[1], 360, 1, 0.5)\n",
    "net = net.float().to(device)\n",
    "optimizer = torch.optim.Adam(net.parameters(), lr=0.001,  weight_decay=0)\n",
    "model, best_net_state, _, _ = train(net, optimizer=optimizer, loss_func=loss_func, trainloader=subtrainloader, validloader=validloader, epochs=100, verbose=False, model_path=\"model/q6_360.ckpt\")"
   ]
  },
  {
   "cell_type": "code",
   "execution_count": 56,
   "metadata": {},
   "outputs": [
    {
     "name": "stdout",
     "output_type": "stream",
     "text": [
      "Test RMSE:  8.74037183677281\n"
     ]
    }
   ],
   "source": [
    "model = torch.load(\"model/q6_360.ckpt\")\n",
    "test(model, testloader)"
   ]
  },
  {
   "cell_type": "markdown",
   "metadata": {},
   "source": [
    "| H   | RMSE   |\n",
    "|-----|--------|\n",
    "| 20  | 9.0688 |\n",
    "| 45  | 8.8475 |\n",
    "| 90  | 8.7954 |\n",
    "| 180 | 8.7657 |\n",
    "| 360 | 8.7404 |"
   ]
  },
  {
   "cell_type": "markdown",
   "metadata": {},
   "source": [
    "針對有 dropout 且使用 Adam 的模型，我們可以發現大致上 H 愈大，RMSE 愈小，當 H=360 時，有最小的 RMSE=8.7404。"
   ]
  },
  {
   "cell_type": "markdown",
   "metadata": {},
   "source": [
    "## Q7\n",
    "\n",
    "我們前面的小題皆是使用SSE，也就是L2 Loss。一個改善模型訓練的方式是使用多種類似的Loss，以線性組合的方式建構Loss Function。請使用Q5中的MLP with Dropout模型 (H = 90)，並以L2 + L1 Loss訓練模型。這個Loss的定義如下:\n",
    "\n",
    "$$\n",
    "loss(\\mathbf{y}, \\hat{\\mathbf{y}}) = z \\sum_{i=1}^n (y_i - \\hat{y}_i)^2 + (1 - z) \\sum_{i = 1}^n | y_i - \\hat{y}_i |,\n",
    "$$\n",
    "其中z為實數且$0 <=z <= 1$。\n",
    "\n",
    "使用z = 0.5。並以Adam訓練模型。畫出Training and Validation RMSE，並報告Test RMSE。注意這裡繪圖時應使用RMSE而不是這個特殊的Loss。\n",
    "\n",
    "另外，使用z = 0.0, 0.1, 0.9, 1.0訓練模型(不須提供訓練過程的Loss圖形)，統整各個z值下的Test RMSE並討論。"
   ]
  },
  {
   "cell_type": "code",
   "execution_count": 57,
   "metadata": {},
   "outputs": [],
   "source": [
    "def l2l1_loss_func(outputs, targets, z=0.5):\n",
    "    return z * torch.nn.MSELoss(reduction='sum')(outputs, targets) + (1-z) * torch.nn.L1Loss(reduction = 'sum')(outputs, targets)"
   ]
  },
  {
   "cell_type": "code",
   "execution_count": 78,
   "metadata": {},
   "outputs": [
    {
     "name": "stdout",
     "output_type": "stream",
     "text": [
      "Early stopping at epoch 68\n"
     ]
    }
   ],
   "source": [
    "net = mlp_model_with_dropout(trainset.X.shape[1], 90, 1, 0.5)\n",
    "net = net.float().to(device)\n",
    "optimizer = torch.optim.Adam(net.parameters(), lr=0.001, weight_decay=0)\n",
    "model, best_net_state, train_loss_list, valid_loss_list = train(net, optimizer=optimizer, loss_func=l2l1_loss_func, trainloader=subtrainloader, validloader=validloader, epochs=100, verbose=False, model_path=\"model/q7_0.5.ckpt\")"
   ]
  },
  {
   "cell_type": "code",
   "execution_count": 79,
   "metadata": {},
   "outputs": [
    {
     "data": {
      "text/plain": [
       "[Text(0.5, 0, 'number of batches'), Text(0, 0.5, 'RMSE')]"
      ]
     },
     "execution_count": 79,
     "metadata": {},
     "output_type": "execute_result"
    },
    {
     "data": {
      "image/png": "[encoded data removed]",
      "text/plain": [
       "<Figure size 640x480 with 1 Axes>"
      ]
     },
     "metadata": {},
     "output_type": "display_data"
    }
   ],
   "source": [
    "df_loss = pd.DataFrame({\"train_rmse\": train_loss_list, \"valid_rmse\": valid_loss_list})\n",
    "\n",
    "ax = sns.lineplot(data=df_loss, dashes=False)\n",
    "ax.set(xlabel='number of batches', ylabel='RMSE')"
   ]
  },
  {
   "cell_type": "code",
   "execution_count": 80,
   "metadata": {},
   "outputs": [
    {
     "name": "stdout",
     "output_type": "stream",
     "text": [
      "Test RMSE:  8.766726407360432\n"
     ]
    }
   ],
   "source": [
    "model = torch.load(\"model/q7_0.5.ckpt\")\n",
    "test(model, testloader)"
   ]
  },
  {
   "cell_type": "markdown",
   "metadata": {},
   "source": [
    "在本題中，我們可以看到調整過後的 loss function 帶來更好的結果，validation RMSE 一直到 epoch 100 都持續呈現下降趨勢。"
   ]
  },
  {
   "cell_type": "code",
   "execution_count": 62,
   "metadata": {},
   "outputs": [
    {
     "name": "stdout",
     "output_type": "stream",
     "text": [
      "z =  0.0\n",
      "Early stopping at epoch 47\n",
      "Test RMSE:  8.97248520992324\n",
      "\n",
      "z =  0.1\n",
      "Early stopping at epoch 85\n",
      "Test RMSE:  8.75208426969091\n",
      "\n",
      "z =  0.9\n",
      "Early stopping at epoch 62\n",
      "Test RMSE:  8.75953474930647\n",
      "\n",
      "z =  1.0\n",
      "Early stopping at epoch 98\n",
      "Test RMSE:  8.763557932957136\n",
      "\n"
     ]
    }
   ],
   "source": [
    "z_list= [0.0, 0.1, 0.9, 1.0]\n",
    "\n",
    "for z in z_list:\n",
    "    print(\"z = \", z)\n",
    "    net = mlp_model_with_dropout(trainset.X.shape[1], 90, 1, 0.5)\n",
    "    net = net.float().to(device)\n",
    "    optimizer = torch.optim.Adam(net.parameters(), lr=0.001, weight_decay=0)\n",
    "    def l2l1_loss_func(outputs, targets, z=z):\n",
    "        return z * torch.nn.MSELoss(reduction='sum')(outputs, targets) + (1-z) * torch.nn.L1Loss(reduction = 'sum')(outputs, targets)\n",
    "    model, best_net_state, _, _ = train(net, optimizer=optimizer, loss_func=l2l1_loss_func, trainloader=subtrainloader, validloader=validloader, epochs=100, verbose=False, model_path=f\"model/q7_{z}.ckpt\")\n",
    "    model = torch.load(f\"model/q7_{z}.ckpt\")\n",
    "    test(model, testloader)\n",
    "    print()"
   ]
  },
  {
   "cell_type": "markdown",
   "metadata": {},
   "source": [
    "| z   | RMSE   |\n",
    "|-----|--------|\n",
    "| 0   | 8.9725 |\n",
    "| 0.1 | 8.7521 |\n",
    "| 0.5 | 8.7667 |\n",
    "| 0.9 | 8.7595 |\n",
    "| 1.0 | 8.7636 |"
   ]
  },
  {
   "cell_type": "markdown",
   "metadata": {},
   "source": [
    "可以看到當 $z \\neq 0$ 時，都比 $ z = 0 $ 有比較好的表現，其中當 $z=0.1$ 時，有最好的表現。"
   ]
  },
  {
   "cell_type": "markdown",
   "metadata": {},
   "source": [
    "#### Q8 \n",
    "考慮另一個比較特別的Loss Function\n",
    "\n",
    "$$\n",
    "qloss(\\mathbf{y}, \\hat{\\mathbf{y}}) = \\sum_{i=1}^n \\{ q (y_i - \\hat{y}_i)_+ + (1 - q) (\\hat{y}_i - y_i)_+ \\},\n",
    "$$\n",
    "其中q為參數且$0<=q<=1$，而$(y_i - \\hat{y}_i)_+$是取正值的意思。也就是說如果$(y_i - \\hat{y}_i) > 0$，則$(y_i - \\hat{y}_i)_+ = y_i - \\hat{y}_i$，否則$(y_i - \\hat{y}_i)_+ = 0$。\n",
    "\n",
    "令模型的Loss為$z \\sum_{i=1}^n (y_i - \\hat{y}_i)^2 + (1 - z) \\sum_{i=1}^n \\{ 0.5 (y_i - \\hat{y}_i)_+ + 0.5 (\\hat{y}_i - y_i)_+ \\} $。請使用Q5中的MLP with Dropout模型(H = 90)，令z = 0。並以Adam訓練模型。畫出Training and Validation RMSE，並報告Test RMSE。注意這裡繪圖時應使用RMSE而不是這個特殊的Loss。\n",
    "\n",
    "另外，使用z = 0.1, 0.5, 0.9, 1.0訓練模型(不須提供訓練過程的Loss圖形)，統整各個z值下的Test RMSE並討論。"
   ]
  },
  {
   "cell_type": "code",
   "execution_count": 63,
   "metadata": {},
   "outputs": [],
   "source": [
    "def qloss(outputs, targets, q=0.5):\n",
    "    temp = targets - outputs\n",
    "    loss = torch.max(q*temp, (1-q)*(-temp))\n",
    "    return loss.sum()\n",
    "\n",
    "def special_loss_func(outputs, targets, z=0, q=0.5):\n",
    "    return z * torch.nn.MSELoss(reduction='sum')(outputs, targets) + (1-z) * qloss(outputs, targets, q=q)"
   ]
  },
  {
   "cell_type": "code",
   "execution_count": 64,
   "metadata": {},
   "outputs": [
    {
     "name": "stdout",
     "output_type": "stream",
     "text": [
      "Early stopping at epoch 43\n"
     ]
    }
   ],
   "source": [
    "net = mlp_model_with_dropout(trainset.X.shape[1], 90, 1, 0.5)\n",
    "net = net.float().to(device)\n",
    "optimizer = torch.optim.Adam(net.parameters(), lr=0.001, weight_decay=0)\n",
    "model, best_net_state, train_loss_list, valid_loss_list = train(net, optimizer=optimizer, loss_func=special_loss_func, trainloader=subtrainloader, validloader=validloader, epochs=100, verbose=False, model_path=\"model/q8_0.ckpt\")"
   ]
  },
  {
   "cell_type": "code",
   "execution_count": 68,
   "metadata": {},
   "outputs": [
    {
     "data": {
      "text/plain": [
       "[Text(0.5, 0, 'number of batches'), Text(0, 0.5, 'RMSE')]"
      ]
     },
     "execution_count": 68,
     "metadata": {},
     "output_type": "execute_result"
    },
    {
     "data": {
      "image/png": "[encoded data removed]",
      "text/plain": [
       "<Figure size 640x480 with 1 Axes>"
      ]
     },
     "metadata": {},
     "output_type": "display_data"
    }
   ],
   "source": [
    "df_loss = pd.DataFrame({\"train_rmse\": train_loss_list, \"valid_rmse\": valid_loss_list})\n",
    "\n",
    "ax = sns.lineplot(data=df_loss, dashes=False)\n",
    "ax.set(xlabel='number of batches', ylabel='RMSE')"
   ]
  },
  {
   "cell_type": "code",
   "execution_count": 66,
   "metadata": {},
   "outputs": [
    {
     "name": "stdout",
     "output_type": "stream",
     "text": [
      "Test RMSE:  8.936323391111841\n"
     ]
    }
   ],
   "source": [
    "model = torch.load(\"model/q8_0.ckpt\")\n",
    "test(model, testloader)"
   ]
  },
  {
   "cell_type": "markdown",
   "metadata": {},
   "source": [
    "可以看到採用這個 loss 計算方式之後，validation 以及 training 的 RMSE 呈現幾乎重疊的狀態，代表沒有發生 overfitting 的現象，但缺點就是 Test RMSE 相對其他模型來說比較高一點。"
   ]
  },
  {
   "cell_type": "code",
   "execution_count": 67,
   "metadata": {},
   "outputs": [
    {
     "name": "stdout",
     "output_type": "stream",
     "text": [
      "z =  0.1\n",
      "Early stopping at epoch 69\n",
      "Test RMSE:  8.773000607384914\n",
      "\n",
      "z =  0.5\n",
      "Test RMSE:  8.761629081902841\n",
      "\n",
      "z =  0.9\n",
      "Early stopping at epoch 73\n",
      "Test RMSE:  8.762371497412527\n",
      "\n",
      "z =  1.0\n",
      "Early stopping at epoch 80\n",
      "Test RMSE:  8.762033140099872\n",
      "\n"
     ]
    }
   ],
   "source": [
    "z_list= [0.1, 0.5, 0.9, 1.0]\n",
    "\n",
    "for z in z_list:\n",
    "    print(\"z = \", z)\n",
    "    net = mlp_model_with_dropout(trainset.X.shape[1], 90, 1, 0.5)\n",
    "    net = net.float().to(device)\n",
    "    optimizer = torch.optim.Adam(net.parameters(), lr=0.001, weight_decay=0)\n",
    "    def special_loss_func(outputs, targets, z=z, q=0.5):\n",
    "        return z * torch.nn.MSELoss(reduction='sum')(outputs, targets) + (1-z) * qloss(outputs, targets, q=q)\n",
    "    model, best_net_state, _, _ = train(net, optimizer=optimizer, loss_func=special_loss_func, trainloader=subtrainloader, validloader=validloader, epochs=100, verbose=False, model_path=f\"model/q8_{z}.ckpt\")\n",
    "    model = torch.load(f\"model/q8_{z}.ckpt\")\n",
    "    test(model, testloader)\n",
    "    print()"
   ]
  },
  {
   "cell_type": "markdown",
   "metadata": {},
   "source": [
    "| z   | RMSE   |\n",
    "|-----|--------|\n",
    "| 0   | 8.9363 |\n",
    "| 0.1 | 8.7730 |\n",
    "| 0.5 | 8.7616 |\n",
    "| 0.9 | 8.7624 |\n",
    "| 1.0 | 8.7620 |"
   ]
  },
  {
   "cell_type": "markdown",
   "metadata": {},
   "source": [
    "由上表可知，當 z = 0.5, 0.9, 1.0 時，模型都有不錯的表現，但與前一題 L2+L1 Loss 相比，表現稍微比較差一點，本題中，最好的 z 值應設在 0.5，Test RMSE 為 8.7616。"
   ]
  },
  {
   "cell_type": "markdown",
   "metadata": {},
   "source": []
  }
 ],
 "metadata": {
  "kernelspec": {
   "display_name": "Python 3.9.13 ('base')",
   "language": "python",
   "name": "python3"
  },
  "language_info": {
   "codemirror_mode": {
    "name": "ipython",
    "version": 3
   },
   "file_extension": ".py",
   "mimetype": "text/x-python",
   "name": "python",
   "nbconvert_exporter": "python",
   "pygments_lexer": "ipython3",
   "version": "3.9.13"
  },
  "orig_nbformat": 4,
  "vscode": {
   "interpreter": {
    "hash": "6dbc95575655867e559c257dd5e14ad6ab812c6de96b03117bf270d02ef55506"
   }
  }
 },
 "nbformat": 4,
 "nbformat_minor": 2
}
