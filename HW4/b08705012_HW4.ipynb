{
 "cells": [
  {
   "cell_type": "markdown",
   "metadata": {},
   "source": [
    "# B08705012 HW4"
   ]
  },
  {
   "cell_type": "code",
   "execution_count": 2,
   "metadata": {},
   "outputs": [
    {
     "name": "stdout",
     "output_type": "stream",
     "text": [
      "X_train shape =  (463715, 90)\n",
      "X_subtrain shape =  (417344, 90)\n",
      "X_valid shape =  (46371, 90)\n",
      "Y_subtrain shape =  (417344,)\n",
      "Y_valid shape =  (46371,)\n",
      "X_test shape =  (51630, 90)\n"
     ]
    }
   ],
   "source": [
    "# load packages\n",
    "%matplotlib inline\n",
    "import pickle\n",
    "from sklearn import preprocessing\n",
    "\n",
    "# Load data\n",
    "with open('msd_full.pickle', 'rb') as fh1:\n",
    "    msd_data = pickle.load(fh1)\n",
    "\n",
    "doscaling = 1\n",
    "if (doscaling == 1):\n",
    "    xscaler = preprocessing.StandardScaler().fit(msd_data['X_train'])\n",
    "    # standardize feature values\n",
    "    X_train = xscaler.transform(msd_data['X_train'])\n",
    "    X_test = xscaler.transform(msd_data['X_test'])\n",
    "else:\n",
    "    X_train = msd_data['X_train']\n",
    "    X_test = msd_data['X_test']\n",
    "\n",
    "Y_train = msd_data['Y_train']\n",
    "Y_test = msd_data['Y_test'].astype('float32')\n",
    "X_test = X_test.astype('float32')\n",
    "\n",
    "y_mean = Y_train.mean()\n",
    "Y_train_keep = Y_train.copy()\n",
    "Y_test_keep = Y_test.copy()\n",
    "Y_train = Y_train - y_mean\n",
    "Y_test = Y_test - y_mean\n",
    "\n",
    "\n",
    "# validation is the last 10% of training, subtraining is the first 90% of training\n",
    "nvalid = int(X_train.shape[0] * 0.1)\n",
    "nsubtrain = X_train.shape[0] - nvalid\n",
    "\n",
    "X_subtrain = X_train[0:nsubtrain, :].astype('float32')\n",
    "X_valid = X_train[nsubtrain:, :].astype('float32')\n",
    "Y_subtrain = Y_train[0:nsubtrain].astype('float32')\n",
    "Y_valid = Y_train[nsubtrain:].astype('float32')\n",
    "\n",
    "Y_subtrain_keep = Y_train_keep[0:nsubtrain].astype('float32')\n",
    "Y_valid_keep = Y_train_keep[nsubtrain:].astype('float32')\n",
    "\n",
    "print(\"X_train shape = \", X_train.shape)\n",
    "print(\"X_subtrain shape = \", X_subtrain.shape)\n",
    "print(\"X_valid shape = \", X_valid.shape)\n",
    "print(\"Y_subtrain shape = \", Y_subtrain.shape)\n",
    "print(\"Y_valid shape = \", Y_valid.shape)\n",
    "print(\"X_test shape = \", X_test.shape)"
   ]
  },
  {
   "cell_type": "markdown",
   "metadata": {},
   "source": [
    "## Q1\n",
    "使用Training資料訓練一個Ordinary Least Square模型，並進行預測。列出此模型的RMSE與前五個特徵的參數。OLS模型應包含常數項，且不應有任何Regularization。"
   ]
  },
  {
   "cell_type": "code",
   "execution_count": 4,
   "metadata": {},
   "outputs": [
    {
     "name": "stdout",
     "output_type": "stream",
     "text": [
      "First 5 coefficients: [ 5.2934217  -2.8868322  -1.5276358   0.06306767 -0.33957994]\n",
      "RMSE =  9.509892\n"
     ]
    }
   ],
   "source": [
    "from sklearn.metrics import mean_squared_error\n",
    "from sklearn.linear_model import LinearRegression\n",
    "\n",
    "reg = LinearRegression(n_jobs=-1)\n",
    "reg.fit(X_subtrain, Y_subtrain_keep)\n",
    "print(\"First 5 coefficients:\", reg.coef_[0:5])\n",
    "y_pred = reg.test(X_test)\n",
    "\n",
    "\n",
    "# squared: bool, default=True\n",
    "# If True returns MSE value, if False returns RMSE value.\n",
    "print(\"RMSE = \", mean_squared_error(Y_test_keep, y_pred, squared=False))"
   ]
  },
  {
   "cell_type": "markdown",
   "metadata": {},
   "source": [
    "## Q2\n",
    "\n",
    "- 建構一個有四層Hidden Layer的MLP。\n",
    "- 此模型由輸入層開始，90個Input Features通過線性層轉換為H個Hidden Nodes，\n",
    "- 通過ReLu Activation Function，此為第一層Hidden Layer。\n",
    "- 接著通過下一個線性層與ReLu Activation Function，此為第二層。\n",
    "- 接著下一個線性層與ReLu Activation Function，此為第三層。 \n",
    "- 然後下一個線性層與ReLu Activation Function，此為第四層。\n",
    "- 最後通過一個線性層輸出。 所有Hidden Layer的寬度都為H。\n",
    "\n",
    "令 H= 45, 使用 SGD 更新參數，設 Learning Rate = 0.00001，無 Weight Decay 與 Momentum。畫出模型訓練過程中的 Training 與Validation RMSE，列出 Test RMSE。\n",
    "並討論訓練過程中 Training 與 Validation RMSE 的圖形意義。"
   ]
  },
  {
   "cell_type": "code",
   "execution_count": 18,
   "metadata": {},
   "outputs": [],
   "source": [
    "import torch\n",
    "from torch.utils import data\n",
    "\n",
    "class Dataset(data.Dataset):\n",
    "  def __init__(self, X, Y):\n",
    "        self.labels = Y\n",
    "        self.len = X.shape[0]\n",
    "        self.X = X\n",
    "        self.Y = Y\n",
    "        \n",
    "\n",
    "  def __len__(self):\n",
    "        return self.len\n",
    "\n",
    "  def __getitem__(self, index):\n",
    "        X = self.X[index]\n",
    "        y = self.Y[index]\n",
    "        return X, y"
   ]
  },
  {
   "cell_type": "markdown",
   "metadata": {},
   "source": [
    "### Create Dataloader"
   ]
  },
  {
   "cell_type": "code",
   "execution_count": 19,
   "metadata": {},
   "outputs": [],
   "source": [
    "trainset = Dataset(X_train, Y_train)\n",
    "subtrainset = Dataset(X_subtrain, Y_subtrain)\n",
    "validset = Dataset(X_valid, Y_valid)\n",
    "testset = Dataset(X_test, Y_test)\n",
    "\n",
    "trainloader = data.DataLoader(trainset, batch_size=1000, shuffle=True, num_workers=0)\n",
    "subtrainloader = data.DataLoader(subtrainset, batch_size=1000, shuffle=True, num_workers=0)\n",
    "validloader = data.DataLoader(validset, batch_size=10000, shuffle=True, num_workers=0)\n",
    "testloader = data.DataLoader(testset, batch_size=10000, shuffle=True, num_workers=0)"
   ]
  },
  {
   "cell_type": "markdown",
   "metadata": {},
   "source": [
    "### Create Model"
   ]
  },
  {
   "cell_type": "code",
   "execution_count": 24,
   "metadata": {},
   "outputs": [],
   "source": [
    "def mlp_model(input_size, hidden_size, output_size):\n",
    "    model = torch.nn.Sequential(\n",
    "        torch.nn.Linear(input_size, hidden_size),\n",
    "        torch.nn.ReLU(),\n",
    "        torch.nn.Linear(hidden_size, hidden_size),\n",
    "        torch.nn.ReLU(),\n",
    "        torch.nn.Linear(hidden_size, hidden_size),\n",
    "        torch.nn.ReLU(),\n",
    "        torch.nn.Linear(hidden_size, hidden_size),\n",
    "        torch.nn.ReLU(),\n",
    "        torch.nn.Linear(hidden_size, output_size)\n",
    "    )\n",
    "    return model\n",
    "\n",
    "net = mlp_model(trainset.X.shape[1], 45, 1)"
   ]
  },
  {
   "cell_type": "code",
   "execution_count": 25,
   "metadata": {},
   "outputs": [],
   "source": [
    "device = torch.device(\"cuda:0\" if torch.cuda.is_available() else \"cpu\")\n",
    "net = net.float()\n",
    "net = net.to(device)\n",
    "\n",
    "optimizer = torch.optim.SGD(net.parameters(), lr=0.00001, momentum=0, weight_decay=0)\n",
    "loss_func = torch.nn.MSELoss(reduction='sum')"
   ]
  },
  {
   "cell_type": "markdown",
   "metadata": {},
   "source": [
    "- Minibatch: 1,000個資料點，更新參數之後稱為經歷了一個Batch。\n",
    "- 當所有 Subtraining 資料已經用來更新過模型參數，稱為經過了一個Epoch。\n",
    "- 每 100 個 Batch 計算一次 Training and Validation RMSE。\n",
    "- 如果 Validation 為歷史最低，則記下當下的模型參數與當時已進行的 Batch 數量，稱為best_step_count。\n",
    "- early_stop 設為 5,000 個 Batch。"
   ]
  },
  {
   "cell_type": "code",
   "execution_count": 26,
   "metadata": {},
   "outputs": [],
   "source": [
    "from livelossplot import PlotLosses\n",
    "import numpy as np\n",
    "\n",
    "def train(net, optimizer, loss_func, trainloader, validloader, epochs=100, patient=5000, model_path='model/result.ckpt', verbose=True):\n",
    "    '''\n",
    "    ### Parameters\n",
    "    - net: model\n",
    "    - optimizer: optimizer (Adam or SGD)\n",
    "    - loss_func: loss function\n",
    "    - trainloader: training data loader\n",
    "    - validloader: validation data loader\n",
    "    - epochs: number of epochs\n",
    "    - patient: number of batches to wait before early stopping\n",
    "    - verbose: print training progress\n",
    "    - model_path: path to save model\n",
    "    '''\n",
    "    device = torch.device(\"cuda:0\" if torch.cuda.is_available() else \"cpu\")\n",
    "    step_count = 0\n",
    "    best_step_count = 0\n",
    "    interval = 100\n",
    "\n",
    "    train_loss_list = []\n",
    "    valid_loss_list = []\n",
    "    best_valid_rmse = float(\"inf\")\n",
    "\n",
    "    best_net_state = {}\n",
    "    stop = False\n",
    "\n",
    "    for epoch in range(epochs):\n",
    "        if stop:\n",
    "            break\n",
    "        for _, (data, target) in enumerate(trainloader):\n",
    "            step_count += 1\n",
    "            net.train()\n",
    "            target = target.reshape((-1, 1))\n",
    "            data = data.to(device)\n",
    "            target = target.to(device)\n",
    "\n",
    "            optimizer.zero_grad()\n",
    "            output = net(data)\n",
    "            \n",
    "            loss = loss_func(output, target)\n",
    "            loss.backward()\n",
    "            optimizer.step()\n",
    "\n",
    "            if step_count % interval == 0:\n",
    "                net.eval()\n",
    "                # calculate training loss with current model\n",
    "                train_loss = 0\n",
    "                for _, (data, target) in enumerate(trainloader):\n",
    "                    target = target.reshape((-1, 1))\n",
    "                    data = data.to(device)\n",
    "                    target = target.to(device)\n",
    "                    output = net(data)\n",
    "                    train_loss += torch.nn.MSELoss(reduction='sum')(output, target).item()\n",
    "                    \n",
    "                train_rmse = np.sqrt(train_loss / len(trainloader.dataset))\n",
    "                train_loss_list.append(train_rmse)      \n",
    "                \n",
    "                # calculate validation loss with current model\n",
    "                valid_loss = 0   \n",
    "                for _, (data, target) in enumerate(validloader):\n",
    "                    target = target.reshape((-1, 1))\n",
    "                    data = data.to(device)\n",
    "                    target = target.to(device)\n",
    "                    output = net(data)\n",
    "                    valid_loss += torch.nn.MSELoss(reduction='sum')(output, target).item()\n",
    "                \n",
    "                valid_rmse = np.sqrt(valid_loss / len(validloader.dataset))\n",
    "                valid_loss_list.append(valid_rmse)\n",
    "\n",
    "                if verbose:\n",
    "                    print(f'Epoch {epoch+1:3} | Step {step_count:6} | Train RMSE {train_rmse:7.4f} | Valid RMSE {valid_rmse:7.4f}')\n",
    "                \n",
    "                if valid_rmse < best_valid_rmse:\n",
    "                    best_valid_rmse = valid_rmse\n",
    "                    best_step_count = step_count\n",
    "                    best_net_state = net.state_dict()\n",
    "                    torch.save(net, model_path)\n",
    "                elif step_count - best_step_count > patient:\n",
    "                    print(\"Early stopping at epoch\", epoch+1)\n",
    "                    stop = True\n",
    "                    break\n",
    "    return net, best_net_state, train_loss_list, valid_loss_list"
   ]
  },
  {
   "cell_type": "code",
   "execution_count": 27,
   "metadata": {},
   "outputs": [
    {
     "name": "stdout",
     "output_type": "stream",
     "text": [
      "Epoch   1 | Step    100 | Train RMSE  9.5409 | Valid RMSE  9.4925\n",
      "Epoch   1 | Step    200 | Train RMSE  9.1682 | Valid RMSE  9.1105\n",
      "Epoch   1 | Step    300 | Train RMSE  8.9394 | Valid RMSE  8.8871\n",
      "Epoch   1 | Step    400 | Train RMSE  8.8656 | Valid RMSE  8.8165\n",
      "Epoch   2 | Step    500 | Train RMSE  9.0135 | Valid RMSE  8.9647\n",
      "Epoch   2 | Step    600 | Train RMSE  8.7771 | Valid RMSE  8.7416\n",
      "Epoch   2 | Step    700 | Train RMSE  8.7811 | Valid RMSE  8.7575\n",
      "Epoch   2 | Step    800 | Train RMSE  8.9124 | Valid RMSE  8.8904\n",
      "Epoch   3 | Step    900 | Train RMSE  8.7000 | Valid RMSE  8.6853\n",
      "Epoch   3 | Step   1000 | Train RMSE  8.7170 | Valid RMSE  8.7154\n",
      "Epoch   3 | Step   1100 | Train RMSE  8.6597 | Valid RMSE  8.6508\n",
      "Epoch   3 | Step   1200 | Train RMSE  8.6565 | Valid RMSE  8.6505\n",
      "Epoch   4 | Step   1300 | Train RMSE  8.6560 | Valid RMSE  8.6568\n",
      "Epoch   4 | Step   1400 | Train RMSE  8.6398 | Valid RMSE  8.6507\n",
      "Epoch   4 | Step   1500 | Train RMSE  8.6508 | Valid RMSE  8.6687\n",
      "Epoch   4 | Step   1600 | Train RMSE  8.6112 | Valid RMSE  8.6405\n",
      "Epoch   5 | Step   1700 | Train RMSE  8.5925 | Valid RMSE  8.6174\n",
      "Epoch   5 | Step   1800 | Train RMSE  8.6102 | Valid RMSE  8.6405\n",
      "Epoch   5 | Step   1900 | Train RMSE  8.6053 | Valid RMSE  8.6538\n",
      "Epoch   5 | Step   2000 | Train RMSE  8.6065 | Valid RMSE  8.6432\n",
      "Epoch   6 | Step   2100 | Train RMSE  8.6874 | Valid RMSE  8.7313\n",
      "Epoch   6 | Step   2200 | Train RMSE  8.5823 | Valid RMSE  8.6254\n",
      "Epoch   6 | Step   2300 | Train RMSE  8.5806 | Valid RMSE  8.6264\n",
      "Epoch   6 | Step   2400 | Train RMSE  8.5491 | Valid RMSE  8.5952\n",
      "Epoch   6 | Step   2500 | Train RMSE  8.5548 | Valid RMSE  8.6231\n",
      "Epoch   7 | Step   2600 | Train RMSE  8.5632 | Valid RMSE  8.6360\n",
      "Epoch   7 | Step   2700 | Train RMSE  8.5386 | Valid RMSE  8.6160\n",
      "Epoch   7 | Step   2800 | Train RMSE  8.5727 | Valid RMSE  8.6567\n",
      "Epoch   7 | Step   2900 | Train RMSE  8.5555 | Valid RMSE  8.6316\n",
      "Epoch   8 | Step   3000 | Train RMSE  8.5403 | Valid RMSE  8.6324\n",
      "Epoch   8 | Step   3100 | Train RMSE  8.5019 | Valid RMSE  8.5938\n",
      "Epoch   8 | Step   3200 | Train RMSE  8.5058 | Valid RMSE  8.6002\n",
      "Epoch   8 | Step   3300 | Train RMSE  8.4974 | Valid RMSE  8.5966\n",
      "Epoch   9 | Step   3400 | Train RMSE  8.5414 | Valid RMSE  8.6321\n",
      "Epoch   9 | Step   3500 | Train RMSE  8.5301 | Valid RMSE  8.6305\n",
      "Epoch   9 | Step   3600 | Train RMSE  8.4742 | Valid RMSE  8.5808\n",
      "Epoch   9 | Step   3700 | Train RMSE  8.4791 | Valid RMSE  8.5838\n",
      "Epoch  10 | Step   3800 | Train RMSE  8.5280 | Valid RMSE  8.6094\n",
      "Epoch  10 | Step   3900 | Train RMSE  8.4654 | Valid RMSE  8.5707\n",
      "Epoch  10 | Step   4000 | Train RMSE  8.4475 | Valid RMSE  8.5703\n",
      "Epoch  10 | Step   4100 | Train RMSE  8.4863 | Valid RMSE  8.6000\n"
     ]
    }
   ],
   "source": [
    "model, best_net_state, train_loss_list, valid_loss_list = train(net, optimizer=optimizer, loss_func=loss_func, trainloader=subtrainloader, validloader=validloader, epochs=10, model_path=\"model/q2.ckpt\")"
   ]
  },
  {
   "cell_type": "code",
   "execution_count": 28,
   "metadata": {},
   "outputs": [
    {
     "data": {
      "text/plain": [
       "[Text(0, 0.5, 'RMSE'), Text(0.5, 0, 'number of batches')]"
      ]
     },
     "execution_count": 28,
     "metadata": {},
     "output_type": "execute_result"
    },
    {
     "data": {
      "image/png": "[encoded data removed]",
      "text/plain": [
       "<Figure size 432x288 with 1 Axes>"
      ]
     },
     "metadata": {
      "needs_background": "light"
     },
     "output_type": "display_data"
    }
   ],
   "source": [
    "import seaborn as sns\n",
    "import pandas as pd\n",
    "\n",
    "df_loss = pd.DataFrame({\"train_rmse\": train_loss_list, \"valid_rmse\": valid_loss_list})\n",
    "\n",
    "ax = sns.lineplot(data=df_loss, )\n",
    "ax.set(xlabel='number of batches', ylabel='RMSE')"
   ]
  },
  {
   "cell_type": "code",
   "execution_count": 29,
   "metadata": {},
   "outputs": [],
   "source": [
    "def test(net, testloader):\n",
    "    net.eval()\n",
    "    test_loss = 0\n",
    "    test_loss_cnt = 0\n",
    "    for _, (data, target) in enumerate(testloader):\n",
    "        target = target.reshape((-1, 1))\n",
    "        data = data.to(device)\n",
    "        target = target.to(device)\n",
    "        output = net(data)\n",
    "        loss = loss_func(output, target)\n",
    "        test_loss += loss.item()\n",
    "        test_loss_cnt += data.shape[0]\n",
    "    test_rmse = np.sqrt(test_loss / test_loss_cnt)\n",
    "    print(\"Test RMSE: \", test_rmse)    "
   ]
  },
  {
   "cell_type": "code",
   "execution_count": 30,
   "metadata": {},
   "outputs": [
    {
     "name": "stdout",
     "output_type": "stream",
     "text": [
      "Test RMSE:  8.835898347593\n"
     ]
    }
   ],
   "source": [
    "model.load_state_dict(best_net_state)\n",
    "test(model, testloader)"
   ]
  },
  {
   "cell_type": "markdown",
   "metadata": {},
   "source": [
    "我們可以發現"
   ]
  },
  {
   "cell_type": "markdown",
   "metadata": {},
   "source": [
    "## Q3\n",
    "使用H = 90與180。無須畫訓練過程的RMSE。列出這兩個Test RMSE。討論H = 45, 90, 180的Test RMSE。"
   ]
  },
  {
   "cell_type": "markdown",
   "metadata": {},
   "source": [
    "### H=90"
   ]
  },
  {
   "cell_type": "code",
   "execution_count": 61,
   "metadata": {},
   "outputs": [
    {
     "name": "stdout",
     "output_type": "stream",
     "text": [
      "Epoch   1 | Step    100 | Train RMSE 10.7611 | Valid RMSE  9.7541\n",
      "Epoch   1 | Step    200 | Train RMSE  9.2898 | Valid RMSE  9.0548\n",
      "Epoch   1 | Step    300 | Train RMSE  9.0246 | Valid RMSE  8.8500\n",
      "Epoch   1 | Step    400 | Train RMSE  8.9327 | Valid RMSE  8.7722\n",
      "Epoch   2 | Step    500 | Train RMSE  8.8402 | Valid RMSE  8.8628\n",
      "Epoch   2 | Step    600 | Train RMSE  8.8151 | Valid RMSE  8.7924\n",
      "Epoch   2 | Step    700 | Train RMSE  8.7936 | Valid RMSE  8.7567\n",
      "Epoch   2 | Step    800 | Train RMSE  8.7721 | Valid RMSE  8.8156\n",
      "Epoch   3 | Step    900 | Train RMSE  8.7489 | Valid RMSE  8.6336\n",
      "Epoch   3 | Step   1000 | Train RMSE  8.6488 | Valid RMSE  8.6681\n",
      "Epoch   3 | Step   1100 | Train RMSE  8.7156 | Valid RMSE  8.5951\n",
      "Epoch   3 | Step   1200 | Train RMSE  8.7233 | Valid RMSE  8.6149\n",
      "Epoch   4 | Step   1300 | Train RMSE  8.6589 | Valid RMSE  8.7029\n",
      "Epoch   4 | Step   1400 | Train RMSE  8.6371 | Valid RMSE  8.5970\n",
      "Epoch   4 | Step   1500 | Train RMSE  8.6702 | Valid RMSE  8.6921\n",
      "Epoch   4 | Step   1600 | Train RMSE  8.6188 | Valid RMSE  8.5876\n",
      "Epoch   5 | Step   1700 | Train RMSE  8.6000 | Valid RMSE  8.6403\n",
      "Epoch   5 | Step   1800 | Train RMSE  8.6208 | Valid RMSE  8.6067\n",
      "Epoch   5 | Step   1900 | Train RMSE  8.5693 | Valid RMSE  8.5841\n",
      "Epoch   5 | Step   2000 | Train RMSE  8.5411 | Valid RMSE  8.6661\n",
      "Epoch   6 | Step   2100 | Train RMSE  8.5702 | Valid RMSE  8.5579\n",
      "Epoch   6 | Step   2200 | Train RMSE  8.4980 | Valid RMSE  8.5407\n",
      "Epoch   6 | Step   2300 | Train RMSE  8.5882 | Valid RMSE  8.5543\n",
      "Epoch   6 | Step   2400 | Train RMSE  8.5027 | Valid RMSE  8.5823\n",
      "Epoch   6 | Step   2500 | Train RMSE  8.5073 | Valid RMSE  8.5758\n",
      "Epoch   7 | Step   2600 | Train RMSE  8.4370 | Valid RMSE  8.5590\n",
      "Epoch   7 | Step   2700 | Train RMSE  8.5234 | Valid RMSE  8.5350\n",
      "Epoch   7 | Step   2800 | Train RMSE  8.4635 | Valid RMSE  8.5457\n",
      "Epoch   7 | Step   2900 | Train RMSE  8.5175 | Valid RMSE  8.6954\n",
      "Epoch   8 | Step   3000 | Train RMSE  8.4138 | Valid RMSE  8.5585\n",
      "Epoch   8 | Step   3100 | Train RMSE  8.4716 | Valid RMSE  8.5550\n",
      "Epoch   8 | Step   3200 | Train RMSE  8.4394 | Valid RMSE  8.5111\n",
      "Epoch   8 | Step   3300 | Train RMSE  8.4522 | Valid RMSE  8.5399\n",
      "Epoch   9 | Step   3400 | Train RMSE  8.4035 | Valid RMSE  8.5797\n",
      "Epoch   9 | Step   3500 | Train RMSE  8.4074 | Valid RMSE  8.5387\n",
      "Epoch   9 | Step   3600 | Train RMSE  8.4257 | Valid RMSE  8.5483\n",
      "Epoch   9 | Step   3700 | Train RMSE  8.4340 | Valid RMSE  8.4953\n",
      "Epoch  10 | Step   3800 | Train RMSE  8.3679 | Valid RMSE  8.5646\n",
      "Epoch  10 | Step   3900 | Train RMSE  8.3862 | Valid RMSE  8.5504\n",
      "Epoch  10 | Step   4000 | Train RMSE  8.3859 | Valid RMSE  8.5327\n",
      "Epoch  10 | Step   4100 | Train RMSE  8.3607 | Valid RMSE  8.5197\n",
      "Test RMSE:  8.932279437592602\n"
     ]
    }
   ],
   "source": [
    "net = mlp_model(trainset.X.shape[1], 90, 1)\n",
    "net = net.to(device)\n",
    "optimizer = torch.optim.SGD(net.parameters(), lr=0.00001, momentum=0, weight_decay=0)\n",
    "model, best_net_state, _, _ = train(net, optimizer=optimizer, loss_func=loss_func, sse_func=sse_func, trainloader=subtrainloader, validloader=validloader, epochs=10, verbose=False, model_path=\"model/q3_90.ckpt\")\n",
    "model.load_state_dict(best_net_state)\n",
    "test(model, testloader)"
   ]
  },
  {
   "cell_type": "markdown",
   "metadata": {},
   "source": [
    "### H=180"
   ]
  },
  {
   "cell_type": "code",
   "execution_count": 62,
   "metadata": {},
   "outputs": [
    {
     "name": "stdout",
     "output_type": "stream",
     "text": [
      "Epoch   1 | Step    100 | Train RMSE 10.5138 | Valid RMSE  9.3916\n",
      "Epoch   1 | Step    200 | Train RMSE  9.1842 | Valid RMSE  8.9980\n",
      "Epoch   1 | Step    300 | Train RMSE  8.9765 | Valid RMSE  8.9554\n",
      "Epoch   1 | Step    400 | Train RMSE  8.9497 | Valid RMSE  8.7366\n",
      "Epoch   2 | Step    500 | Train RMSE  8.8426 | Valid RMSE  8.9102\n",
      "Epoch   2 | Step    600 | Train RMSE  8.8214 | Valid RMSE  8.6708\n",
      "Epoch   2 | Step    700 | Train RMSE  8.7276 | Valid RMSE  8.6723\n",
      "Epoch   2 | Step    800 | Train RMSE  8.7338 | Valid RMSE  8.6348\n",
      "Epoch   3 | Step    900 | Train RMSE  8.6806 | Valid RMSE  8.6224\n",
      "Epoch   3 | Step   1000 | Train RMSE  8.7374 | Valid RMSE  8.7168\n",
      "Epoch   3 | Step   1100 | Train RMSE  8.6523 | Valid RMSE  8.6241\n",
      "Epoch   3 | Step   1200 | Train RMSE  8.6531 | Valid RMSE  8.5750\n",
      "Epoch   4 | Step   1300 | Train RMSE  8.5753 | Valid RMSE  8.6483\n",
      "Epoch   4 | Step   1400 | Train RMSE  8.5541 | Valid RMSE  8.5648\n",
      "Epoch   4 | Step   1500 | Train RMSE  8.5702 | Valid RMSE  8.5461\n",
      "Epoch   4 | Step   1600 | Train RMSE  8.5832 | Valid RMSE  8.5530\n",
      "Epoch   5 | Step   1700 | Train RMSE  8.5379 | Valid RMSE  8.5353\n",
      "Epoch   5 | Step   1800 | Train RMSE  8.4878 | Valid RMSE  8.5694\n",
      "Epoch   5 | Step   1900 | Train RMSE  8.5644 | Valid RMSE  8.5528\n",
      "Epoch   5 | Step   2000 | Train RMSE  8.5167 | Valid RMSE  8.7164\n",
      "Epoch   6 | Step   2100 | Train RMSE  8.4955 | Valid RMSE  8.5638\n",
      "Epoch   6 | Step   2200 | Train RMSE  8.4127 | Valid RMSE  8.5640\n",
      "Epoch   6 | Step   2300 | Train RMSE  8.4247 | Valid RMSE  8.5319\n",
      "Epoch   6 | Step   2400 | Train RMSE  8.4283 | Valid RMSE  8.5031\n",
      "Epoch   6 | Step   2500 | Train RMSE  8.4658 | Valid RMSE  8.4920\n",
      "Epoch   7 | Step   2600 | Train RMSE  8.3511 | Valid RMSE  8.5324\n",
      "Epoch   7 | Step   2700 | Train RMSE  8.3930 | Valid RMSE  8.5249\n",
      "Epoch   7 | Step   2800 | Train RMSE  8.3523 | Valid RMSE  8.4903\n",
      "Epoch   7 | Step   2900 | Train RMSE  8.4089 | Valid RMSE  8.4679\n",
      "Epoch   8 | Step   3000 | Train RMSE  8.2564 | Valid RMSE  8.5413\n",
      "Epoch   8 | Step   3100 | Train RMSE  8.2846 | Valid RMSE  8.5379\n",
      "Epoch   8 | Step   3200 | Train RMSE  8.3152 | Valid RMSE  8.5278\n",
      "Epoch   8 | Step   3300 | Train RMSE  8.3446 | Valid RMSE  8.5026\n",
      "Epoch   9 | Step   3400 | Train RMSE  8.2332 | Valid RMSE  8.4962\n",
      "Epoch   9 | Step   3500 | Train RMSE  8.2040 | Valid RMSE  8.8326\n",
      "Epoch   9 | Step   3600 | Train RMSE  8.3015 | Valid RMSE  8.6075\n",
      "Epoch   9 | Step   3700 | Train RMSE  8.2779 | Valid RMSE  8.6508\n",
      "Epoch  10 | Step   3800 | Train RMSE  8.1907 | Valid RMSE  8.5042\n",
      "Epoch  10 | Step   3900 | Train RMSE  8.1650 | Valid RMSE  8.6769\n",
      "Epoch  10 | Step   4000 | Train RMSE  8.1938 | Valid RMSE  8.5764\n",
      "Epoch  10 | Step   4100 | Train RMSE  8.2163 | Valid RMSE  8.5089\n",
      "Test RMSE:  8.892889840738988\n"
     ]
    }
   ],
   "source": [
    "net = mlp_model(trainset.X.shape[1], 180, 1)\n",
    "net = net.to(device)\n",
    "optimizer = torch.optim.SGD(net.parameters(), lr=0.00001, momentum=0, weight_decay=0)\n",
    "model, best_net_state, _, _ = train(net, optimizer=optimizer, loss_func=loss_func, sse_func=sse_func, trainloader=subtrainloader, validloader=validloader, epochs=10, verbose=False, model_path=\"model/q3_180.ckpt\")\n",
    "model.load_state_dict(best_net_state)\n",
    "test(model, testloader)"
   ]
  },
  {
   "cell_type": "code",
   "execution_count": null,
   "metadata": {},
   "outputs": [],
   "source": []
  },
  {
   "cell_type": "code",
   "execution_count": null,
   "metadata": {},
   "outputs": [],
   "source": []
  },
  {
   "cell_type": "code",
   "execution_count": null,
   "metadata": {},
   "outputs": [],
   "source": []
  },
  {
   "cell_type": "code",
   "execution_count": null,
   "metadata": {},
   "outputs": [],
   "source": []
  },
  {
   "cell_type": "markdown",
   "metadata": {},
   "source": [
    "## Q4\n",
    "使用Q2的模型設定，考慮 H = 45, 90, 180與Weight Decay = 0.1, 0.2, 0.4的所有組合。模型估計後做表整理Test RMSE。討論H的選擇應為多少較合理?"
   ]
  },
  {
   "cell_type": "code",
   "execution_count": null,
   "metadata": {},
   "outputs": [],
   "source": [
    "H_list = [45, 90, 180]\n",
    "weight_decay_list = [0.1, 0.2, 0.4]\n",
    "\n",
    "for h in H_list:\n",
    "    for weight_decay in weight_decay_list:\n",
    "        net = mlp_model(trainset.X.shape[1], h, 1)\n",
    "        net = net.to(device)\n",
    "        optimizer = torch.optim.SGD(net.parameters(), lr=0.00001, momentum=0, weight_decay=weight_decay)\n",
    "        model, best_net_state, _, _ = train(net, optimizer=optimizer, loss_func=loss_func, sse_func=sse_func, trainloader=subtrainloader, validloader=validloader, epochs=10, verbose=False model_path=f\"model/q4_{h}_{weight_decay}.ckpt\")\n",
    "        model.load_state_dict(best_net_state)\n",
    "        print(\"H:\", h, \"weight_decay:\", weight_decay)\n",
    "        test(model, testloader)\n",
    "        print(\"\\n\")"
   ]
  },
  {
   "cell_type": "markdown",
   "metadata": {},
   "source": []
  },
  {
   "cell_type": "markdown",
   "metadata": {},
   "source": [
    "## Q5\n",
    "建構一個有Dropout的四層Hidden Layer的MLP。\n",
    "- 第一層由90個Input Features通過線性層轉換為H個Hidden Nodes\n",
    "- 通過ReLu Activation Function\n",
    "- 對Hidden Unit Dropout，機率為0.5。\n",
    "- 後面各Hidden Lyaer均在ReLu後有Dropout，機率皆為0.5。\n",
    "- 最後通過一個線性層輸出。所有Hidden Layer的寬度都為H。\n",
    "\n",
    "- 令 H= 90, 使用Adaptive Moment Estimation (Adam)更新參數\n",
    "- 設Learning Rate = 0.001，無Weight Decay與Momentum。\n",
    "- 畫出模型訓練過程中的Training與Validation RMSE，列出Test RMSE。 並討論訓練過程中Training與Validation RMSE的圖形意義。"
   ]
  },
  {
   "cell_type": "code",
   "execution_count": 1,
   "metadata": {},
   "outputs": [],
   "source": [
    "def mlp_model_with_dropout(input_size, H, output_size, dropout_rate):\n",
    "    model = torch.nn.Sequential(\n",
    "        torch.nn.Linear(input_size, H),\n",
    "        torch.nn.ReLU(),\n",
    "        torch.nn.Dropout(dropout_rate),\n",
    "        torch.nn.Linear(H, H),\n",
    "        torch.nn.ReLU(),\n",
    "        torch.nn.Dropout(dropout_rate),\n",
    "        torch.nn.Linear(H, H),\n",
    "        torch.nn.ReLU(),\n",
    "        torch.nn.Dropout(dropout_rate),\n",
    "        torch.nn.Linear(H, H),\n",
    "        torch.nn.ReLU(),\n",
    "        torch.nn.Dropout(dropout_rate),\n",
    "        torch.nn.Linear(H, output_size)\n",
    "    )\n",
    "    return model"
   ]
  },
  {
   "cell_type": "code",
   "execution_count": null,
   "metadata": {},
   "outputs": [],
   "source": [
    "net = mlp_model_with_dropout(trainset.X.shape[1], 90, 1, 0.5)\n",
    "net = net.float().to(device)\n",
    "optimizer = torch.optim.Adam(net.parameters(), lr=0.001, momentum=0, weight_decay=0)\n",
    "loss_func = torch.nn.MSELoss(redution='sum')"
   ]
  },
  {
   "cell_type": "code",
   "execution_count": null,
   "metadata": {},
   "outputs": [],
   "source": [
    "model, best_net_state, train_loss_list, valid_loss_list = train(net, optimizer=optimizer, loss_func=loss_func, trainloader=subtrainloader, validloader=validloader, epochs=10, model_path=\"model/q5_90.ckpt\")"
   ]
  },
  {
   "cell_type": "code",
   "execution_count": null,
   "metadata": {},
   "outputs": [],
   "source": [
    "df_loss = pd.DataFrame({\"train_rmse\": train_loss_list, \"valid_rmse\": valid_loss_list})\n",
    "\n",
    "ax = sns.lineplot(data=df_loss, )\n",
    "ax.set(xlabel='number of batches', ylabel='RMSE')"
   ]
  },
  {
   "cell_type": "code",
   "execution_count": null,
   "metadata": {},
   "outputs": [],
   "source": [
    "model.load_state_dict(best_net_state)\n",
    "test(model, testloader)"
   ]
  },
  {
   "cell_type": "markdown",
   "metadata": {},
   "source": [
    "## Q6\n",
    "使用上題的模型，考慮H = 20, 180, 360。 討論H = 20, 45, 180, 360的Test RMSE。"
   ]
  },
  {
   "cell_type": "markdown",
   "metadata": {},
   "source": [
    "### H = 20"
   ]
  },
  {
   "cell_type": "code",
   "execution_count": null,
   "metadata": {},
   "outputs": [],
   "source": [
    "net = mlp_model_with_dropout(trainset.X.shape[1], 20, 1, 0.5)\n",
    "net = net.float().to(device)\n",
    "optimizer = torch.optim.Adam(net.parameters(), lr=0.001, momentum=0, weight_decay=0)\n",
    "model, best_net_state, _, _ = train(net, optimizer=optimizer, loss_func=loss_func, trainloader=subtrainloader, validloader=validloader, epochs=10, verbose=False, model_path=\"model/q6_20.ckpt\")\n",
    "model.load_state_dict(best_net_state)\n",
    "test(model, testloader)"
   ]
  },
  {
   "cell_type": "markdown",
   "metadata": {},
   "source": [
    "### H = 180"
   ]
  },
  {
   "cell_type": "code",
   "execution_count": null,
   "metadata": {},
   "outputs": [],
   "source": [
    "net = mlp_model_with_dropout(trainset.X.shape[1], 180, 1, 0.5)\n",
    "net = net.float().to(device)\n",
    "optimizer = torch.optim.Adam(net.parameters(), lr=0.001, momentum=0, weight_decay=0)\n",
    "model, best_net_state, _, _ = train(net, optimizer=optimizer, loss_func=loss_func, trainloader=subtrainloader, validloader=validloader, epochs=10, verbose=False, model_path=\"model/q6_180.ckpt\")\n",
    "model.load_state_dict(best_net_state)\n",
    "test(model, testloader)"
   ]
  },
  {
   "cell_type": "markdown",
   "metadata": {},
   "source": [
    "### H = 360"
   ]
  },
  {
   "cell_type": "code",
   "execution_count": null,
   "metadata": {},
   "outputs": [],
   "source": [
    "net = mlp_model_with_dropout(trainset.X.shape[1], 360, 1, 0.5)\n",
    "net = net.float().to(device)\n",
    "optimizer = torch.optim.Adam(net.parameters(), lr=0.001, momentum=0, weight_decay=0)\n",
    "model, best_net_state, _, _ = train(net, optimizer=optimizer, loss_func=loss_func, trainloader=subtrainloader, validloader=validloader, epochs=10, verbose=False, model_path=\"model/q6_360.ckpt\")\n",
    "model.load_state_dict(best_net_state)\n",
    "test(model, testloader)"
   ]
  },
  {
   "cell_type": "code",
   "execution_count": null,
   "metadata": {},
   "outputs": [],
   "source": []
  },
  {
   "cell_type": "markdown",
   "metadata": {},
   "source": [
    "## Q7\n",
    "\n",
    "我們前面的小題皆是使用SSE，也就是L2 Loss。一個改善模型訓練的方式是使用多種類似的Loss，以線性組合的方式建構Loss Function。請使用Q5中的MLP with Dropout模型 (H = 90)，並以L2 + L1 Loss訓練模型。這個Loss的定義如下:\n",
    "\n",
    "$$\n",
    "loss(\\mathbf{y}, \\hat{\\mathbf{y}}) = z \\sum_{i=1}^n (y_i - \\hat{y}_i)^2 + (1 - z) \\sum_{i = 1}^n | y_i - \\hat{y}_i |,\n",
    "$$\n",
    "其中z為實數且$0 <=z <= 1$。\n",
    "\n",
    "使用z = 0.5。並以Adam訓練模型。畫出Training and Validation RMSE，並報告Test RMSE。注意這裡繪圖時應使用RMSE而不是這個特殊的Loss。\n",
    "\n",
    "另外，使用z = 0.0, 0.1, 0.9, 1.0訓練模型(不須提供訓練過程的Loss圖形)，統整各個z值下的Test RMSE並討論。"
   ]
  },
  {
   "cell_type": "code",
   "execution_count": null,
   "metadata": {},
   "outputs": [],
   "source": [
    "def customized_loss_func(output, target):\n",
    "    loss = torch.mean(torch.abs(output - target))\n",
    "    return loss"
   ]
  },
  {
   "cell_type": "code",
   "execution_count": null,
   "metadata": {},
   "outputs": [],
   "source": []
  },
  {
   "cell_type": "code",
   "execution_count": null,
   "metadata": {},
   "outputs": [],
   "source": []
  },
  {
   "cell_type": "code",
   "execution_count": null,
   "metadata": {},
   "outputs": [],
   "source": []
  },
  {
   "cell_type": "markdown",
   "metadata": {},
   "source": [
    "#### Q8 \n",
    "考慮另一個比較特別的Loss Function\n",
    "\n",
    "$$\n",
    "qloss(\\mathbf{y}, \\hat{\\mathbf{y}}) = \\sum_{i=1}^n \\{ q (y_i - \\hat{y}_i)_+ + (1 - q) (\\hat{y}_i - y_i)_+ \\},\n",
    "$$\n",
    "其中q為參數且$0<=q<=1$，而$(y_i - \\hat{y}_i)_+$是取正值的意思。也就是說如果$(y_i - \\hat{y}_i) > 0$，則$(y_i - \\hat{y}_i)_+ = y_i - \\hat{y}_i$，否則$(y_i - \\hat{y}_i)_+ = 0$。\n",
    "\n",
    "令模型的Loss為$z \\sum_{i=1}^n (y_i - \\hat{y}_i)^2 + (1 - z) \\sum_{i=1}^n \\{ 0.5 (y_i - \\hat{y}_i)_+ + 0.5 (\\hat{y}_i - y_i)_+ \\} $。請使用Q5中的MLP with Dropout模型(H = 90)，令z = 0。並以Adam訓練模型。畫出Training and Validation RMSE，並報告Test RMSE。注意這裡繪圖時應使用RMSE而不是這個特殊的Loss。\n",
    "\n",
    "另外，使用z = 0.1, 0.5, 0.9, 1.0訓練模型(不須提供訓練過程的Loss圖形)，統整各個z值下的Test RMSE並討論。"
   ]
  },
  {
   "cell_type": "code",
   "execution_count": null,
   "metadata": {},
   "outputs": [],
   "source": []
  },
  {
   "cell_type": "code",
   "execution_count": null,
   "metadata": {},
   "outputs": [],
   "source": []
  },
  {
   "cell_type": "code",
   "execution_count": null,
   "metadata": {},
   "outputs": [],
   "source": []
  },
  {
   "cell_type": "code",
   "execution_count": null,
   "metadata": {},
   "outputs": [],
   "source": []
  },
  {
   "cell_type": "code",
   "execution_count": null,
   "metadata": {},
   "outputs": [],
   "source": []
  }
 ],
 "metadata": {
  "kernelspec": {
   "display_name": "Python 3.8.8 ('base')",
   "language": "python",
   "name": "python3"
  },
  "language_info": {
   "codemirror_mode": {
    "name": "ipython",
    "version": 3
   },
   "file_extension": ".py",
   "mimetype": "text/x-python",
   "name": "python",
   "nbconvert_exporter": "python",
   "pygments_lexer": "ipython3",
   "version": "3.8.8"
  },
  "orig_nbformat": 4,
  "vscode": {
   "interpreter": {
    "hash": "b881d7d647b99d6d14eaae6204912b6a54644d55796571ff1cc40dd37efe80a9"
   }
  }
 },
 "nbformat": 4,
 "nbformat_minor": 2
}
