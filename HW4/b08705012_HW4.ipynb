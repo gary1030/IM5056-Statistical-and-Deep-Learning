{
 "cells": [
  {
   "cell_type": "markdown",
   "metadata": {},
   "source": [
    "# B08705012 胡家愷 HW4"
   ]
  },
  {
   "cell_type": "code",
   "execution_count": 15,
   "metadata": {},
   "outputs": [
    {
     "name": "stdout",
     "output_type": "stream",
     "text": [
      "X_train shape =  (463715, 90)\n",
      "X_subtrain shape =  (417344, 90)\n",
      "X_valid shape =  (46371, 90)\n",
      "Y_subtrain shape =  (417344,)\n",
      "Y_valid shape =  (46371,)\n",
      "X_test shape =  (51630, 90)\n"
     ]
    }
   ],
   "source": [
    "# load packages\n",
    "%matplotlib inline\n",
    "import pickle\n",
    "from sklearn import preprocessing\n",
    "\n",
    "# Load data\n",
    "with open('msd_full.pickle', 'rb') as fh1:\n",
    "    msd_data = pickle.load(fh1)\n",
    "\n",
    "doscaling = 1\n",
    "if (doscaling == 1):\n",
    "    xscaler = preprocessing.StandardScaler().fit(msd_data['X_train'])\n",
    "    # standardize feature values\n",
    "    X_train = xscaler.transform(msd_data['X_train'])\n",
    "    X_test = xscaler.transform(msd_data['X_test'])\n",
    "else:\n",
    "    X_train = msd_data['X_train']\n",
    "    X_test = msd_data['X_test']\n",
    "\n",
    "Y_train = msd_data['Y_train']\n",
    "Y_test = msd_data['Y_test'].astype('float32')\n",
    "X_test = X_test.astype('float32')\n",
    "\n",
    "y_mean = Y_train.mean()\n",
    "Y_train_keep = Y_train.copy()\n",
    "Y_test_keep = Y_test.copy()\n",
    "Y_train = Y_train - y_mean\n",
    "Y_test = Y_test - y_mean\n",
    "\n",
    "\n",
    "# validation is the last 10% of training, subtraining is the first 90% of training\n",
    "nvalid = int(X_train.shape[0] * 0.1)\n",
    "nsubtrain = X_train.shape[0] - nvalid\n",
    "\n",
    "X_subtrain = X_train[0:nsubtrain, :].astype('float32')\n",
    "X_valid = X_train[nsubtrain:, :].astype('float32')\n",
    "Y_subtrain = Y_train[0:nsubtrain].astype('float32')\n",
    "Y_valid = Y_train[nsubtrain:].astype('float32')\n",
    "\n",
    "Y_subtrain_keep = Y_train_keep[0:nsubtrain].astype('float32')\n",
    "Y_valid_keep = Y_train_keep[nsubtrain:].astype('float32')\n",
    "\n",
    "print(\"X_train shape = \", X_train.shape)\n",
    "print(\"X_subtrain shape = \", X_subtrain.shape)\n",
    "print(\"X_valid shape = \", X_valid.shape)\n",
    "print(\"Y_subtrain shape = \", Y_subtrain.shape)\n",
    "print(\"Y_valid shape = \", Y_valid.shape)\n",
    "print(\"X_test shape = \", X_test.shape)"
   ]
  },
  {
   "cell_type": "code",
   "execution_count": 16,
   "metadata": {},
   "outputs": [
    {
     "name": "stdout",
     "output_type": "stream",
     "text": [
      "True\n"
     ]
    }
   ],
   "source": [
    "import torch\n",
    "print(torch.cuda.is_available())"
   ]
  },
  {
   "cell_type": "markdown",
   "metadata": {},
   "source": [
    "## Q1\n",
    "使用Training資料訓練一個Ordinary Least Square模型，並進行預測。列出此模型的RMSE與前五個特徵的參數。OLS模型應包含常數項，且不應有任何Regularization。"
   ]
  },
  {
   "cell_type": "code",
   "execution_count": 17,
   "metadata": {},
   "outputs": [
    {
     "name": "stdout",
     "output_type": "stream",
     "text": [
      "First 5 coefficients: [ 5.2934256  -2.8868346  -1.5276458   0.06307244 -0.33957964]\n",
      "RMSE =  9.509892\n"
     ]
    }
   ],
   "source": [
    "from sklearn.metrics import mean_squared_error\n",
    "from sklearn.linear_model import LinearRegression\n",
    "\n",
    "reg = LinearRegression(n_jobs=-1)\n",
    "reg.fit(X_subtrain, Y_subtrain_keep)\n",
    "print(\"First 5 coefficients:\", reg.coef_[0:5])\n",
    "y_pred = reg.predict(X_test)\n",
    "\n",
    "\n",
    "# squared: bool, default=True\n",
    "# If True returns MSE value, if False returns RMSE value.\n",
    "print(\"RMSE = \", mean_squared_error(Y_test_keep, y_pred, squared=False))"
   ]
  },
  {
   "cell_type": "markdown",
   "metadata": {},
   "source": [
    "## Q2\n",
    "\n",
    "- 建構一個有四層Hidden Layer的MLP。\n",
    "- 此模型由輸入層開始，90個Input Features通過線性層轉換為H個Hidden Nodes，\n",
    "- 通過ReLu Activation Function，此為第一層Hidden Layer。\n",
    "- 接著通過下一個線性層與ReLu Activation Function，此為第二層。\n",
    "- 接著下一個線性層與ReLu Activation Function，此為第三層。 \n",
    "- 然後下一個線性層與ReLu Activation Function，此為第四層。\n",
    "- 最後通過一個線性層輸出。 所有Hidden Layer的寬度都為H。\n",
    "\n",
    "令 H= 45, 使用 SGD 更新參數，設 Learning Rate = 0.00001，無 Weight Decay 與 Momentum。畫出模型訓練過程中的 Training 與Validation RMSE，列出 Test RMSE。\n",
    "並討論訓練過程中 Training 與 Validation RMSE 的圖形意義。"
   ]
  },
  {
   "cell_type": "code",
   "execution_count": 18,
   "metadata": {},
   "outputs": [],
   "source": [
    "import torch\n",
    "from torch.utils import data\n",
    "\n",
    "class Dataset(data.Dataset):\n",
    "  def __init__(self, X, Y):\n",
    "        self.labels = Y\n",
    "        self.len = X.shape[0]\n",
    "        self.X = X\n",
    "        self.Y = Y\n",
    "        \n",
    "\n",
    "  def __len__(self):\n",
    "        return self.len\n",
    "\n",
    "  def __getitem__(self, index):\n",
    "        X = self.X[index]\n",
    "        y = self.Y[index]\n",
    "        return X, y"
   ]
  },
  {
   "cell_type": "markdown",
   "metadata": {},
   "source": [
    "### Create Dataloader"
   ]
  },
  {
   "cell_type": "code",
   "execution_count": 19,
   "metadata": {},
   "outputs": [],
   "source": [
    "trainset = Dataset(X_train, Y_train)\n",
    "subtrainset = Dataset(X_subtrain, Y_subtrain)\n",
    "validset = Dataset(X_valid, Y_valid)\n",
    "testset = Dataset(X_test, Y_test)\n",
    "\n",
    "trainloader = data.DataLoader(trainset, batch_size=1000, shuffle=True, num_workers=0)\n",
    "subtrainloader = data.DataLoader(subtrainset, batch_size=1000, shuffle=True, num_workers=0)\n",
    "validloader = data.DataLoader(validset, batch_size=10000, shuffle=True, num_workers=0)\n",
    "testloader = data.DataLoader(testset, batch_size=10000, shuffle=True, num_workers=0)"
   ]
  },
  {
   "cell_type": "markdown",
   "metadata": {},
   "source": [
    "### Create Model"
   ]
  },
  {
   "cell_type": "markdown",
   "metadata": {},
   "source": [
    "- Minibatch: 1,000個資料點，更新參數之後稱為經歷了一個Batch。\n",
    "- 當所有 Subtraining 資料已經用來更新過模型參數，稱為經過了一個Epoch。\n",
    "- 每 100 個 Batch 計算一次 Training and Validation RMSE。\n",
    "- 如果 Validation 為歷史最低，則記下當下的模型參數與當時已進行的 Batch 數量，稱為best_step_count。\n",
    "- early_stop 設為 5,000 個 Batch。"
   ]
  },
  {
   "cell_type": "code",
   "execution_count": 24,
   "metadata": {},
   "outputs": [],
   "source": [
    "import numpy as np\n",
    "\n",
    "def train(net, optimizer, loss_func, trainloader, validloader, epochs=100, patient=5000, model_path='model/result.ckpt', verbose=True):\n",
    "    '''\n",
    "    ### Parameters\n",
    "    - net: model\n",
    "    - optimizer: optimizer (Adam or SGD)\n",
    "    - loss_func: loss function\n",
    "    - trainloader: training data loader\n",
    "    - validloader: validation data loader\n",
    "    - epochs: number of epochs\n",
    "    - patient: number of batches to wait before early stopping\n",
    "    - verbose: print training progress\n",
    "    - model_path: path to save model\n",
    "    '''\n",
    "    device = torch.device(\"cuda:0\" if torch.cuda.is_available() else \"cpu\")\n",
    "    step_count = 0\n",
    "    best_step_count = 0\n",
    "    interval = 100\n",
    "\n",
    "    train_loss_list = []\n",
    "    valid_loss_list = []\n",
    "    best_valid_rmse = float(\"inf\")\n",
    "\n",
    "    best_net_state = {}\n",
    "    stop = False\n",
    "\n",
    "    for epoch in range(epochs):\n",
    "        if stop:\n",
    "            break\n",
    "        for _, (data, target) in enumerate(trainloader):\n",
    "            step_count += 1\n",
    "            net.train()\n",
    "            target = target.reshape((-1, 1))\n",
    "            data = data.to(device)\n",
    "            target = target.to(device)\n",
    "\n",
    "            optimizer.zero_grad()\n",
    "            output = net(data)\n",
    "            \n",
    "            loss = loss_func(output, target)\n",
    "            loss.backward()\n",
    "            optimizer.step()\n",
    "\n",
    "            # 每 100 個 Batch 計算一次 Training and Validation RMSE\n",
    "            if step_count % interval == 0:\n",
    "                net.eval() # change to evaluation mode\n",
    "                # calculate training loss with current model\n",
    "                train_loss = 0\n",
    "                for _, (data, target) in enumerate(trainloader):\n",
    "                    target = target.reshape((-1, 1))\n",
    "                    data = data.to(device)\n",
    "                    target = target.to(device)\n",
    "                    output = net(data)\n",
    "                    train_loss += torch.nn.MSELoss(reduction='sum')(output, target).item()\n",
    "                    \n",
    "                train_rmse = np.sqrt(train_loss / len(trainloader.dataset))\n",
    "                train_loss_list.append(train_rmse)      \n",
    "                \n",
    "                # calculate validation loss with current model\n",
    "                valid_loss = 0   \n",
    "                for _, (data, target) in enumerate(validloader):\n",
    "                    target = target.reshape((-1, 1))\n",
    "                    data = data.to(device)\n",
    "                    target = target.to(device)\n",
    "                    output = net(data)\n",
    "                    valid_loss += torch.nn.MSELoss(reduction='sum')(output, target).item()\n",
    "                \n",
    "                valid_rmse = np.sqrt(valid_loss / len(validloader.dataset))\n",
    "                valid_loss_list.append(valid_rmse)\n",
    "\n",
    "                if verbose:\n",
    "                    print(f'[Epoch {epoch+1:3}] | Step {step_count:5} | Train RMSE {train_rmse:7.5f} | Valid RMSE {valid_rmse:7.5f}')\n",
    "                \n",
    "                # if current valid rmse < history best valid rmse, store current model to be the best model\n",
    "                if valid_rmse < best_valid_rmse:\n",
    "                    best_valid_rmse = valid_rmse\n",
    "                    best_step_count = step_count\n",
    "                    best_net_state = net.state_dict()\n",
    "                    torch.save(net, model_path)\n",
    "                elif step_count - best_step_count > patient:\n",
    "                    print(\"Early stopping at epoch\", epoch+1)\n",
    "                    stop = True\n",
    "                    break\n",
    "    return net, best_net_state, train_loss_list, valid_loss_list"
   ]
  },
  {
   "cell_type": "code",
   "execution_count": 25,
   "metadata": {},
   "outputs": [],
   "source": [
    "def mlp_model(input_size, hidden_size, output_size):\n",
    "    model = torch.nn.Sequential(\n",
    "        torch.nn.Linear(input_size, hidden_size),\n",
    "        torch.nn.ReLU(),\n",
    "        torch.nn.Linear(hidden_size, hidden_size),\n",
    "        torch.nn.ReLU(),\n",
    "        torch.nn.Linear(hidden_size, hidden_size),\n",
    "        torch.nn.ReLU(),\n",
    "        torch.nn.Linear(hidden_size, hidden_size),\n",
    "        torch.nn.ReLU(),\n",
    "        torch.nn.Linear(hidden_size, output_size)\n",
    "    )\n",
    "    return model\n",
    "\n",
    "net = mlp_model(trainset.X.shape[1], 45, 1)"
   ]
  },
  {
   "cell_type": "code",
   "execution_count": 26,
   "metadata": {},
   "outputs": [],
   "source": [
    "device = torch.device(\"cuda:0\" if torch.cuda.is_available() else \"cpu\")\n",
    "net = net.float()\n",
    "net = net.to(device)\n",
    "\n",
    "optimizer = torch.optim.SGD(net.parameters(), lr=0.00001, momentum=0, weight_decay=0)\n",
    "loss_func = torch.nn.MSELoss(reduction='sum')"
   ]
  },
  {
   "cell_type": "code",
   "execution_count": 27,
   "metadata": {},
   "outputs": [
    {
     "name": "stdout",
     "output_type": "stream",
     "text": [
      "[Epoch   1] | Step   100 | Train RMSE 10.68697 | Valid RMSE 10.65940\n",
      "[Epoch   1] | Step   200 | Train RMSE 9.06249 | Valid RMSE 8.99830\n",
      "[Epoch   1] | Step   300 | Train RMSE 8.93918 | Valid RMSE 8.89137\n",
      "[Epoch   1] | Step   400 | Train RMSE 8.94253 | Valid RMSE 8.89147\n",
      "[Epoch   2] | Step   500 | Train RMSE 8.93823 | Valid RMSE 8.90315\n",
      "[Epoch   2] | Step   600 | Train RMSE 8.88845 | Valid RMSE 8.85021\n",
      "[Epoch   2] | Step   700 | Train RMSE 8.75880 | Valid RMSE 8.72612\n",
      "[Epoch   2] | Step   800 | Train RMSE 8.81743 | Valid RMSE 8.80549\n",
      "[Epoch   3] | Step   900 | Train RMSE 8.72337 | Valid RMSE 8.71285\n",
      "[Epoch   3] | Step  1000 | Train RMSE 8.69646 | Valid RMSE 8.69873\n",
      "[Epoch   3] | Step  1100 | Train RMSE 8.67294 | Valid RMSE 8.67442\n",
      "[Epoch   3] | Step  1200 | Train RMSE 8.70391 | Valid RMSE 8.71300\n",
      "[Epoch   4] | Step  1300 | Train RMSE 8.66576 | Valid RMSE 8.67803\n",
      "[Epoch   4] | Step  1400 | Train RMSE 8.67534 | Valid RMSE 8.69485\n",
      "[Epoch   4] | Step  1500 | Train RMSE 8.63137 | Valid RMSE 8.65407\n",
      "[Epoch   4] | Step  1600 | Train RMSE 8.68695 | Valid RMSE 8.70166\n",
      "[Epoch   5] | Step  1700 | Train RMSE 8.64372 | Valid RMSE 8.65855\n",
      "[Epoch   5] | Step  1800 | Train RMSE 8.58181 | Valid RMSE 8.60591\n",
      "[Epoch   5] | Step  1900 | Train RMSE 8.57523 | Valid RMSE 8.60279\n",
      "[Epoch   5] | Step  2000 | Train RMSE 8.58165 | Valid RMSE 8.62135\n",
      "[Epoch   6] | Step  2100 | Train RMSE 8.56319 | Valid RMSE 8.59099\n",
      "[Epoch   6] | Step  2200 | Train RMSE 8.54546 | Valid RMSE 8.60332\n",
      "[Epoch   6] | Step  2300 | Train RMSE 8.60966 | Valid RMSE 8.67004\n",
      "[Epoch   6] | Step  2400 | Train RMSE 8.54483 | Valid RMSE 8.60799\n",
      "[Epoch   6] | Step  2500 | Train RMSE 8.51299 | Valid RMSE 8.57952\n",
      "[Epoch   7] | Step  2600 | Train RMSE 8.60507 | Valid RMSE 8.66168\n",
      "[Epoch   7] | Step  2700 | Train RMSE 8.55600 | Valid RMSE 8.62332\n",
      "[Epoch   7] | Step  2800 | Train RMSE 8.52411 | Valid RMSE 8.59579\n",
      "[Epoch   7] | Step  2900 | Train RMSE 8.51919 | Valid RMSE 8.59624\n",
      "[Epoch   8] | Step  3000 | Train RMSE 8.50587 | Valid RMSE 8.60763\n",
      "[Epoch   8] | Step  3100 | Train RMSE 8.50588 | Valid RMSE 8.59548\n",
      "[Epoch   8] | Step  3200 | Train RMSE 8.47334 | Valid RMSE 8.57796\n",
      "[Epoch   8] | Step  3300 | Train RMSE 8.48463 | Valid RMSE 8.58052\n",
      "[Epoch   9] | Step  3400 | Train RMSE 8.46951 | Valid RMSE 8.57294\n",
      "[Epoch   9] | Step  3500 | Train RMSE 8.50242 | Valid RMSE 8.61810\n",
      "[Epoch   9] | Step  3600 | Train RMSE 8.47937 | Valid RMSE 8.57610\n",
      "[Epoch   9] | Step  3700 | Train RMSE 8.47338 | Valid RMSE 8.58782\n",
      "[Epoch  10] | Step  3800 | Train RMSE 8.46255 | Valid RMSE 8.58771\n",
      "[Epoch  10] | Step  3900 | Train RMSE 8.48465 | Valid RMSE 8.61398\n",
      "[Epoch  10] | Step  4000 | Train RMSE 8.46688 | Valid RMSE 8.59244\n",
      "[Epoch  10] | Step  4100 | Train RMSE 8.46161 | Valid RMSE 8.58842\n",
      "[Epoch  11] | Step  4200 | Train RMSE 8.58620 | Valid RMSE 8.69931\n",
      "[Epoch  11] | Step  4300 | Train RMSE 8.43917 | Valid RMSE 8.56492\n",
      "[Epoch  11] | Step  4400 | Train RMSE 8.45862 | Valid RMSE 8.57255\n",
      "[Epoch  11] | Step  4500 | Train RMSE 8.46454 | Valid RMSE 8.58753\n",
      "[Epoch  12] | Step  4600 | Train RMSE 8.42833 | Valid RMSE 8.57604\n",
      "[Epoch  12] | Step  4700 | Train RMSE 8.44302 | Valid RMSE 8.57800\n",
      "[Epoch  12] | Step  4800 | Train RMSE 8.45304 | Valid RMSE 8.60329\n",
      "[Epoch  12] | Step  4900 | Train RMSE 8.41459 | Valid RMSE 8.57192\n",
      "[Epoch  12] | Step  5000 | Train RMSE 8.40399 | Valid RMSE 8.57056\n",
      "[Epoch  13] | Step  5100 | Train RMSE 8.40951 | Valid RMSE 8.56622\n",
      "[Epoch  13] | Step  5200 | Train RMSE 8.44256 | Valid RMSE 8.62841\n",
      "[Epoch  13] | Step  5300 | Train RMSE 8.40719 | Valid RMSE 8.55572\n",
      "[Epoch  13] | Step  5400 | Train RMSE 8.43801 | Valid RMSE 8.59762\n",
      "[Epoch  14] | Step  5500 | Train RMSE 8.41972 | Valid RMSE 8.59311\n",
      "[Epoch  14] | Step  5600 | Train RMSE 8.40287 | Valid RMSE 8.59067\n",
      "[Epoch  14] | Step  5700 | Train RMSE 8.40578 | Valid RMSE 8.57100\n",
      "[Epoch  14] | Step  5800 | Train RMSE 8.38729 | Valid RMSE 8.57414\n",
      "[Epoch  15] | Step  5900 | Train RMSE 8.39053 | Valid RMSE 8.58705\n",
      "[Epoch  15] | Step  6000 | Train RMSE 8.40505 | Valid RMSE 8.57517\n",
      "[Epoch  15] | Step  6100 | Train RMSE 8.36254 | Valid RMSE 8.55434\n",
      "[Epoch  15] | Step  6200 | Train RMSE 8.39008 | Valid RMSE 8.57011\n",
      "[Epoch  16] | Step  6300 | Train RMSE 8.50963 | Valid RMSE 8.75058\n",
      "[Epoch  16] | Step  6400 | Train RMSE 8.37208 | Valid RMSE 8.57475\n",
      "[Epoch  16] | Step  6500 | Train RMSE 8.37646 | Valid RMSE 8.56854\n",
      "[Epoch  16] | Step  6600 | Train RMSE 8.36047 | Valid RMSE 8.56245\n",
      "[Epoch  17] | Step  6700 | Train RMSE 8.34809 | Valid RMSE 8.56033\n",
      "[Epoch  17] | Step  6800 | Train RMSE 8.36504 | Valid RMSE 8.56626\n",
      "[Epoch  17] | Step  6900 | Train RMSE 8.39574 | Valid RMSE 8.59390\n",
      "[Epoch  17] | Step  7000 | Train RMSE 8.36320 | Valid RMSE 8.59295\n",
      "[Epoch  17] | Step  7100 | Train RMSE 8.40321 | Valid RMSE 8.60728\n",
      "[Epoch  18] | Step  7200 | Train RMSE 8.41152 | Valid RMSE 8.61136\n",
      "[Epoch  18] | Step  7300 | Train RMSE 8.35668 | Valid RMSE 8.57532\n",
      "[Epoch  18] | Step  7400 | Train RMSE 8.43947 | Valid RMSE 8.70098\n",
      "[Epoch  18] | Step  7500 | Train RMSE 8.39228 | Valid RMSE 8.59894\n",
      "[Epoch  19] | Step  7600 | Train RMSE 8.33032 | Valid RMSE 8.56136\n",
      "[Epoch  19] | Step  7700 | Train RMSE 8.38098 | Valid RMSE 8.63918\n",
      "[Epoch  19] | Step  7800 | Train RMSE 8.37167 | Valid RMSE 8.57521\n",
      "[Epoch  19] | Step  7900 | Train RMSE 8.32321 | Valid RMSE 8.55195\n",
      "[Epoch  20] | Step  8000 | Train RMSE 8.33395 | Valid RMSE 8.58508\n",
      "[Epoch  20] | Step  8100 | Train RMSE 8.34671 | Valid RMSE 8.57778\n",
      "[Epoch  20] | Step  8200 | Train RMSE 8.33854 | Valid RMSE 8.56608\n",
      "[Epoch  20] | Step  8300 | Train RMSE 8.33258 | Valid RMSE 8.58402\n",
      "[Epoch  21] | Step  8400 | Train RMSE 8.34293 | Valid RMSE 8.56893\n",
      "[Epoch  21] | Step  8500 | Train RMSE 8.33320 | Valid RMSE 8.59576\n",
      "[Epoch  21] | Step  8600 | Train RMSE 8.31753 | Valid RMSE 8.56020\n",
      "[Epoch  21] | Step  8700 | Train RMSE 8.34932 | Valid RMSE 8.57764\n",
      "[Epoch  22] | Step  8800 | Train RMSE 8.32689 | Valid RMSE 8.61637\n",
      "[Epoch  22] | Step  8900 | Train RMSE 8.33074 | Valid RMSE 8.58901\n",
      "[Epoch  22] | Step  9000 | Train RMSE 8.32877 | Valid RMSE 8.62183\n",
      "[Epoch  22] | Step  9100 | Train RMSE 8.35350 | Valid RMSE 8.64609\n",
      "[Epoch  23] | Step  9200 | Train RMSE 8.31441 | Valid RMSE 8.55956\n",
      "[Epoch  23] | Step  9300 | Train RMSE 8.31306 | Valid RMSE 8.59658\n",
      "[Epoch  23] | Step  9400 | Train RMSE 8.32770 | Valid RMSE 8.56869\n",
      "[Epoch  23] | Step  9500 | Train RMSE 8.38208 | Valid RMSE 8.63021\n",
      "[Epoch  23] | Step  9600 | Train RMSE 8.32426 | Valid RMSE 8.61891\n",
      "[Epoch  24] | Step  9700 | Train RMSE 8.33348 | Valid RMSE 8.65551\n",
      "[Epoch  24] | Step  9800 | Train RMSE 8.29530 | Valid RMSE 8.55061\n",
      "[Epoch  24] | Step  9900 | Train RMSE 8.33668 | Valid RMSE 8.62283\n",
      "[Epoch  24] | Step 10000 | Train RMSE 8.29817 | Valid RMSE 8.59484\n",
      "[Epoch  25] | Step 10100 | Train RMSE 8.29763 | Valid RMSE 8.57160\n",
      "[Epoch  25] | Step 10200 | Train RMSE 8.29578 | Valid RMSE 8.57376\n",
      "[Epoch  25] | Step 10300 | Train RMSE 8.28687 | Valid RMSE 8.57433\n",
      "[Epoch  25] | Step 10400 | Train RMSE 8.27641 | Valid RMSE 8.58121\n",
      "[Epoch  26] | Step 10500 | Train RMSE 8.27582 | Valid RMSE 8.55681\n",
      "[Epoch  26] | Step 10600 | Train RMSE 8.33430 | Valid RMSE 8.60221\n",
      "[Epoch  26] | Step 10700 | Train RMSE 8.27318 | Valid RMSE 8.55978\n",
      "[Epoch  26] | Step 10800 | Train RMSE 8.28944 | Valid RMSE 8.59516\n",
      "[Epoch  27] | Step 10900 | Train RMSE 8.28408 | Valid RMSE 8.59125\n",
      "[Epoch  27] | Step 11000 | Train RMSE 8.28044 | Valid RMSE 8.61184\n",
      "[Epoch  27] | Step 11100 | Train RMSE 8.30495 | Valid RMSE 8.63703\n",
      "[Epoch  27] | Step 11200 | Train RMSE 8.28955 | Valid RMSE 8.57290\n",
      "[Epoch  28] | Step 11300 | Train RMSE 8.30217 | Valid RMSE 8.61291\n",
      "[Epoch  28] | Step 11400 | Train RMSE 8.31610 | Valid RMSE 8.62472\n",
      "[Epoch  28] | Step 11500 | Train RMSE 8.28868 | Valid RMSE 8.64159\n",
      "[Epoch  28] | Step 11600 | Train RMSE 8.26145 | Valid RMSE 8.56924\n",
      "[Epoch  28] | Step 11700 | Train RMSE 8.28583 | Valid RMSE 8.60198\n",
      "[Epoch  29] | Step 11800 | Train RMSE 8.26332 | Valid RMSE 8.60418\n",
      "[Epoch  29] | Step 11900 | Train RMSE 8.26631 | Valid RMSE 8.59427\n",
      "[Epoch  29] | Step 12000 | Train RMSE 8.27858 | Valid RMSE 8.60783\n",
      "[Epoch  29] | Step 12100 | Train RMSE 8.27322 | Valid RMSE 8.57821\n",
      "[Epoch  30] | Step 12200 | Train RMSE 8.26920 | Valid RMSE 8.60699\n",
      "[Epoch  30] | Step 12300 | Train RMSE 8.26069 | Valid RMSE 8.59644\n",
      "[Epoch  30] | Step 12400 | Train RMSE 8.24541 | Valid RMSE 8.60011\n",
      "[Epoch  30] | Step 12500 | Train RMSE 8.33087 | Valid RMSE 8.63190\n",
      "[Epoch  31] | Step 12600 | Train RMSE 8.32494 | Valid RMSE 8.60574\n",
      "[Epoch  31] | Step 12700 | Train RMSE 8.24106 | Valid RMSE 8.61499\n",
      "[Epoch  31] | Step 12800 | Train RMSE 8.27721 | Valid RMSE 8.55522\n",
      "[Epoch  31] | Step 12900 | Train RMSE 8.25795 | Valid RMSE 8.61519\n",
      "[Epoch  32] | Step 13000 | Train RMSE 8.22690 | Valid RMSE 8.57438\n",
      "[Epoch  32] | Step 13100 | Train RMSE 8.25046 | Valid RMSE 8.59993\n",
      "[Epoch  32] | Step 13200 | Train RMSE 8.23961 | Valid RMSE 8.59280\n",
      "[Epoch  32] | Step 13300 | Train RMSE 8.23699 | Valid RMSE 8.56746\n",
      "[Epoch  33] | Step 13400 | Train RMSE 8.22566 | Valid RMSE 8.61837\n",
      "[Epoch  33] | Step 13500 | Train RMSE 8.26440 | Valid RMSE 8.60794\n",
      "[Epoch  33] | Step 13600 | Train RMSE 8.22179 | Valid RMSE 8.58683\n",
      "[Epoch  33] | Step 13700 | Train RMSE 8.23979 | Valid RMSE 8.59846\n",
      "[Epoch  34] | Step 13800 | Train RMSE 8.23740 | Valid RMSE 8.60703\n",
      "[Epoch  34] | Step 13900 | Train RMSE 8.27884 | Valid RMSE 8.59461\n",
      "[Epoch  34] | Step 14000 | Train RMSE 8.23131 | Valid RMSE 8.56863\n",
      "[Epoch  34] | Step 14100 | Train RMSE 8.28262 | Valid RMSE 8.61480\n",
      "[Epoch  34] | Step 14200 | Train RMSE 8.22233 | Valid RMSE 8.58527\n",
      "[Epoch  35] | Step 14300 | Train RMSE 8.22261 | Valid RMSE 8.60323\n",
      "[Epoch  35] | Step 14400 | Train RMSE 8.26839 | Valid RMSE 8.59594\n",
      "[Epoch  35] | Step 14500 | Train RMSE 8.24443 | Valid RMSE 8.59968\n",
      "[Epoch  35] | Step 14600 | Train RMSE 8.21809 | Valid RMSE 8.59103\n",
      "[Epoch  36] | Step 14700 | Train RMSE 8.21169 | Valid RMSE 8.60301\n",
      "[Epoch  36] | Step 14800 | Train RMSE 8.20693 | Valid RMSE 8.60683\n",
      "[Epoch  36] | Step 14900 | Train RMSE 8.25263 | Valid RMSE 8.64851\n",
      "Early stopping at epoch 36\n"
     ]
    }
   ],
   "source": [
    "model, best_net_state, train_loss_list, valid_loss_list = train(net, optimizer=optimizer, loss_func=loss_func, trainloader=subtrainloader, validloader=validloader, epochs=100, model_path=\"model/q2.ckpt\")"
   ]
  },
  {
   "cell_type": "code",
   "execution_count": 28,
   "metadata": {},
   "outputs": [
    {
     "data": {
      "text/plain": [
       "[Text(0.5, 0, 'number of batches'), Text(0, 0.5, 'RMSE')]"
      ]
     },
     "execution_count": 28,
     "metadata": {},
     "output_type": "execute_result"
    },
    {
     "data": {
      "image/png": "[encoded data removed]",
      "text/plain": [
       "<Figure size 640x480 with 1 Axes>"
      ]
     },
     "metadata": {},
     "output_type": "display_data"
    }
   ],
   "source": [
    "import seaborn as sns\n",
    "import pandas as pd\n",
    "\n",
    "df_loss = pd.DataFrame({\"train_rmse\": train_loss_list, \"valid_rmse\": valid_loss_list})\n",
    "\n",
    "ax = sns.lineplot(data=df_loss, )\n",
    "ax.set(xlabel='number of batches', ylabel='RMSE')"
   ]
  },
  {
   "cell_type": "code",
   "execution_count": 29,
   "metadata": {},
   "outputs": [],
   "source": [
    "def test(net, testloader):\n",
    "    net.eval()\n",
    "    test_loss = 0\n",
    "    test_loss_cnt = 0\n",
    "    for _, (data, target) in enumerate(testloader):\n",
    "        target = target.reshape((-1, 1))\n",
    "        data = data.to(device)\n",
    "        target = target.to(device)\n",
    "        output = net(data)\n",
    "        loss = loss_func(output, target)\n",
    "        test_loss += loss.item()\n",
    "        test_loss_cnt += data.shape[0]\n",
    "    test_rmse = np.sqrt(test_loss / test_loss_cnt)\n",
    "    print(\"Test RMSE: \", test_rmse)    "
   ]
  },
  {
   "cell_type": "code",
   "execution_count": 34,
   "metadata": {},
   "outputs": [
    {
     "name": "stdout",
     "output_type": "stream",
     "text": [
      "Test RMSE:  8.904900716625187\n"
     ]
    }
   ],
   "source": [
    "model = torch.load('model/q2.ckpt')\n",
    "test(model, testloader)"
   ]
  },
  {
   "cell_type": "markdown",
   "metadata": {},
   "source": [
    "我們可以發現 validation 的 rmse 在大概 15 個 batch 之後就會穩定在 training 的 rmse 上方，這是預期且合理的，我們接著可以發現 validation 大概到 40 個 batch 之後就趨於穩定，rmse 不沒有再繼續減少，但 training rmse 持續減少，這時候代表可能開始出現 overfitting 的現象，但模型在 epoch 36 就及時做出 early stopping，避免 overfitting 太嚴重。"
   ]
  },
  {
   "cell_type": "markdown",
   "metadata": {},
   "source": [
    "## Q3\n",
    "使用H = 90與180。無須畫訓練過程的RMSE。列出這兩個Test RMSE。討論H = 45, 90, 180的Test RMSE。"
   ]
  },
  {
   "cell_type": "markdown",
   "metadata": {},
   "source": [
    "### H=90"
   ]
  },
  {
   "cell_type": "code",
   "execution_count": 35,
   "metadata": {},
   "outputs": [
    {
     "name": "stdout",
     "output_type": "stream",
     "text": [
      "Early stopping at epoch 23\n"
     ]
    }
   ],
   "source": [
    "net = mlp_model(trainset.X.shape[1], 90, 1)\n",
    "net = net.to(device)\n",
    "optimizer = torch.optim.SGD(net.parameters(), lr=0.00001, momentum=0, weight_decay=0)\n",
    "model, best_net_state, _, _ = train(net, optimizer=optimizer, loss_func=loss_func, trainloader=subtrainloader, validloader=validloader, epochs=100, verbose=False, model_path=\"model/q3_90.ckpt\")"
   ]
  },
  {
   "cell_type": "code",
   "execution_count": 36,
   "metadata": {},
   "outputs": [
    {
     "name": "stdout",
     "output_type": "stream",
     "text": [
      "Test RMSE:  8.80093818800341\n"
     ]
    }
   ],
   "source": [
    "model = torch.load('model/q3_90.ckpt')\n",
    "test(model, testloader)"
   ]
  },
  {
   "cell_type": "markdown",
   "metadata": {},
   "source": [
    "### H=180"
   ]
  },
  {
   "cell_type": "code",
   "execution_count": 37,
   "metadata": {},
   "outputs": [
    {
     "name": "stdout",
     "output_type": "stream",
     "text": [
      "Early stopping at epoch 23\n"
     ]
    }
   ],
   "source": [
    "net = mlp_model(trainset.X.shape[1], 180, 1)\n",
    "net = net.to(device)\n",
    "optimizer = torch.optim.SGD(net.parameters(), lr=0.00001, momentum=0, weight_decay=0)\n",
    "model, best_net_state, _, _ = train(net, optimizer=optimizer, loss_func=loss_func, trainloader=subtrainloader, validloader=validloader, epochs=100, verbose=False, model_path=\"model/q3_180.ckpt\")"
   ]
  },
  {
   "cell_type": "code",
   "execution_count": 38,
   "metadata": {},
   "outputs": [
    {
     "name": "stdout",
     "output_type": "stream",
     "text": [
      "Test RMSE:  8.841749610276855\n"
     ]
    }
   ],
   "source": [
    "model = torch.load('model/q3_180.ckpt')\n",
    "test(model, testloader)"
   ]
  },
  {
   "cell_type": "markdown",
   "metadata": {},
   "source": [
    "H = 45, 90, 180 分別的 Test RMSE 是 8.9049, 8.8009, 8.8417，代表當 H=90 時，RMSE 最小，因此在本題中，選擇 H=90 會是比較好的選擇。"
   ]
  },
  {
   "cell_type": "markdown",
   "metadata": {},
   "source": [
    "## Q4\n",
    "使用Q2的模型設定，考慮 H = 45, 90, 180與Weight Decay = 0.1, 0.2, 0.4的所有組合。模型估計後做表整理Test RMSE。討論H的選擇應為多少較合理?"
   ]
  },
  {
   "cell_type": "code",
   "execution_count": 41,
   "metadata": {},
   "outputs": [
    {
     "name": "stdout",
     "output_type": "stream",
     "text": [
      "H: 45 weight_decay: 0.1\n",
      "Early stopping at epoch 36\n",
      "Test RMSE:  8.822548017726076\n",
      "\n",
      "\n",
      "H: 45 weight_decay: 0.2\n",
      "Early stopping at epoch 37\n",
      "Test RMSE:  8.868997596473907\n",
      "\n",
      "\n",
      "H: 45 weight_decay: 0.4\n",
      "Early stopping at epoch 26\n",
      "Test RMSE:  8.81216097457302\n",
      "\n",
      "\n",
      "H: 90 weight_decay: 0.1\n",
      "Early stopping at epoch 26\n",
      "Test RMSE:  8.8434977107545\n",
      "\n",
      "\n",
      "H: 90 weight_decay: 0.2\n",
      "Early stopping at epoch 28\n",
      "Test RMSE:  8.846006188617366\n",
      "\n",
      "\n",
      "H: 90 weight_decay: 0.4\n",
      "Early stopping at epoch 23\n",
      "Test RMSE:  8.838997279430052\n",
      "\n",
      "\n",
      "H: 180 weight_decay: 0.1\n",
      "Early stopping at epoch 24\n",
      "Test RMSE:  8.897579257441652\n",
      "\n",
      "\n",
      "H: 180 weight_decay: 0.2\n",
      "Early stopping at epoch 20\n",
      "Test RMSE:  8.793388996750874\n",
      "\n",
      "\n",
      "H: 180 weight_decay: 0.4\n",
      "Early stopping at epoch 20\n",
      "Test RMSE:  8.829385976710999\n",
      "\n",
      "\n"
     ]
    }
   ],
   "source": [
    "H_list = [45, 90, 180]\n",
    "weight_decay_list = [0.1, 0.2, 0.4]\n",
    "\n",
    "for h in H_list:\n",
    "    for weight_decay in weight_decay_list:\n",
    "        print(\"H:\", h, \"weight_decay:\", weight_decay)\n",
    "        net = mlp_model(trainset.X.shape[1], h, 1)\n",
    "        net = net.float().to(device)\n",
    "        optimizer = torch.optim.SGD(net.parameters(), lr=0.00001, momentum=0, weight_decay=weight_decay)\n",
    "        model, best_net_state, _, _ = train(net, optimizer=optimizer, loss_func=loss_func, trainloader=subtrainloader, validloader=validloader, epochs=100, verbose=False, model_path=f\"model/q4_{h}_{weight_decay}.ckpt\")\n",
    "        model = torch.load(f\"model/q4_{h}_{weight_decay}.ckpt\")\n",
    "        test(model, testloader)\n",
    "        print(\"\\n\")"
   ]
  },
  {
   "cell_type": "markdown",
   "metadata": {},
   "source": [
    "| H\\Weight Decay | 0.1    | 0.2    | 0.4    |\n",
    "|----------------|--------|--------|--------|\n",
    "| 45             | 8.8225 | 8.8690 | 9.8122 |\n",
    "| 90             | 8.8435 | 8.8460 | 8.8390 |\n",
    "| 180            | 8.8976 | 8.7934 | 8.8294 |"
   ]
  },
  {
   "cell_type": "markdown",
   "metadata": {},
   "source": [
    "可以發現，當 weight dacay = 0.2 或 0.4 時，H 愈大， RMSE 愈小，當 weight decay = 0.1 時，H 愈小愈好。\n",
    "\n",
    "在本題中，H = 45, weight decay = 0.1，有最小的 RMSE，為最佳結果。"
   ]
  },
  {
   "cell_type": "markdown",
   "metadata": {},
   "source": [
    "## Q5\n",
    "建構一個有Dropout的四層Hidden Layer的MLP。\n",
    "- 第一層由90個Input Features通過線性層轉換為H個Hidden Nodes\n",
    "- 通過ReLu Activation Function\n",
    "- 對Hidden Unit Dropout，機率為0.5。\n",
    "- 後面各Hidden Lyaer均在ReLu後有Dropout，機率皆為0.5。\n",
    "- 最後通過一個線性層輸出。所有Hidden Layer的寬度都為H。\n",
    "\n",
    "- 令 H= 90, 使用Adaptive Moment Estimation (Adam)更新參數\n",
    "- 設Learning Rate = 0.001，無Weight Decay與Momentum。\n",
    "- 畫出模型訓練過程中的Training與Validation RMSE，列出Test RMSE。 並討論訓練過程中Training與Validation RMSE的圖形意義。"
   ]
  },
  {
   "cell_type": "code",
   "execution_count": 42,
   "metadata": {},
   "outputs": [],
   "source": [
    "def mlp_model_with_dropout(input_size, H, output_size, dropout_rate):\n",
    "    model = torch.nn.Sequential(\n",
    "        torch.nn.Linear(input_size, H),\n",
    "        torch.nn.ReLU(),\n",
    "        torch.nn.Dropout(dropout_rate),\n",
    "        torch.nn.Linear(H, H),\n",
    "        torch.nn.ReLU(),\n",
    "        torch.nn.Dropout(dropout_rate),\n",
    "        torch.nn.Linear(H, H),\n",
    "        torch.nn.ReLU(),\n",
    "        torch.nn.Dropout(dropout_rate),\n",
    "        torch.nn.Linear(H, H),\n",
    "        torch.nn.ReLU(),\n",
    "        torch.nn.Dropout(dropout_rate),\n",
    "        torch.nn.Linear(H, output_size)\n",
    "    )\n",
    "    return model"
   ]
  },
  {
   "cell_type": "code",
   "execution_count": 45,
   "metadata": {},
   "outputs": [],
   "source": [
    "net = mlp_model_with_dropout(trainset.X.shape[1], 90, 1, 0.5)\n",
    "net = net.float().to(device)\n",
    "optimizer = torch.optim.Adam(net.parameters(), lr=0.001, weight_decay=0)\n",
    "loss_func = torch.nn.MSELoss(reduction='sum')"
   ]
  },
  {
   "cell_type": "code",
   "execution_count": 46,
   "metadata": {},
   "outputs": [
    {
     "name": "stdout",
     "output_type": "stream",
     "text": [
      "[Epoch   1] | Step   100 | Train RMSE 9.46201 | Valid RMSE 9.42325\n",
      "[Epoch   1] | Step   200 | Train RMSE 9.15519 | Valid RMSE 9.09959\n",
      "[Epoch   1] | Step   300 | Train RMSE 9.06805 | Valid RMSE 9.01577\n",
      "[Epoch   1] | Step   400 | Train RMSE 9.00191 | Valid RMSE 8.94882\n",
      "[Epoch   2] | Step   500 | Train RMSE 8.94912 | Valid RMSE 8.89655\n",
      "[Epoch   2] | Step   600 | Train RMSE 8.93622 | Valid RMSE 8.89115\n",
      "[Epoch   2] | Step   700 | Train RMSE 8.88564 | Valid RMSE 8.83631\n",
      "[Epoch   2] | Step   800 | Train RMSE 8.87181 | Valid RMSE 8.82155\n",
      "[Epoch   3] | Step   900 | Train RMSE 8.85925 | Valid RMSE 8.81549\n",
      "[Epoch   3] | Step  1000 | Train RMSE 8.82194 | Valid RMSE 8.78020\n",
      "[Epoch   3] | Step  1100 | Train RMSE 8.84195 | Valid RMSE 8.79773\n",
      "[Epoch   3] | Step  1200 | Train RMSE 8.80585 | Valid RMSE 8.75818\n",
      "[Epoch   4] | Step  1300 | Train RMSE 8.79161 | Valid RMSE 8.75252\n",
      "[Epoch   4] | Step  1400 | Train RMSE 8.77818 | Valid RMSE 8.74462\n",
      "[Epoch   4] | Step  1500 | Train RMSE 8.76661 | Valid RMSE 8.72805\n",
      "[Epoch   4] | Step  1600 | Train RMSE 8.76041 | Valid RMSE 8.72525\n",
      "[Epoch   5] | Step  1700 | Train RMSE 8.76676 | Valid RMSE 8.73240\n",
      "[Epoch   5] | Step  1800 | Train RMSE 8.77249 | Valid RMSE 8.73693\n",
      "[Epoch   5] | Step  1900 | Train RMSE 8.74607 | Valid RMSE 8.71903\n",
      "[Epoch   5] | Step  2000 | Train RMSE 8.74309 | Valid RMSE 8.71004\n",
      "[Epoch   6] | Step  2100 | Train RMSE 8.72369 | Valid RMSE 8.70147\n",
      "[Epoch   6] | Step  2200 | Train RMSE 8.72837 | Valid RMSE 8.70226\n",
      "[Epoch   6] | Step  2300 | Train RMSE 8.74267 | Valid RMSE 8.71610\n",
      "[Epoch   6] | Step  2400 | Train RMSE 8.69979 | Valid RMSE 8.67566\n",
      "[Epoch   6] | Step  2500 | Train RMSE 8.72798 | Valid RMSE 8.71105\n",
      "[Epoch   7] | Step  2600 | Train RMSE 8.71285 | Valid RMSE 8.69678\n",
      "[Epoch   7] | Step  2700 | Train RMSE 8.71453 | Valid RMSE 8.69457\n",
      "[Epoch   7] | Step  2800 | Train RMSE 8.75552 | Valid RMSE 8.73573\n",
      "[Epoch   7] | Step  2900 | Train RMSE 8.70364 | Valid RMSE 8.68074\n",
      "[Epoch   8] | Step  3000 | Train RMSE 8.71106 | Valid RMSE 8.68723\n",
      "[Epoch   8] | Step  3100 | Train RMSE 8.68990 | Valid RMSE 8.67343\n",
      "[Epoch   8] | Step  3200 | Train RMSE 8.70544 | Valid RMSE 8.68895\n",
      "[Epoch   8] | Step  3300 | Train RMSE 8.67836 | Valid RMSE 8.66200\n",
      "[Epoch   9] | Step  3400 | Train RMSE 8.67260 | Valid RMSE 8.65721\n",
      "[Epoch   9] | Step  3500 | Train RMSE 8.67881 | Valid RMSE 8.67193\n",
      "[Epoch   9] | Step  3600 | Train RMSE 8.69929 | Valid RMSE 8.68410\n",
      "[Epoch   9] | Step  3700 | Train RMSE 8.67327 | Valid RMSE 8.65881\n",
      "[Epoch  10] | Step  3800 | Train RMSE 8.67492 | Valid RMSE 8.66485\n",
      "[Epoch  10] | Step  3900 | Train RMSE 8.67403 | Valid RMSE 8.66435\n",
      "[Epoch  10] | Step  4000 | Train RMSE 8.66017 | Valid RMSE 8.65152\n",
      "[Epoch  10] | Step  4100 | Train RMSE 8.68144 | Valid RMSE 8.67681\n",
      "[Epoch  11] | Step  4200 | Train RMSE 8.65257 | Valid RMSE 8.64709\n",
      "[Epoch  11] | Step  4300 | Train RMSE 8.67527 | Valid RMSE 8.67800\n",
      "[Epoch  11] | Step  4400 | Train RMSE 8.64638 | Valid RMSE 8.64505\n",
      "[Epoch  11] | Step  4500 | Train RMSE 8.63542 | Valid RMSE 8.63910\n",
      "[Epoch  12] | Step  4600 | Train RMSE 8.65604 | Valid RMSE 8.65932\n",
      "[Epoch  12] | Step  4700 | Train RMSE 8.65084 | Valid RMSE 8.65333\n",
      "[Epoch  12] | Step  4800 | Train RMSE 8.65318 | Valid RMSE 8.65543\n",
      "[Epoch  12] | Step  4900 | Train RMSE 8.62690 | Valid RMSE 8.63682\n",
      "[Epoch  12] | Step  5000 | Train RMSE 8.65253 | Valid RMSE 8.66062\n",
      "[Epoch  13] | Step  5100 | Train RMSE 8.62649 | Valid RMSE 8.63103\n",
      "[Epoch  13] | Step  5200 | Train RMSE 8.63095 | Valid RMSE 8.63885\n",
      "[Epoch  13] | Step  5300 | Train RMSE 8.65440 | Valid RMSE 8.65470\n",
      "[Epoch  13] | Step  5400 | Train RMSE 8.62469 | Valid RMSE 8.63285\n",
      "[Epoch  14] | Step  5500 | Train RMSE 8.65066 | Valid RMSE 8.65795\n",
      "[Epoch  14] | Step  5600 | Train RMSE 8.64864 | Valid RMSE 8.65565\n",
      "[Epoch  14] | Step  5700 | Train RMSE 8.64897 | Valid RMSE 8.65776\n",
      "[Epoch  14] | Step  5800 | Train RMSE 8.60354 | Valid RMSE 8.61573\n",
      "[Epoch  15] | Step  5900 | Train RMSE 8.61802 | Valid RMSE 8.63633\n",
      "[Epoch  15] | Step  6000 | Train RMSE 8.63295 | Valid RMSE 8.65125\n",
      "[Epoch  15] | Step  6100 | Train RMSE 8.62867 | Valid RMSE 8.64364\n",
      "[Epoch  15] | Step  6200 | Train RMSE 8.60282 | Valid RMSE 8.62275\n",
      "[Epoch  16] | Step  6300 | Train RMSE 8.61658 | Valid RMSE 8.63576\n",
      "[Epoch  16] | Step  6400 | Train RMSE 8.60690 | Valid RMSE 8.63547\n",
      "[Epoch  16] | Step  6500 | Train RMSE 8.62630 | Valid RMSE 8.64306\n",
      "[Epoch  16] | Step  6600 | Train RMSE 8.61243 | Valid RMSE 8.62984\n",
      "[Epoch  17] | Step  6700 | Train RMSE 8.58060 | Valid RMSE 8.60944\n",
      "[Epoch  17] | Step  6800 | Train RMSE 8.59315 | Valid RMSE 8.61280\n",
      "[Epoch  17] | Step  6900 | Train RMSE 8.59848 | Valid RMSE 8.62792\n",
      "[Epoch  17] | Step  7000 | Train RMSE 8.61858 | Valid RMSE 8.63527\n",
      "[Epoch  17] | Step  7100 | Train RMSE 8.63753 | Valid RMSE 8.65372\n",
      "[Epoch  18] | Step  7200 | Train RMSE 8.60125 | Valid RMSE 8.62448\n",
      "[Epoch  18] | Step  7300 | Train RMSE 8.60500 | Valid RMSE 8.63089\n",
      "[Epoch  18] | Step  7400 | Train RMSE 8.60758 | Valid RMSE 8.62631\n",
      "[Epoch  18] | Step  7500 | Train RMSE 8.61282 | Valid RMSE 8.63297\n",
      "[Epoch  19] | Step  7600 | Train RMSE 8.60080 | Valid RMSE 8.62907\n",
      "[Epoch  19] | Step  7700 | Train RMSE 8.60731 | Valid RMSE 8.63651\n",
      "[Epoch  19] | Step  7800 | Train RMSE 8.62596 | Valid RMSE 8.65164\n",
      "[Epoch  19] | Step  7900 | Train RMSE 8.62378 | Valid RMSE 8.65748\n",
      "[Epoch  20] | Step  8000 | Train RMSE 8.58495 | Valid RMSE 8.61493\n",
      "[Epoch  20] | Step  8100 | Train RMSE 8.59239 | Valid RMSE 8.62391\n",
      "[Epoch  20] | Step  8200 | Train RMSE 8.60908 | Valid RMSE 8.63581\n",
      "[Epoch  20] | Step  8300 | Train RMSE 8.59400 | Valid RMSE 8.62529\n",
      "[Epoch  21] | Step  8400 | Train RMSE 8.58805 | Valid RMSE 8.62058\n",
      "[Epoch  21] | Step  8500 | Train RMSE 8.57917 | Valid RMSE 8.61220\n",
      "[Epoch  21] | Step  8600 | Train RMSE 8.60696 | Valid RMSE 8.64226\n",
      "[Epoch  21] | Step  8700 | Train RMSE 8.56682 | Valid RMSE 8.59989\n",
      "[Epoch  22] | Step  8800 | Train RMSE 8.59653 | Valid RMSE 8.62309\n",
      "[Epoch  22] | Step  8900 | Train RMSE 8.59572 | Valid RMSE 8.62872\n",
      "[Epoch  22] | Step  9000 | Train RMSE 8.58653 | Valid RMSE 8.61447\n",
      "[Epoch  22] | Step  9100 | Train RMSE 8.59555 | Valid RMSE 8.62199\n",
      "[Epoch  23] | Step  9200 | Train RMSE 8.57657 | Valid RMSE 8.60779\n",
      "[Epoch  23] | Step  9300 | Train RMSE 8.59346 | Valid RMSE 8.63267\n",
      "[Epoch  23] | Step  9400 | Train RMSE 8.57843 | Valid RMSE 8.61512\n",
      "[Epoch  23] | Step  9500 | Train RMSE 8.60593 | Valid RMSE 8.63467\n",
      "[Epoch  23] | Step  9600 | Train RMSE 8.59249 | Valid RMSE 8.62906\n",
      "[Epoch  24] | Step  9700 | Train RMSE 8.59371 | Valid RMSE 8.63016\n",
      "[Epoch  24] | Step  9800 | Train RMSE 8.57800 | Valid RMSE 8.61535\n",
      "[Epoch  24] | Step  9900 | Train RMSE 8.57975 | Valid RMSE 8.61519\n",
      "[Epoch  24] | Step 10000 | Train RMSE 8.58009 | Valid RMSE 8.61900\n",
      "[Epoch  25] | Step 10100 | Train RMSE 8.58690 | Valid RMSE 8.62439\n",
      "[Epoch  25] | Step 10200 | Train RMSE 8.58014 | Valid RMSE 8.61910\n",
      "[Epoch  25] | Step 10300 | Train RMSE 8.57257 | Valid RMSE 8.61613\n",
      "[Epoch  25] | Step 10400 | Train RMSE 8.57818 | Valid RMSE 8.62151\n",
      "[Epoch  26] | Step 10500 | Train RMSE 8.56784 | Valid RMSE 8.61394\n",
      "[Epoch  26] | Step 10600 | Train RMSE 8.57402 | Valid RMSE 8.62014\n",
      "[Epoch  26] | Step 10700 | Train RMSE 8.56078 | Valid RMSE 8.60593\n",
      "[Epoch  26] | Step 10800 | Train RMSE 8.58131 | Valid RMSE 8.62126\n",
      "[Epoch  27] | Step 10900 | Train RMSE 8.56817 | Valid RMSE 8.60061\n",
      "[Epoch  27] | Step 11000 | Train RMSE 8.56767 | Valid RMSE 8.60468\n",
      "[Epoch  27] | Step 11100 | Train RMSE 8.57495 | Valid RMSE 8.61949\n",
      "[Epoch  27] | Step 11200 | Train RMSE 8.57654 | Valid RMSE 8.61780\n",
      "[Epoch  28] | Step 11300 | Train RMSE 8.58080 | Valid RMSE 8.62469\n",
      "[Epoch  28] | Step 11400 | Train RMSE 8.56430 | Valid RMSE 8.60623\n",
      "[Epoch  28] | Step 11500 | Train RMSE 8.54880 | Valid RMSE 8.59797\n",
      "[Epoch  28] | Step 11600 | Train RMSE 8.56234 | Valid RMSE 8.59735\n",
      "[Epoch  28] | Step 11700 | Train RMSE 8.56828 | Valid RMSE 8.60408\n",
      "[Epoch  29] | Step 11800 | Train RMSE 8.56862 | Valid RMSE 8.61247\n",
      "[Epoch  29] | Step 11900 | Train RMSE 8.55521 | Valid RMSE 8.59376\n",
      "[Epoch  29] | Step 12000 | Train RMSE 8.57099 | Valid RMSE 8.60426\n",
      "[Epoch  29] | Step 12100 | Train RMSE 8.56278 | Valid RMSE 8.60168\n",
      "[Epoch  30] | Step 12200 | Train RMSE 8.56204 | Valid RMSE 8.60634\n",
      "[Epoch  30] | Step 12300 | Train RMSE 8.55910 | Valid RMSE 8.60364\n",
      "[Epoch  30] | Step 12400 | Train RMSE 8.55074 | Valid RMSE 8.59633\n",
      "[Epoch  30] | Step 12500 | Train RMSE 8.56833 | Valid RMSE 8.60980\n",
      "[Epoch  31] | Step 12600 | Train RMSE 8.54335 | Valid RMSE 8.58894\n",
      "[Epoch  31] | Step 12700 | Train RMSE 8.53354 | Valid RMSE 8.58567\n",
      "[Epoch  31] | Step 12800 | Train RMSE 8.56112 | Valid RMSE 8.61124\n",
      "[Epoch  31] | Step 12900 | Train RMSE 8.56899 | Valid RMSE 8.62110\n",
      "[Epoch  32] | Step 13000 | Train RMSE 8.56455 | Valid RMSE 8.61112\n",
      "[Epoch  32] | Step 13100 | Train RMSE 8.54899 | Valid RMSE 8.59772\n",
      "[Epoch  32] | Step 13200 | Train RMSE 8.53873 | Valid RMSE 8.59712\n",
      "[Epoch  32] | Step 13300 | Train RMSE 8.54154 | Valid RMSE 8.59440\n",
      "[Epoch  33] | Step 13400 | Train RMSE 8.54803 | Valid RMSE 8.59825\n",
      "[Epoch  33] | Step 13500 | Train RMSE 8.55527 | Valid RMSE 8.60382\n",
      "[Epoch  33] | Step 13600 | Train RMSE 8.55276 | Valid RMSE 8.60421\n",
      "[Epoch  33] | Step 13700 | Train RMSE 8.54429 | Valid RMSE 8.59746\n",
      "[Epoch  34] | Step 13800 | Train RMSE 8.54189 | Valid RMSE 8.59677\n",
      "[Epoch  34] | Step 13900 | Train RMSE 8.53918 | Valid RMSE 8.60212\n",
      "[Epoch  34] | Step 14000 | Train RMSE 8.54110 | Valid RMSE 8.59736\n",
      "[Epoch  34] | Step 14100 | Train RMSE 8.55999 | Valid RMSE 8.61049\n",
      "[Epoch  34] | Step 14200 | Train RMSE 8.54573 | Valid RMSE 8.59956\n",
      "[Epoch  35] | Step 14300 | Train RMSE 8.53886 | Valid RMSE 8.59479\n",
      "[Epoch  35] | Step 14400 | Train RMSE 8.53107 | Valid RMSE 8.58443\n",
      "[Epoch  35] | Step 14500 | Train RMSE 8.55017 | Valid RMSE 8.60329\n",
      "[Epoch  35] | Step 14600 | Train RMSE 8.55183 | Valid RMSE 8.60456\n",
      "[Epoch  36] | Step 14700 | Train RMSE 8.52971 | Valid RMSE 8.59306\n",
      "[Epoch  36] | Step 14800 | Train RMSE 8.53251 | Valid RMSE 8.59313\n",
      "[Epoch  36] | Step 14900 | Train RMSE 8.54921 | Valid RMSE 8.60109\n",
      "[Epoch  36] | Step 15000 | Train RMSE 8.53228 | Valid RMSE 8.57873\n",
      "[Epoch  37] | Step 15100 | Train RMSE 8.54333 | Valid RMSE 8.59502\n",
      "[Epoch  37] | Step 15200 | Train RMSE 8.54286 | Valid RMSE 8.60199\n",
      "[Epoch  37] | Step 15300 | Train RMSE 8.51776 | Valid RMSE 8.58587\n",
      "[Epoch  37] | Step 15400 | Train RMSE 8.52711 | Valid RMSE 8.59015\n",
      "[Epoch  38] | Step 15500 | Train RMSE 8.53607 | Valid RMSE 8.59410\n",
      "[Epoch  38] | Step 15600 | Train RMSE 8.53425 | Valid RMSE 8.59404\n",
      "[Epoch  38] | Step 15700 | Train RMSE 8.52782 | Valid RMSE 8.58558\n",
      "[Epoch  38] | Step 15800 | Train RMSE 8.53909 | Valid RMSE 8.59921\n",
      "[Epoch  39] | Step 15900 | Train RMSE 8.52390 | Valid RMSE 8.58401\n",
      "[Epoch  39] | Step 16000 | Train RMSE 8.52111 | Valid RMSE 8.59331\n",
      "[Epoch  39] | Step 16100 | Train RMSE 8.51368 | Valid RMSE 8.58264\n",
      "[Epoch  39] | Step 16200 | Train RMSE 8.52863 | Valid RMSE 8.59067\n",
      "[Epoch  39] | Step 16300 | Train RMSE 8.53031 | Valid RMSE 8.59998\n",
      "[Epoch  40] | Step 16400 | Train RMSE 8.53606 | Valid RMSE 8.60395\n",
      "[Epoch  40] | Step 16500 | Train RMSE 8.52374 | Valid RMSE 8.58660\n",
      "[Epoch  40] | Step 16600 | Train RMSE 8.52686 | Valid RMSE 8.59306\n",
      "[Epoch  40] | Step 16700 | Train RMSE 8.52874 | Valid RMSE 8.59256\n",
      "[Epoch  41] | Step 16800 | Train RMSE 8.52744 | Valid RMSE 8.59104\n",
      "[Epoch  41] | Step 16900 | Train RMSE 8.52506 | Valid RMSE 8.58431\n",
      "[Epoch  41] | Step 17000 | Train RMSE 8.52213 | Valid RMSE 8.57951\n",
      "[Epoch  41] | Step 17100 | Train RMSE 8.52008 | Valid RMSE 8.58572\n",
      "[Epoch  42] | Step 17200 | Train RMSE 8.52911 | Valid RMSE 8.59645\n",
      "[Epoch  42] | Step 17300 | Train RMSE 8.52236 | Valid RMSE 8.59460\n",
      "[Epoch  42] | Step 17400 | Train RMSE 8.52090 | Valid RMSE 8.58696\n",
      "[Epoch  42] | Step 17500 | Train RMSE 8.53185 | Valid RMSE 8.59487\n",
      "[Epoch  43] | Step 17600 | Train RMSE 8.51358 | Valid RMSE 8.58361\n",
      "[Epoch  43] | Step 17700 | Train RMSE 8.52518 | Valid RMSE 8.59934\n",
      "[Epoch  43] | Step 17800 | Train RMSE 8.52265 | Valid RMSE 8.58550\n",
      "[Epoch  43] | Step 17900 | Train RMSE 8.51862 | Valid RMSE 8.58863\n",
      "[Epoch  44] | Step 18000 | Train RMSE 8.53041 | Valid RMSE 8.59543\n",
      "[Epoch  44] | Step 18100 | Train RMSE 8.52145 | Valid RMSE 8.59164\n",
      "[Epoch  44] | Step 18200 | Train RMSE 8.51304 | Valid RMSE 8.57543\n",
      "[Epoch  44] | Step 18300 | Train RMSE 8.52458 | Valid RMSE 8.58409\n",
      "[Epoch  45] | Step 18400 | Train RMSE 8.54476 | Valid RMSE 8.59720\n",
      "[Epoch  45] | Step 18500 | Train RMSE 8.52286 | Valid RMSE 8.59082\n",
      "[Epoch  45] | Step 18600 | Train RMSE 8.51979 | Valid RMSE 8.58898\n",
      "[Epoch  45] | Step 18700 | Train RMSE 8.50424 | Valid RMSE 8.58420\n",
      "[Epoch  45] | Step 18800 | Train RMSE 8.50403 | Valid RMSE 8.57988\n",
      "[Epoch  46] | Step 18900 | Train RMSE 8.51935 | Valid RMSE 8.59607\n",
      "[Epoch  46] | Step 19000 | Train RMSE 8.50228 | Valid RMSE 8.57793\n",
      "[Epoch  46] | Step 19100 | Train RMSE 8.51582 | Valid RMSE 8.58828\n",
      "[Epoch  46] | Step 19200 | Train RMSE 8.52320 | Valid RMSE 8.59372\n",
      "[Epoch  47] | Step 19300 | Train RMSE 8.51123 | Valid RMSE 8.58358\n",
      "[Epoch  47] | Step 19400 | Train RMSE 8.55286 | Valid RMSE 8.61836\n",
      "[Epoch  47] | Step 19500 | Train RMSE 8.53387 | Valid RMSE 8.60201\n",
      "[Epoch  47] | Step 19600 | Train RMSE 8.51838 | Valid RMSE 8.58816\n",
      "[Epoch  48] | Step 19700 | Train RMSE 8.53669 | Valid RMSE 8.60556\n",
      "[Epoch  48] | Step 19800 | Train RMSE 8.52461 | Valid RMSE 8.59919\n",
      "[Epoch  48] | Step 19900 | Train RMSE 8.51909 | Valid RMSE 8.59072\n",
      "[Epoch  48] | Step 20000 | Train RMSE 8.52071 | Valid RMSE 8.59542\n",
      "[Epoch  49] | Step 20100 | Train RMSE 8.51746 | Valid RMSE 8.59043\n",
      "[Epoch  49] | Step 20200 | Train RMSE 8.49990 | Valid RMSE 8.57225\n",
      "[Epoch  49] | Step 20300 | Train RMSE 8.52239 | Valid RMSE 8.58479\n",
      "[Epoch  49] | Step 20400 | Train RMSE 8.53009 | Valid RMSE 8.59647\n",
      "[Epoch  50] | Step 20500 | Train RMSE 8.51227 | Valid RMSE 8.58279\n",
      "[Epoch  50] | Step 20600 | Train RMSE 8.50658 | Valid RMSE 8.58630\n",
      "[Epoch  50] | Step 20700 | Train RMSE 8.51169 | Valid RMSE 8.58242\n",
      "[Epoch  50] | Step 20800 | Train RMSE 8.50731 | Valid RMSE 8.57614\n",
      "[Epoch  50] | Step 20900 | Train RMSE 8.52936 | Valid RMSE 8.59493\n",
      "[Epoch  51] | Step 21000 | Train RMSE 8.49837 | Valid RMSE 8.57000\n",
      "[Epoch  51] | Step 21100 | Train RMSE 8.49573 | Valid RMSE 8.57162\n",
      "[Epoch  51] | Step 21200 | Train RMSE 8.51667 | Valid RMSE 8.58153\n",
      "[Epoch  51] | Step 21300 | Train RMSE 8.51585 | Valid RMSE 8.58720\n",
      "[Epoch  52] | Step 21400 | Train RMSE 8.51132 | Valid RMSE 8.58421\n",
      "[Epoch  52] | Step 21500 | Train RMSE 8.50957 | Valid RMSE 8.58536\n",
      "[Epoch  52] | Step 21600 | Train RMSE 8.50591 | Valid RMSE 8.58715\n",
      "[Epoch  52] | Step 21700 | Train RMSE 8.53658 | Valid RMSE 8.60503\n",
      "[Epoch  53] | Step 21800 | Train RMSE 8.50411 | Valid RMSE 8.59077\n",
      "[Epoch  53] | Step 21900 | Train RMSE 8.50965 | Valid RMSE 8.59506\n",
      "[Epoch  53] | Step 22000 | Train RMSE 8.49464 | Valid RMSE 8.57718\n",
      "[Epoch  53] | Step 22100 | Train RMSE 8.51842 | Valid RMSE 8.59392\n",
      "[Epoch  54] | Step 22200 | Train RMSE 8.49887 | Valid RMSE 8.58018\n",
      "[Epoch  54] | Step 22300 | Train RMSE 8.52833 | Valid RMSE 8.59736\n",
      "[Epoch  54] | Step 22400 | Train RMSE 8.50622 | Valid RMSE 8.57402\n",
      "[Epoch  54] | Step 22500 | Train RMSE 8.50002 | Valid RMSE 8.57469\n",
      "[Epoch  55] | Step 22600 | Train RMSE 8.53233 | Valid RMSE 8.60581\n",
      "[Epoch  55] | Step 22700 | Train RMSE 8.50001 | Valid RMSE 8.58545\n",
      "[Epoch  55] | Step 22800 | Train RMSE 8.51396 | Valid RMSE 8.59479\n",
      "[Epoch  55] | Step 22900 | Train RMSE 8.53466 | Valid RMSE 8.59956\n",
      "[Epoch  56] | Step 23000 | Train RMSE 8.49130 | Valid RMSE 8.57064\n",
      "[Epoch  56] | Step 23100 | Train RMSE 8.48325 | Valid RMSE 8.56676\n",
      "[Epoch  56] | Step 23200 | Train RMSE 8.50191 | Valid RMSE 8.58386\n",
      "[Epoch  56] | Step 23300 | Train RMSE 8.50341 | Valid RMSE 8.57940\n",
      "[Epoch  56] | Step 23400 | Train RMSE 8.51849 | Valid RMSE 8.59507\n",
      "[Epoch  57] | Step 23500 | Train RMSE 8.49681 | Valid RMSE 8.57982\n",
      "[Epoch  57] | Step 23600 | Train RMSE 8.51558 | Valid RMSE 8.58845\n",
      "[Epoch  57] | Step 23700 | Train RMSE 8.51627 | Valid RMSE 8.59175\n",
      "[Epoch  57] | Step 23800 | Train RMSE 8.49232 | Valid RMSE 8.57230\n",
      "[Epoch  58] | Step 23900 | Train RMSE 8.51548 | Valid RMSE 8.59013\n",
      "[Epoch  58] | Step 24000 | Train RMSE 8.50670 | Valid RMSE 8.58597\n",
      "[Epoch  58] | Step 24100 | Train RMSE 8.50492 | Valid RMSE 8.57683\n",
      "[Epoch  58] | Step 24200 | Train RMSE 8.51405 | Valid RMSE 8.58356\n",
      "[Epoch  59] | Step 24300 | Train RMSE 8.50497 | Valid RMSE 8.58380\n",
      "[Epoch  59] | Step 24400 | Train RMSE 8.51457 | Valid RMSE 8.59993\n",
      "[Epoch  59] | Step 24500 | Train RMSE 8.50388 | Valid RMSE 8.58296\n",
      "[Epoch  59] | Step 24600 | Train RMSE 8.49635 | Valid RMSE 8.57889\n",
      "[Epoch  60] | Step 24700 | Train RMSE 8.51281 | Valid RMSE 8.59992\n",
      "[Epoch  60] | Step 24800 | Train RMSE 8.50613 | Valid RMSE 8.58212\n",
      "[Epoch  60] | Step 24900 | Train RMSE 8.49342 | Valid RMSE 8.57495\n",
      "[Epoch  60] | Step 25000 | Train RMSE 8.50573 | Valid RMSE 8.58626\n",
      "[Epoch  61] | Step 25100 | Train RMSE 8.50984 | Valid RMSE 8.59134\n",
      "[Epoch  61] | Step 25200 | Train RMSE 8.50516 | Valid RMSE 8.57966\n",
      "[Epoch  61] | Step 25300 | Train RMSE 8.51504 | Valid RMSE 8.58658\n",
      "[Epoch  61] | Step 25400 | Train RMSE 8.49783 | Valid RMSE 8.57381\n",
      "[Epoch  62] | Step 25500 | Train RMSE 8.50331 | Valid RMSE 8.58502\n",
      "[Epoch  62] | Step 25600 | Train RMSE 8.51613 | Valid RMSE 8.59906\n",
      "[Epoch  62] | Step 25700 | Train RMSE 8.48638 | Valid RMSE 8.57952\n",
      "[Epoch  62] | Step 25800 | Train RMSE 8.49084 | Valid RMSE 8.57783\n",
      "[Epoch  62] | Step 25900 | Train RMSE 8.48973 | Valid RMSE 8.58721\n",
      "[Epoch  63] | Step 26000 | Train RMSE 8.52807 | Valid RMSE 8.60641\n",
      "[Epoch  63] | Step 26100 | Train RMSE 8.50338 | Valid RMSE 8.59386\n",
      "[Epoch  63] | Step 26200 | Train RMSE 8.48665 | Valid RMSE 8.57541\n",
      "[Epoch  63] | Step 26300 | Train RMSE 8.48722 | Valid RMSE 8.58047\n",
      "[Epoch  64] | Step 26400 | Train RMSE 8.50519 | Valid RMSE 8.58792\n",
      "[Epoch  64] | Step 26500 | Train RMSE 8.51033 | Valid RMSE 8.59237\n",
      "[Epoch  64] | Step 26600 | Train RMSE 8.49803 | Valid RMSE 8.58437\n",
      "[Epoch  64] | Step 26700 | Train RMSE 8.49054 | Valid RMSE 8.57721\n",
      "[Epoch  65] | Step 26800 | Train RMSE 8.49626 | Valid RMSE 8.58742\n",
      "[Epoch  65] | Step 26900 | Train RMSE 8.49617 | Valid RMSE 8.58140\n",
      "[Epoch  65] | Step 27000 | Train RMSE 8.49177 | Valid RMSE 8.58141\n",
      "[Epoch  65] | Step 27100 | Train RMSE 8.48788 | Valid RMSE 8.56959\n",
      "[Epoch  66] | Step 27200 | Train RMSE 8.47636 | Valid RMSE 8.56450\n",
      "[Epoch  66] | Step 27300 | Train RMSE 8.47867 | Valid RMSE 8.56600\n",
      "[Epoch  66] | Step 27400 | Train RMSE 8.49459 | Valid RMSE 8.58716\n",
      "[Epoch  66] | Step 27500 | Train RMSE 8.49624 | Valid RMSE 8.57763\n",
      "[Epoch  67] | Step 27600 | Train RMSE 8.47695 | Valid RMSE 8.56319\n",
      "[Epoch  67] | Step 27700 | Train RMSE 8.48764 | Valid RMSE 8.57395\n",
      "[Epoch  67] | Step 27800 | Train RMSE 8.49779 | Valid RMSE 8.58381\n",
      "[Epoch  67] | Step 27900 | Train RMSE 8.48438 | Valid RMSE 8.56384\n",
      "[Epoch  67] | Step 28000 | Train RMSE 8.50492 | Valid RMSE 8.58562\n",
      "[Epoch  68] | Step 28100 | Train RMSE 8.48447 | Valid RMSE 8.57378\n",
      "[Epoch  68] | Step 28200 | Train RMSE 8.49875 | Valid RMSE 8.58903\n",
      "[Epoch  68] | Step 28300 | Train RMSE 8.49350 | Valid RMSE 8.57683\n",
      "[Epoch  68] | Step 28400 | Train RMSE 8.48762 | Valid RMSE 8.57255\n",
      "[Epoch  69] | Step 28500 | Train RMSE 8.49142 | Valid RMSE 8.57363\n",
      "[Epoch  69] | Step 28600 | Train RMSE 8.49715 | Valid RMSE 8.57714\n",
      "[Epoch  69] | Step 28700 | Train RMSE 8.51245 | Valid RMSE 8.58713\n",
      "[Epoch  69] | Step 28800 | Train RMSE 8.49534 | Valid RMSE 8.57673\n",
      "[Epoch  70] | Step 28900 | Train RMSE 8.47919 | Valid RMSE 8.57079\n",
      "[Epoch  70] | Step 29000 | Train RMSE 8.48200 | Valid RMSE 8.57155\n",
      "[Epoch  70] | Step 29100 | Train RMSE 8.49471 | Valid RMSE 8.57313\n",
      "[Epoch  70] | Step 29200 | Train RMSE 8.47979 | Valid RMSE 8.56953\n",
      "[Epoch  71] | Step 29300 | Train RMSE 8.48532 | Valid RMSE 8.57482\n",
      "[Epoch  71] | Step 29400 | Train RMSE 8.47754 | Valid RMSE 8.56448\n",
      "[Epoch  71] | Step 29500 | Train RMSE 8.48892 | Valid RMSE 8.56947\n",
      "[Epoch  71] | Step 29600 | Train RMSE 8.49036 | Valid RMSE 8.57289\n",
      "[Epoch  72] | Step 29700 | Train RMSE 8.49516 | Valid RMSE 8.57247\n",
      "[Epoch  72] | Step 29800 | Train RMSE 8.49983 | Valid RMSE 8.58500\n",
      "[Epoch  72] | Step 29900 | Train RMSE 8.47196 | Valid RMSE 8.56673\n",
      "[Epoch  72] | Step 30000 | Train RMSE 8.48542 | Valid RMSE 8.57303\n",
      "[Epoch  73] | Step 30100 | Train RMSE 8.49345 | Valid RMSE 8.57067\n",
      "[Epoch  73] | Step 30200 | Train RMSE 8.49461 | Valid RMSE 8.57077\n",
      "[Epoch  73] | Step 30300 | Train RMSE 8.49998 | Valid RMSE 8.56661\n",
      "[Epoch  73] | Step 30400 | Train RMSE 8.48624 | Valid RMSE 8.56975\n",
      "[Epoch  73] | Step 30500 | Train RMSE 8.48701 | Valid RMSE 8.57268\n",
      "[Epoch  74] | Step 30600 | Train RMSE 8.48104 | Valid RMSE 8.56784\n",
      "[Epoch  74] | Step 30700 | Train RMSE 8.49671 | Valid RMSE 8.58657\n",
      "[Epoch  74] | Step 30800 | Train RMSE 8.48922 | Valid RMSE 8.57828\n",
      "[Epoch  74] | Step 30900 | Train RMSE 8.48062 | Valid RMSE 8.56929\n",
      "[Epoch  75] | Step 31000 | Train RMSE 8.49263 | Valid RMSE 8.58387\n",
      "[Epoch  75] | Step 31100 | Train RMSE 8.49533 | Valid RMSE 8.58561\n",
      "[Epoch  75] | Step 31200 | Train RMSE 8.46553 | Valid RMSE 8.55674\n",
      "[Epoch  75] | Step 31300 | Train RMSE 8.48351 | Valid RMSE 8.57209\n",
      "[Epoch  76] | Step 31400 | Train RMSE 8.48895 | Valid RMSE 8.57475\n",
      "[Epoch  76] | Step 31500 | Train RMSE 8.49386 | Valid RMSE 8.57769\n",
      "[Epoch  76] | Step 31600 | Train RMSE 8.48246 | Valid RMSE 8.56193\n",
      "[Epoch  76] | Step 31700 | Train RMSE 8.49495 | Valid RMSE 8.58405\n",
      "[Epoch  77] | Step 31800 | Train RMSE 8.47945 | Valid RMSE 8.57076\n",
      "[Epoch  77] | Step 31900 | Train RMSE 8.48217 | Valid RMSE 8.57033\n",
      "[Epoch  77] | Step 32000 | Train RMSE 8.48685 | Valid RMSE 8.57656\n",
      "[Epoch  77] | Step 32100 | Train RMSE 8.48600 | Valid RMSE 8.56377\n",
      "[Epoch  78] | Step 32200 | Train RMSE 8.48986 | Valid RMSE 8.58079\n",
      "[Epoch  78] | Step 32300 | Train RMSE 8.46658 | Valid RMSE 8.55662\n",
      "[Epoch  78] | Step 32400 | Train RMSE 8.47135 | Valid RMSE 8.56212\n",
      "[Epoch  78] | Step 32500 | Train RMSE 8.50482 | Valid RMSE 8.58600\n",
      "[Epoch  78] | Step 32600 | Train RMSE 8.49047 | Valid RMSE 8.57449\n",
      "[Epoch  79] | Step 32700 | Train RMSE 8.47069 | Valid RMSE 8.56928\n",
      "[Epoch  79] | Step 32800 | Train RMSE 8.48028 | Valid RMSE 8.57439\n",
      "[Epoch  79] | Step 32900 | Train RMSE 8.48562 | Valid RMSE 8.57860\n",
      "[Epoch  79] | Step 33000 | Train RMSE 8.50147 | Valid RMSE 8.60332\n",
      "[Epoch  80] | Step 33100 | Train RMSE 8.47546 | Valid RMSE 8.58374\n",
      "[Epoch  80] | Step 33200 | Train RMSE 8.48343 | Valid RMSE 8.57912\n",
      "[Epoch  80] | Step 33300 | Train RMSE 8.48304 | Valid RMSE 8.57162\n",
      "[Epoch  80] | Step 33400 | Train RMSE 8.48450 | Valid RMSE 8.57197\n",
      "[Epoch  81] | Step 33500 | Train RMSE 8.47022 | Valid RMSE 8.56928\n",
      "[Epoch  81] | Step 33600 | Train RMSE 8.47560 | Valid RMSE 8.56833\n",
      "[Epoch  81] | Step 33700 | Train RMSE 8.49511 | Valid RMSE 8.58505\n",
      "[Epoch  81] | Step 33800 | Train RMSE 8.47857 | Valid RMSE 8.57288\n",
      "[Epoch  82] | Step 33900 | Train RMSE 8.47147 | Valid RMSE 8.57367\n",
      "[Epoch  82] | Step 34000 | Train RMSE 8.48293 | Valid RMSE 8.57763\n",
      "[Epoch  82] | Step 34100 | Train RMSE 8.47638 | Valid RMSE 8.57100\n",
      "[Epoch  82] | Step 34200 | Train RMSE 8.48866 | Valid RMSE 8.57627\n",
      "[Epoch  83] | Step 34300 | Train RMSE 8.47764 | Valid RMSE 8.57131\n",
      "[Epoch  83] | Step 34400 | Train RMSE 8.49660 | Valid RMSE 8.59133\n",
      "[Epoch  83] | Step 34500 | Train RMSE 8.48231 | Valid RMSE 8.57539\n",
      "[Epoch  83] | Step 34600 | Train RMSE 8.48404 | Valid RMSE 8.56665\n",
      "[Epoch  84] | Step 34700 | Train RMSE 8.48514 | Valid RMSE 8.57652\n",
      "[Epoch  84] | Step 34800 | Train RMSE 8.47469 | Valid RMSE 8.56940\n",
      "[Epoch  84] | Step 34900 | Train RMSE 8.48980 | Valid RMSE 8.58236\n",
      "[Epoch  84] | Step 35000 | Train RMSE 8.48160 | Valid RMSE 8.57873\n",
      "[Epoch  84] | Step 35100 | Train RMSE 8.47805 | Valid RMSE 8.57399\n",
      "[Epoch  85] | Step 35200 | Train RMSE 8.45788 | Valid RMSE 8.56231\n",
      "[Epoch  85] | Step 35300 | Train RMSE 8.47260 | Valid RMSE 8.56788\n",
      "[Epoch  85] | Step 35400 | Train RMSE 8.49172 | Valid RMSE 8.57557\n",
      "[Epoch  85] | Step 35500 | Train RMSE 8.49155 | Valid RMSE 8.58570\n",
      "[Epoch  86] | Step 35600 | Train RMSE 8.49323 | Valid RMSE 8.58577\n",
      "[Epoch  86] | Step 35700 | Train RMSE 8.47503 | Valid RMSE 8.57164\n",
      "[Epoch  86] | Step 35800 | Train RMSE 8.48909 | Valid RMSE 8.58684\n",
      "[Epoch  86] | Step 35900 | Train RMSE 8.46117 | Valid RMSE 8.56643\n",
      "[Epoch  87] | Step 36000 | Train RMSE 8.47146 | Valid RMSE 8.57504\n",
      "[Epoch  87] | Step 36100 | Train RMSE 8.48589 | Valid RMSE 8.59374\n",
      "[Epoch  87] | Step 36200 | Train RMSE 8.48550 | Valid RMSE 8.58500\n",
      "[Epoch  87] | Step 36300 | Train RMSE 8.45976 | Valid RMSE 8.56797\n",
      "[Epoch  88] | Step 36400 | Train RMSE 8.46360 | Valid RMSE 8.56961\n",
      "[Epoch  88] | Step 36500 | Train RMSE 8.46880 | Valid RMSE 8.57201\n",
      "[Epoch  88] | Step 36600 | Train RMSE 8.49159 | Valid RMSE 8.58822\n",
      "[Epoch  88] | Step 36700 | Train RMSE 8.47433 | Valid RMSE 8.57627\n",
      "[Epoch  89] | Step 36800 | Train RMSE 8.48002 | Valid RMSE 8.58227\n",
      "[Epoch  89] | Step 36900 | Train RMSE 8.46820 | Valid RMSE 8.56924\n",
      "[Epoch  89] | Step 37000 | Train RMSE 8.45791 | Valid RMSE 8.56748\n",
      "[Epoch  89] | Step 37100 | Train RMSE 8.48074 | Valid RMSE 8.57760\n",
      "[Epoch  89] | Step 37200 | Train RMSE 8.45363 | Valid RMSE 8.55924\n",
      "[Epoch  90] | Step 37300 | Train RMSE 8.45810 | Valid RMSE 8.56648\n",
      "[Epoch  90] | Step 37400 | Train RMSE 8.47294 | Valid RMSE 8.57694\n",
      "Early stopping at epoch 90\n"
     ]
    }
   ],
   "source": [
    "model, best_net_state, train_loss_list, valid_loss_list = train(net, optimizer=optimizer, loss_func=loss_func, trainloader=subtrainloader, validloader=validloader, epochs=100, model_path=\"model/q5_90.ckpt\")"
   ]
  },
  {
   "cell_type": "code",
   "execution_count": 47,
   "metadata": {},
   "outputs": [
    {
     "data": {
      "text/plain": [
       "[Text(0.5, 0, 'number of batches'), Text(0, 0.5, 'RMSE')]"
      ]
     },
     "execution_count": 47,
     "metadata": {},
     "output_type": "execute_result"
    },
    {
     "data": {
      "image/png": "[encoded data removed]",
      "text/plain": [
       "<Figure size 640x480 with 1 Axes>"
      ]
     },
     "metadata": {},
     "output_type": "display_data"
    }
   ],
   "source": [
    "df_loss = pd.DataFrame({\"train_rmse\": train_loss_list, \"valid_rmse\": valid_loss_list})\n",
    "\n",
    "ax = sns.lineplot(data=df_loss, )\n",
    "ax.set(xlabel='number of batches', ylabel='RMSE')"
   ]
  },
  {
   "cell_type": "code",
   "execution_count": 48,
   "metadata": {},
   "outputs": [
    {
     "name": "stdout",
     "output_type": "stream",
     "text": [
      "Test RMSE:  8.763391092610185\n"
     ]
    }
   ],
   "source": [
    "model = torch.load(\"model/q5_90.ckpt\")\n",
    "test(model, testloader)"
   ]
  },
  {
   "cell_type": "markdown",
   "metadata": {},
   "source": [
    "可以看到沒有使用 dropout 且用 SGD 的模型來說，使用 dropout 搭配 Adam 會訓練得更久，到 epoch 90 才停下來。\n",
    "\n",
    "也可以看到 validation RMSE 到 batch 200 之前都呈現持續下降的趨勢，顯示 dropout 搭配 Adam 的這組模型確實能夠有效避免 overfitting。"
   ]
  },
  {
   "cell_type": "markdown",
   "metadata": {},
   "source": [
    "## Q6\n",
    "使用上題的模型，考慮H = 20, 180, 360。 討論H = 20, 45, 180, 360的Test RMSE。"
   ]
  },
  {
   "cell_type": "markdown",
   "metadata": {},
   "source": [
    "### H = 20"
   ]
  },
  {
   "cell_type": "code",
   "execution_count": 49,
   "metadata": {},
   "outputs": [
    {
     "name": "stdout",
     "output_type": "stream",
     "text": [
      "Early stopping at epoch 46\n"
     ]
    }
   ],
   "source": [
    "net = mlp_model_with_dropout(trainset.X.shape[1], 20, 1, 0.5)\n",
    "net = net.float().to(device)\n",
    "optimizer = torch.optim.Adam(net.parameters(), lr=0.001, weight_decay=0)\n",
    "model, best_net_state, _, _ = train(net, optimizer=optimizer, loss_func=loss_func, trainloader=subtrainloader, validloader=validloader, epochs=100, verbose=False, model_path=\"model/q6_20.ckpt\")"
   ]
  },
  {
   "cell_type": "code",
   "execution_count": 50,
   "metadata": {},
   "outputs": [
    {
     "name": "stdout",
     "output_type": "stream",
     "text": [
      "Test RMSE:  9.06878153437954\n"
     ]
    }
   ],
   "source": [
    "model = torch.load(\"model/q6_20.ckpt\")\n",
    "test(model, testloader)"
   ]
  },
  {
   "cell_type": "markdown",
   "metadata": {},
   "source": [
    "### H = 45"
   ]
  },
  {
   "cell_type": "code",
   "execution_count": 51,
   "metadata": {},
   "outputs": [
    {
     "name": "stdout",
     "output_type": "stream",
     "text": [
      "Early stopping at epoch 58\n"
     ]
    }
   ],
   "source": [
    "net = mlp_model_with_dropout(trainset.X.shape[1], 45, 1, 0.5)\n",
    "net = net.float().to(device)\n",
    "optimizer = torch.optim.Adam(net.parameters(), lr=0.001, weight_decay=0)\n",
    "model, best_net_state, _, _ = train(net, optimizer=optimizer, loss_func=loss_func, trainloader=subtrainloader, validloader=validloader, epochs=100, verbose=False, model_path=\"model/q6_45.ckpt\")"
   ]
  },
  {
   "cell_type": "code",
   "execution_count": 52,
   "metadata": {},
   "outputs": [
    {
     "name": "stdout",
     "output_type": "stream",
     "text": [
      "Test RMSE:  8.847487622828474\n"
     ]
    }
   ],
   "source": [
    "model = torch.load(\"model/q6_45.ckpt\")\n",
    "test(model, testloader)"
   ]
  },
  {
   "cell_type": "markdown",
   "metadata": {},
   "source": [
    "### H = 180"
   ]
  },
  {
   "cell_type": "code",
   "execution_count": 53,
   "metadata": {},
   "outputs": [],
   "source": [
    "net = mlp_model_with_dropout(trainset.X.shape[1], 180, 1, 0.5)\n",
    "net = net.float().to(device)\n",
    "optimizer = torch.optim.Adam(net.parameters(), lr=0.001,  weight_decay=0)\n",
    "model, best_net_state, _, _ = train(net, optimizer=optimizer, loss_func=loss_func, trainloader=subtrainloader, validloader=validloader, epochs=100, verbose=False, model_path=\"model/q6_180.ckpt\")"
   ]
  },
  {
   "cell_type": "code",
   "execution_count": 54,
   "metadata": {},
   "outputs": [
    {
     "name": "stdout",
     "output_type": "stream",
     "text": [
      "Test RMSE:  8.765667643256595\n"
     ]
    }
   ],
   "source": [
    "model = torch.load(\"model/q6_180.ckpt\")\n",
    "test(model, testloader)"
   ]
  },
  {
   "cell_type": "markdown",
   "metadata": {},
   "source": [
    "### H = 360"
   ]
  },
  {
   "cell_type": "code",
   "execution_count": 55,
   "metadata": {},
   "outputs": [
    {
     "name": "stdout",
     "output_type": "stream",
     "text": [
      "Early stopping at epoch 72\n"
     ]
    }
   ],
   "source": [
    "net = mlp_model_with_dropout(trainset.X.shape[1], 360, 1, 0.5)\n",
    "net = net.float().to(device)\n",
    "optimizer = torch.optim.Adam(net.parameters(), lr=0.001,  weight_decay=0)\n",
    "model, best_net_state, _, _ = train(net, optimizer=optimizer, loss_func=loss_func, trainloader=subtrainloader, validloader=validloader, epochs=100, verbose=False, model_path=\"model/q6_360.ckpt\")"
   ]
  },
  {
   "cell_type": "code",
   "execution_count": 56,
   "metadata": {},
   "outputs": [
    {
     "name": "stdout",
     "output_type": "stream",
     "text": [
      "Test RMSE:  8.74037183677281\n"
     ]
    }
   ],
   "source": [
    "model = torch.load(\"model/q6_360.ckpt\")\n",
    "test(model, testloader)"
   ]
  },
  {
   "cell_type": "markdown",
   "metadata": {},
   "source": [
    "| H   | RMSE   |\n",
    "|-----|--------|\n",
    "| 20  | 9.0688 |\n",
    "| 45  | 8.8475 |\n",
    "| 90  | 8.7634 |\n",
    "| 180 | 8.7657 |\n",
    "| 360 | 8.7404 |"
   ]
  },
  {
   "cell_type": "markdown",
   "metadata": {},
   "source": [
    "針對有 dropout 且使用 Adam 的模型，我們可以發現大致上 H 愈大，RMSE 愈小，當 H=360 時，有最小的 RMSE=8.7404。"
   ]
  },
  {
   "cell_type": "markdown",
   "metadata": {},
   "source": [
    "## Q7\n",
    "\n",
    "我們前面的小題皆是使用SSE，也就是L2 Loss。一個改善模型訓練的方式是使用多種類似的Loss，以線性組合的方式建構Loss Function。請使用Q5中的MLP with Dropout模型 (H = 90)，並以L2 + L1 Loss訓練模型。這個Loss的定義如下:\n",
    "\n",
    "$$\n",
    "loss(\\mathbf{y}, \\hat{\\mathbf{y}}) = z \\sum_{i=1}^n (y_i - \\hat{y}_i)^2 + (1 - z) \\sum_{i = 1}^n | y_i - \\hat{y}_i |,\n",
    "$$\n",
    "其中z為實數且$0 <=z <= 1$。\n",
    "\n",
    "使用z = 0.5。並以Adam訓練模型。畫出Training and Validation RMSE，並報告Test RMSE。注意這裡繪圖時應使用RMSE而不是這個特殊的Loss。\n",
    "\n",
    "另外，使用z = 0.0, 0.1, 0.9, 1.0訓練模型(不須提供訓練過程的Loss圖形)，統整各個z值下的Test RMSE並討論。"
   ]
  },
  {
   "cell_type": "code",
   "execution_count": 57,
   "metadata": {},
   "outputs": [],
   "source": [
    "def l2l1_loss_func(outputs, targets, z=0.5):\n",
    "    return z * torch.nn.MSELoss(reduction='sum')(outputs, targets) + (1-z) * torch.nn.L1Loss(reduction = 'sum')(outputs, targets)"
   ]
  },
  {
   "cell_type": "code",
   "execution_count": 59,
   "metadata": {},
   "outputs": [],
   "source": [
    "net = mlp_model_with_dropout(trainset.X.shape[1], 90, 1, 0.5)\n",
    "net = net.float().to(device)\n",
    "optimizer = torch.optim.Adam(net.parameters(), lr=0.001, weight_decay=0)\n",
    "model, best_net_state, train_loss_list, valid_loss_list = train(net, optimizer=optimizer, loss_func=l2l1_loss_func, trainloader=subtrainloader, validloader=validloader, epochs=100, verbose=False, model_path=\"model/q7_0.5.ckpt\")"
   ]
  },
  {
   "cell_type": "code",
   "execution_count": 60,
   "metadata": {},
   "outputs": [
    {
     "data": {
      "text/plain": [
       "[Text(0.5, 0, 'number of batches'), Text(0, 0.5, 'RMSE')]"
      ]
     },
     "execution_count": 60,
     "metadata": {},
     "output_type": "execute_result"
    },
    {
     "data": {
      "image/png": "[encoded data removed]",
      "text/plain": [
       "<Figure size 640x480 with 1 Axes>"
      ]
     },
     "metadata": {},
     "output_type": "display_data"
    }
   ],
   "source": [
    "df_loss = pd.DataFrame({\"train_rmse\": train_loss_list, \"valid_rmse\": valid_loss_list})\n",
    "\n",
    "ax = sns.lineplot(data=df_loss, )\n",
    "ax.set(xlabel='number of batches', ylabel='RMSE')"
   ]
  },
  {
   "cell_type": "code",
   "execution_count": 61,
   "metadata": {},
   "outputs": [
    {
     "name": "stdout",
     "output_type": "stream",
     "text": [
      "Test RMSE:  8.76065427621565\n"
     ]
    }
   ],
   "source": [
    "model = torch.load(\"model/q7_0.5.ckpt\")\n",
    "test(model, testloader)"
   ]
  },
  {
   "cell_type": "markdown",
   "metadata": {},
   "source": [
    "在本題中，我們可以看到調整過後的 loss function 帶來更好的結果，validation RMSE 一直到 epoch 100 都持續呈現下降趨勢。"
   ]
  },
  {
   "cell_type": "code",
   "execution_count": 62,
   "metadata": {},
   "outputs": [
    {
     "name": "stdout",
     "output_type": "stream",
     "text": [
      "z =  0.0\n",
      "Early stopping at epoch 47\n",
      "Test RMSE:  8.97248520992324\n",
      "\n",
      "z =  0.1\n",
      "Early stopping at epoch 85\n",
      "Test RMSE:  8.75208426969091\n",
      "\n",
      "z =  0.9\n",
      "Early stopping at epoch 62\n",
      "Test RMSE:  8.75953474930647\n",
      "\n",
      "z =  1.0\n",
      "Early stopping at epoch 98\n",
      "Test RMSE:  8.763557932957136\n",
      "\n"
     ]
    }
   ],
   "source": [
    "z_list= [0.0, 0.1, 0.9, 1.0]\n",
    "\n",
    "for z in z_list:\n",
    "    print(\"z = \", z)\n",
    "    net = mlp_model_with_dropout(trainset.X.shape[1], 90, 1, 0.5)\n",
    "    net = net.float().to(device)\n",
    "    optimizer = torch.optim.Adam(net.parameters(), lr=0.001, weight_decay=0)\n",
    "    def l2l1_loss_func(outputs, targets, z=z):\n",
    "        return z * torch.nn.MSELoss(reduction='sum')(outputs, targets) + (1-z) * torch.nn.L1Loss(reduction = 'sum')(outputs, targets)\n",
    "    model, best_net_state, _, _ = train(net, optimizer=optimizer, loss_func=l2l1_loss_func, trainloader=subtrainloader, validloader=validloader, epochs=100, verbose=False, model_path=f\"model/q7_{z}.ckpt\")\n",
    "    model = torch.load(f\"model/q7_{z}.ckpt\")\n",
    "    test(model, testloader)\n",
    "    print()"
   ]
  },
  {
   "cell_type": "markdown",
   "metadata": {},
   "source": [
    "| z   | RMSE   |\n",
    "|-----|--------|\n",
    "| 0   | 8.9725 |\n",
    "| 0.1 | 8.7521 |\n",
    "| 0.5 | 8.7607 |\n",
    "| 0.9 | 8.7595 |\n",
    "| 1.0 | 8.7636 |"
   ]
  },
  {
   "cell_type": "markdown",
   "metadata": {},
   "source": [
    "可以看到當 $z \\neq 0$ 時，都比 $ z = 0 $ 有比較好的表現，其中當 $z=0.1$ 時，有最好的表現。"
   ]
  },
  {
   "cell_type": "markdown",
   "metadata": {},
   "source": [
    "#### Q8 \n",
    "考慮另一個比較特別的Loss Function\n",
    "\n",
    "$$\n",
    "qloss(\\mathbf{y}, \\hat{\\mathbf{y}}) = \\sum_{i=1}^n \\{ q (y_i - \\hat{y}_i)_+ + (1 - q) (\\hat{y}_i - y_i)_+ \\},\n",
    "$$\n",
    "其中q為參數且$0<=q<=1$，而$(y_i - \\hat{y}_i)_+$是取正值的意思。也就是說如果$(y_i - \\hat{y}_i) > 0$，則$(y_i - \\hat{y}_i)_+ = y_i - \\hat{y}_i$，否則$(y_i - \\hat{y}_i)_+ = 0$。\n",
    "\n",
    "令模型的Loss為$z \\sum_{i=1}^n (y_i - \\hat{y}_i)^2 + (1 - z) \\sum_{i=1}^n \\{ 0.5 (y_i - \\hat{y}_i)_+ + 0.5 (\\hat{y}_i - y_i)_+ \\} $。請使用Q5中的MLP with Dropout模型(H = 90)，令z = 0。並以Adam訓練模型。畫出Training and Validation RMSE，並報告Test RMSE。注意這裡繪圖時應使用RMSE而不是這個特殊的Loss。\n",
    "\n",
    "另外，使用z = 0.1, 0.5, 0.9, 1.0訓練模型(不須提供訓練過程的Loss圖形)，統整各個z值下的Test RMSE並討論。"
   ]
  },
  {
   "cell_type": "code",
   "execution_count": 63,
   "metadata": {},
   "outputs": [],
   "source": [
    "def qloss(outputs, targets, q=0.5):\n",
    "    temp = targets - outputs\n",
    "    loss = torch.max(q*temp, (1-q)*(-temp))\n",
    "    return loss.sum()\n",
    "\n",
    "def special_loss_func(outputs, targets, z=0, q=0.5):\n",
    "    return z * torch.nn.MSELoss(reduction='sum')(outputs, targets) + (1-z) * qloss(outputs, targets, q=q)"
   ]
  },
  {
   "cell_type": "code",
   "execution_count": 64,
   "metadata": {},
   "outputs": [
    {
     "name": "stdout",
     "output_type": "stream",
     "text": [
      "Early stopping at epoch 43\n"
     ]
    }
   ],
   "source": [
    "net = mlp_model_with_dropout(trainset.X.shape[1], 90, 1, 0.5)\n",
    "net = net.float().to(device)\n",
    "optimizer = torch.optim.Adam(net.parameters(), lr=0.001, weight_decay=0)\n",
    "model, best_net_state, train_loss_list, valid_loss_list = train(net, optimizer=optimizer, loss_func=special_loss_func, trainloader=subtrainloader, validloader=validloader, epochs=100, verbose=False, model_path=\"model/q8_0.ckpt\")"
   ]
  },
  {
   "cell_type": "code",
   "execution_count": 68,
   "metadata": {},
   "outputs": [
    {
     "data": {
      "text/plain": [
       "[Text(0.5, 0, 'number of batches'), Text(0, 0.5, 'RMSE')]"
      ]
     },
     "execution_count": 68,
     "metadata": {},
     "output_type": "execute_result"
    },
    {
     "data": {
      "image/png": "[encoded data removed]",
      "text/plain": [
       "<Figure size 640x480 with 1 Axes>"
      ]
     },
     "metadata": {},
     "output_type": "display_data"
    }
   ],
   "source": [
    "df_loss = pd.DataFrame({\"train_rmse\": train_loss_list, \"valid_rmse\": valid_loss_list})\n",
    "\n",
    "ax = sns.lineplot(data=df_loss, dashes=False)\n",
    "ax.set(xlabel='number of batches', ylabel='RMSE')"
   ]
  },
  {
   "cell_type": "code",
   "execution_count": 66,
   "metadata": {},
   "outputs": [
    {
     "name": "stdout",
     "output_type": "stream",
     "text": [
      "Test RMSE:  8.936323391111841\n"
     ]
    }
   ],
   "source": [
    "model = torch.load(\"model/q8_0.ckpt\")\n",
    "test(model, testloader)"
   ]
  },
  {
   "cell_type": "markdown",
   "metadata": {},
   "source": [
    "可以看到採用這個 loss 計算方式之後，validation 以及 training 的 RMSE 呈現幾乎重疊的狀態，代表沒有發生 overfitting 的現象，但缺點就是 Test RMSE 相對其他模型來說比較高一點。"
   ]
  },
  {
   "cell_type": "code",
   "execution_count": 67,
   "metadata": {},
   "outputs": [
    {
     "name": "stdout",
     "output_type": "stream",
     "text": [
      "z =  0.1\n",
      "Early stopping at epoch 69\n",
      "Test RMSE:  8.773000607384914\n",
      "\n",
      "z =  0.5\n",
      "Test RMSE:  8.761629081902841\n",
      "\n",
      "z =  0.9\n",
      "Early stopping at epoch 73\n",
      "Test RMSE:  8.762371497412527\n",
      "\n",
      "z =  1.0\n",
      "Early stopping at epoch 80\n",
      "Test RMSE:  8.762033140099872\n",
      "\n"
     ]
    }
   ],
   "source": [
    "z_list= [0.1, 0.5, 0.9, 1.0]\n",
    "\n",
    "for z in z_list:\n",
    "    print(\"z = \", z)\n",
    "    net = mlp_model_with_dropout(trainset.X.shape[1], 90, 1, 0.5)\n",
    "    net = net.float().to(device)\n",
    "    optimizer = torch.optim.Adam(net.parameters(), lr=0.001, weight_decay=0)\n",
    "    def special_loss_func(outputs, targets, z=z, q=0.5):\n",
    "        return z * torch.nn.MSELoss(reduction='sum')(outputs, targets) + (1-z) * qloss(outputs, targets, q=q)\n",
    "    model, best_net_state, _, _ = train(net, optimizer=optimizer, loss_func=special_loss_func, trainloader=subtrainloader, validloader=validloader, epochs=100, verbose=False, model_path=f\"model/q8_{z}.ckpt\")\n",
    "    model = torch.load(f\"model/q8_{z}.ckpt\")\n",
    "    test(model, testloader)\n",
    "    print()"
   ]
  },
  {
   "cell_type": "markdown",
   "metadata": {},
   "source": [
    "| z   | RMSE   |\n",
    "|-----|--------|\n",
    "| 0   | 8.9363 |\n",
    "| 0.1 | 8.7730 |\n",
    "| 0.5 | 8.7616 |\n",
    "| 0.9 | 8.7624 |\n",
    "| 1.0 | 8.7620 |"
   ]
  },
  {
   "cell_type": "markdown",
   "metadata": {},
   "source": [
    "由上表可知，當 z = 0.5, 0.9, 1.0 時，模型都有不錯的表現，但與前一題 L2+L1 Loss 相比，表現稍微比較差一點，本題中，最好的 z 值應設在 0.5，Test RMSE 為 8.7616。"
   ]
  },
  {
   "cell_type": "markdown",
   "metadata": {},
   "source": []
  }
 ],
 "metadata": {
  "kernelspec": {
   "display_name": "Python 3.9.13 ('base')",
   "language": "python",
   "name": "python3"
  },
  "language_info": {
   "codemirror_mode": {
    "name": "ipython",
    "version": 3
   },
   "file_extension": ".py",
   "mimetype": "text/x-python",
   "name": "python",
   "nbconvert_exporter": "python",
   "pygments_lexer": "ipython3",
   "version": "3.9.13"
  },
  "orig_nbformat": 4,
  "vscode": {
   "interpreter": {
    "hash": "6dbc95575655867e559c257dd5e14ad6ab812c6de96b03117bf270d02ef55506"
   }
  }
 },
 "nbformat": 4,
 "nbformat_minor": 2
}
